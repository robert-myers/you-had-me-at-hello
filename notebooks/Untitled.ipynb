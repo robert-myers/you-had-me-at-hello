{
 "cells": [
  {
   "cell_type": "code",
   "execution_count": 1,
   "metadata": {},
   "outputs": [],
   "source": [
    "import pandas as pd\n",
    "import numpy as np\n",
    "from nltk.metrics import edit_distance"
   ]
  },
  {
   "cell_type": "code",
   "execution_count": 2,
   "metadata": {},
   "outputs": [],
   "source": [
    "columns = [\"movie_title\", \"line\", \"line_id\", \"levenshtein_distance_from_script\", \"memorable?\"]"
   ]
  },
  {
   "cell_type": "code",
   "execution_count": 3,
   "metadata": {},
   "outputs": [],
   "source": [
    "with open(\"../data/moviequotes.memorable_nonmemorable_pairs.txt\", \"r\", encoding=\"cp1252\") as f:\n",
    "    lines = f.readlines()\n",
    "\n",
    "rows_lst = []\n",
    "for i in range(0, len(lines), 5):\n",
    "    movie_title = lines[i].strip()\n",
    "    memorable_line = lines[i+1].strip()\n",
    "    \n",
    "    memorable_id = lines[i+2].split()[0]\n",
    "    line_from_script = \" \".join(lines[i+2].split()[1:])\n",
    "    \n",
    "    memorable_row = [movie_title, memorable_line, memorable_id, edit_distance(memorable_line, line_from_script), 1]\n",
    "    row_dct={}\n",
    "    for k, v in zip(columns, memorable_row):\n",
    "        row_dct[k] = v\n",
    "    rows_lst.append(row_dct)\n",
    "    \n",
    "    non_memorable_id = lines[i+3].split()[0]\n",
    "    non_memorable_line = \" \".join(lines[i+3].split()[1:])\n",
    "    \n",
    "    non_memorable_row = [movie_title, non_memorable_line, non_memorable_id, edit_distance(non_memorable_line, non_memorable_line), 0]\n",
    "    row_dct={}\n",
    "    for k, v in zip(columns, non_memorable_row):\n",
    "        row_dct[k] = v\n",
    "    rows_lst.append(row_dct)\n",
    "    \n",
    "df = pd.DataFrame(rows_lst)\n",
    "df[\"line_id\"] = df[\"line_id\"].astype(int)\n",
    "df.set_index(\"line_id\", inplace=True)"
   ]
  },
  {
   "cell_type": "code",
   "execution_count": 4,
   "metadata": {},
   "outputs": [
    {
     "data": {
      "text/plain": [
       "662"
      ]
     },
     "execution_count": 4,
     "metadata": {},
     "output_type": "execute_result"
    }
   ],
   "source": [
    "df[\"movie_title\"].nunique()"
   ]
  },
  {
   "cell_type": "code",
   "execution_count": 6,
   "metadata": {},
   "outputs": [],
   "source": [
    "df.to_csv(\"../data/memorable_nonmemorable_movie_quotes_df.csv\")"
   ]
  },
  {
   "cell_type": "code",
   "execution_count": 7,
   "metadata": {},
   "outputs": [
    {
     "data": {
      "text/html": [
       "<div>\n",
       "<style scoped>\n",
       "    .dataframe tbody tr th:only-of-type {\n",
       "        vertical-align: middle;\n",
       "    }\n",
       "\n",
       "    .dataframe tbody tr th {\n",
       "        vertical-align: top;\n",
       "    }\n",
       "\n",
       "    .dataframe thead th {\n",
       "        text-align: right;\n",
       "    }\n",
       "</style>\n",
       "<table border=\"1\" class=\"dataframe\">\n",
       "  <thead>\n",
       "    <tr style=\"text-align: right;\">\n",
       "      <th></th>\n",
       "      <th>movie_title</th>\n",
       "      <th>line</th>\n",
       "      <th>levenshtein_distance_from_script</th>\n",
       "      <th>memorable?</th>\n",
       "    </tr>\n",
       "    <tr>\n",
       "      <th>line_id</th>\n",
       "      <th></th>\n",
       "      <th></th>\n",
       "      <th></th>\n",
       "      <th></th>\n",
       "    </tr>\n",
       "  </thead>\n",
       "  <tbody>\n",
       "    <tr>\n",
       "      <th>516011</th>\n",
       "      <td>the matrix</td>\n",
       "      <td>Tell me, Mr. Anderson, what good is a phone ca...</td>\n",
       "      <td>9</td>\n",
       "      <td>1</td>\n",
       "    </tr>\n",
       "    <tr>\n",
       "      <th>516533</th>\n",
       "      <td>the matrix</td>\n",
       "      <td>But I believe that, as a species, human beings...</td>\n",
       "      <td>0</td>\n",
       "      <td>0</td>\n",
       "    </tr>\n",
       "    <tr>\n",
       "      <th>516175</th>\n",
       "      <td>the matrix</td>\n",
       "      <td>Welcome to the desert of the real.</td>\n",
       "      <td>13</td>\n",
       "      <td>1</td>\n",
       "    </tr>\n",
       "    <tr>\n",
       "      <th>516174</th>\n",
       "      <td>the matrix</td>\n",
       "      <td>This is Chicago as it exists today.</td>\n",
       "      <td>0</td>\n",
       "      <td>0</td>\n",
       "    </tr>\n",
       "    <tr>\n",
       "      <th>516583</th>\n",
       "      <td>the matrix</td>\n",
       "      <td>Find them and destroy them</td>\n",
       "      <td>1</td>\n",
       "      <td>1</td>\n",
       "    </tr>\n",
       "    <tr>\n",
       "      <th>516570</th>\n",
       "      <td>the matrix</td>\n",
       "      <td>Can you hear me, Morpheus?</td>\n",
       "      <td>0</td>\n",
       "      <td>0</td>\n",
       "    </tr>\n",
       "    <tr>\n",
       "      <th>516001</th>\n",
       "      <td>the matrix</td>\n",
       "      <td>I'm going to enjoy watching you die, Mr. Ander...</td>\n",
       "      <td>60</td>\n",
       "      <td>1</td>\n",
       "    </tr>\n",
       "    <tr>\n",
       "      <th>516573</th>\n",
       "      <td>the matrix</td>\n",
       "      <td>I must get out of here, I must get free.</td>\n",
       "      <td>0</td>\n",
       "      <td>0</td>\n",
       "    </tr>\n",
       "    <tr>\n",
       "      <th>516505</th>\n",
       "      <td>the matrix</td>\n",
       "      <td>Never send a human to do a machine's job.</td>\n",
       "      <td>0</td>\n",
       "      <td>1</td>\n",
       "    </tr>\n",
       "    <tr>\n",
       "      <th>516554</th>\n",
       "      <td>the matrix</td>\n",
       "      <td>Human beings are a disease, a cancer of this p...</td>\n",
       "      <td>0</td>\n",
       "      <td>0</td>\n",
       "    </tr>\n",
       "    <tr>\n",
       "      <th>516280</th>\n",
       "      <td>the matrix</td>\n",
       "      <td>Welcome to the real world.</td>\n",
       "      <td>1</td>\n",
       "      <td>1</td>\n",
       "    </tr>\n",
       "    <tr>\n",
       "      <th>516283</th>\n",
       "      <td>the matrix</td>\n",
       "      <td>You know what real is?</td>\n",
       "      <td>0</td>\n",
       "      <td>0</td>\n",
       "    </tr>\n",
       "  </tbody>\n",
       "</table>\n",
       "</div>"
      ],
      "text/plain": [
       "        movie_title                                               line  \\\n",
       "line_id                                                                  \n",
       "516011   the matrix  Tell me, Mr. Anderson, what good is a phone ca...   \n",
       "516533   the matrix  But I believe that, as a species, human beings...   \n",
       "516175   the matrix                 Welcome to the desert of the real.   \n",
       "516174   the matrix                This is Chicago as it exists today.   \n",
       "516583   the matrix                         Find them and destroy them   \n",
       "516570   the matrix                         Can you hear me, Morpheus?   \n",
       "516001   the matrix  I'm going to enjoy watching you die, Mr. Ander...   \n",
       "516573   the matrix           I must get out of here, I must get free.   \n",
       "516505   the matrix          Never send a human to do a machine's job.   \n",
       "516554   the matrix  Human beings are a disease, a cancer of this p...   \n",
       "516280   the matrix                         Welcome to the real world.   \n",
       "516283   the matrix                             You know what real is?   \n",
       "\n",
       "         levenshtein_distance_from_script  memorable?  \n",
       "line_id                                                \n",
       "516011                                  9           1  \n",
       "516533                                  0           0  \n",
       "516175                                 13           1  \n",
       "516174                                  0           0  \n",
       "516583                                  1           1  \n",
       "516570                                  0           0  \n",
       "516001                                 60           1  \n",
       "516573                                  0           0  \n",
       "516505                                  0           1  \n",
       "516554                                  0           0  \n",
       "516280                                  1           1  \n",
       "516283                                  0           0  "
      ]
     },
     "execution_count": 7,
     "metadata": {},
     "output_type": "execute_result"
    }
   ],
   "source": [
    "df[df[\"movie_title\"].str.contains(\"matrix\")]"
   ]
  },
  {
   "cell_type": "code",
   "execution_count": null,
   "metadata": {},
   "outputs": [],
   "source": []
  }
 ],
 "metadata": {
  "kernelspec": {
   "display_name": "Python 3",
   "language": "python",
   "name": "python3"
  },
  "language_info": {
   "codemirror_mode": {
    "name": "ipython",
    "version": 3
   },
   "file_extension": ".py",
   "mimetype": "text/x-python",
   "name": "python",
   "nbconvert_exporter": "python",
   "pygments_lexer": "ipython3",
   "version": "3.7.5"
  }
 },
 "nbformat": 4,
 "nbformat_minor": 4
}
