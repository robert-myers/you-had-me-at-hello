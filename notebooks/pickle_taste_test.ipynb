{
 "cells": [
  {
   "cell_type": "code",
   "execution_count": 2,
   "metadata": {},
   "outputs": [],
   "source": [
    "import dill as pickle\n",
    "import pandas as pd"
   ]
  },
  {
   "cell_type": "raw",
   "metadata": {},
   "source": [
    "Parameters\n",
    "----------\n",
    "x : string\n",
    "model : classifier\n",
    "    \"sgd\" = Stochastic Gradient Descent Classifier (default).\n",
    "    \"svc\" = Linear Support Vector Classifier.\n",
    "return_bool : bool\n",
    "    True changes return value to 0 or 1.\n",
    "    False returns answer in the form of a string (default)."
   ]
  },
  {
   "cell_type": "code",
   "execution_count": 3,
   "metadata": {},
   "outputs": [],
   "source": [
    "with open(\"../jars/is_this_memorable.pkl\", \"rb\") as f:\n",
    "    is_this_memorable = pickle.load(f)\n",
    "with open(\"../jars/gs_clf_sgd.pkl\", \"rb\") as f:\n",
    "    gs_clf_sgd = pickle.load(f)\n",
    "with open(\"../jars/text_clf_lsvc.pkl\", \"rb\") as f:\n",
    "    text_clf_lsvc = pickle.load(f)"
   ]
  },
  {
   "cell_type": "raw",
   "metadata": {},
   "source": [
    "The American Film Institute's 100 Years...100 Movie Quotes"
   ]
  },
  {
   "cell_type": "code",
   "execution_count": 4,
   "metadata": {},
   "outputs": [],
   "source": [
    "df = pd.read_html(\"https://en.wikipedia.org/wiki/AFI%27s_100_Years...100_Movie_Quotes\")[2]\n",
    "df.set_index(\"Rank\", inplace=True)"
   ]
  },
  {
   "cell_type": "code",
   "execution_count": 5,
   "metadata": {},
   "outputs": [
    {
     "data": {
      "text/html": [
       "<div>\n",
       "<style scoped>\n",
       "    .dataframe tbody tr th:only-of-type {\n",
       "        vertical-align: middle;\n",
       "    }\n",
       "\n",
       "    .dataframe tbody tr th {\n",
       "        vertical-align: top;\n",
       "    }\n",
       "\n",
       "    .dataframe thead th {\n",
       "        text-align: right;\n",
       "    }\n",
       "</style>\n",
       "<table border=\"1\" class=\"dataframe\">\n",
       "  <thead>\n",
       "    <tr style=\"text-align: right;\">\n",
       "      <th></th>\n",
       "      <th>Quotation</th>\n",
       "      <th>Character</th>\n",
       "      <th>Actor/Actress</th>\n",
       "      <th>Film</th>\n",
       "      <th>Year</th>\n",
       "    </tr>\n",
       "    <tr>\n",
       "      <th>Rank</th>\n",
       "      <th></th>\n",
       "      <th></th>\n",
       "      <th></th>\n",
       "      <th></th>\n",
       "      <th></th>\n",
       "    </tr>\n",
       "  </thead>\n",
       "  <tbody>\n",
       "    <tr>\n",
       "      <th>1</th>\n",
       "      <td>\"Frankly, my dear, I don't give a damn.\"</td>\n",
       "      <td>Rhett Butler</td>\n",
       "      <td>Clark Gable</td>\n",
       "      <td>Gone with the Wind</td>\n",
       "      <td>1939</td>\n",
       "    </tr>\n",
       "    <tr>\n",
       "      <th>2</th>\n",
       "      <td>\"I'm gonna make him an offer he can't refuse.\"</td>\n",
       "      <td>Vito Corleone</td>\n",
       "      <td>Marlon Brando</td>\n",
       "      <td>The Godfather</td>\n",
       "      <td>1972</td>\n",
       "    </tr>\n",
       "    <tr>\n",
       "      <th>3</th>\n",
       "      <td>\"You don't understand! I coulda had class. I c...</td>\n",
       "      <td>Terry Malloy</td>\n",
       "      <td>Marlon Brando</td>\n",
       "      <td>On the Waterfront</td>\n",
       "      <td>1954</td>\n",
       "    </tr>\n",
       "    <tr>\n",
       "      <th>4</th>\n",
       "      <td>\"Toto, I've a feeling we're not in Kansas anym...</td>\n",
       "      <td>Dorothy Gale</td>\n",
       "      <td>Judy Garland</td>\n",
       "      <td>The Wizard of Oz</td>\n",
       "      <td>1939</td>\n",
       "    </tr>\n",
       "    <tr>\n",
       "      <th>5</th>\n",
       "      <td>\"Here's looking at you, kid.\"</td>\n",
       "      <td>Rick Blaine</td>\n",
       "      <td>Humphrey Bogart</td>\n",
       "      <td>Casablanca</td>\n",
       "      <td>1942</td>\n",
       "    </tr>\n",
       "    <tr>\n",
       "      <th>...</th>\n",
       "      <td>...</td>\n",
       "      <td>...</td>\n",
       "      <td>...</td>\n",
       "      <td>...</td>\n",
       "      <td>...</td>\n",
       "    </tr>\n",
       "    <tr>\n",
       "      <th>96</th>\n",
       "      <td>\"Snap out of it!\"</td>\n",
       "      <td>Loretta Castorini</td>\n",
       "      <td>Cher</td>\n",
       "      <td>Moonstruck</td>\n",
       "      <td>1987</td>\n",
       "    </tr>\n",
       "    <tr>\n",
       "      <th>97</th>\n",
       "      <td>\"My mother thanks you. My father thanks you. M...</td>\n",
       "      <td>George M. Cohan</td>\n",
       "      <td>James Cagney</td>\n",
       "      <td>Yankee Doodle Dandy</td>\n",
       "      <td>1942</td>\n",
       "    </tr>\n",
       "    <tr>\n",
       "      <th>98</th>\n",
       "      <td>\"Nobody puts Baby in a corner.\"</td>\n",
       "      <td>Johnny Castle</td>\n",
       "      <td>Patrick Swayze</td>\n",
       "      <td>Dirty Dancing</td>\n",
       "      <td>1987</td>\n",
       "    </tr>\n",
       "    <tr>\n",
       "      <th>99</th>\n",
       "      <td>\"I'll get you, my pretty, and your little dog ...</td>\n",
       "      <td>Wicked Witch of the West</td>\n",
       "      <td>Margaret Hamilton</td>\n",
       "      <td>The Wizard of Oz</td>\n",
       "      <td>1939</td>\n",
       "    </tr>\n",
       "    <tr>\n",
       "      <th>100</th>\n",
       "      <td>\"I'm the King of the World!\"[34]</td>\n",
       "      <td>Jack Dawson</td>\n",
       "      <td>Leonardo DiCaprio</td>\n",
       "      <td>Titanic</td>\n",
       "      <td>1997</td>\n",
       "    </tr>\n",
       "  </tbody>\n",
       "</table>\n",
       "<p>100 rows × 5 columns</p>\n",
       "</div>"
      ],
      "text/plain": [
       "                                              Quotation  \\\n",
       "Rank                                                      \n",
       "1              \"Frankly, my dear, I don't give a damn.\"   \n",
       "2        \"I'm gonna make him an offer he can't refuse.\"   \n",
       "3     \"You don't understand! I coulda had class. I c...   \n",
       "4     \"Toto, I've a feeling we're not in Kansas anym...   \n",
       "5                         \"Here's looking at you, kid.\"   \n",
       "...                                                 ...   \n",
       "96                                    \"Snap out of it!\"   \n",
       "97    \"My mother thanks you. My father thanks you. M...   \n",
       "98                      \"Nobody puts Baby in a corner.\"   \n",
       "99    \"I'll get you, my pretty, and your little dog ...   \n",
       "100                    \"I'm the King of the World!\"[34]   \n",
       "\n",
       "                     Character      Actor/Actress                 Film  Year  \n",
       "Rank                                                                          \n",
       "1                 Rhett Butler        Clark Gable   Gone with the Wind  1939  \n",
       "2                Vito Corleone      Marlon Brando        The Godfather  1972  \n",
       "3                 Terry Malloy      Marlon Brando    On the Waterfront  1954  \n",
       "4                 Dorothy Gale       Judy Garland     The Wizard of Oz  1939  \n",
       "5                  Rick Blaine    Humphrey Bogart           Casablanca  1942  \n",
       "...                        ...                ...                  ...   ...  \n",
       "96           Loretta Castorini               Cher           Moonstruck  1987  \n",
       "97             George M. Cohan       James Cagney  Yankee Doodle Dandy  1942  \n",
       "98               Johnny Castle     Patrick Swayze        Dirty Dancing  1987  \n",
       "99    Wicked Witch of the West  Margaret Hamilton     The Wizard of Oz  1939  \n",
       "100                Jack Dawson  Leonardo DiCaprio              Titanic  1997  \n",
       "\n",
       "[100 rows x 5 columns]"
      ]
     },
     "execution_count": 5,
     "metadata": {},
     "output_type": "execute_result"
    }
   ],
   "source": [
    "df"
   ]
  },
  {
   "cell_type": "code",
   "execution_count": 6,
   "metadata": {
    "scrolled": true
   },
   "outputs": [
    {
     "name": "stdout",
     "output_type": "stream",
     "text": [
      "~~ 1 ~~\n",
      "\"Frankly, my dear, I don't give a damn.\"\n",
      "Is this memorable?\n",
      "Magic Stochastic Gradient Descent Ball says: Signs point to yes.\n",
      "Magic Linear Support Vector Ball says: Yes.\n",
      "~~ 1 ~~\n",
      "\n",
      "~~ 2 ~~\n",
      "\"I'm gonna make him an offer he can't refuse.\"\n",
      "Is this memorable?\n",
      "Magic Stochastic Gradient Descent Ball says: My reply is no.\n",
      "Magic Linear Support Vector Ball says: Don't count on it.\n",
      "~~ 2 ~~\n",
      "\n",
      "~~ 3 ~~\n",
      "\"You don't understand! I coulda had class. I coulda been a contender. I could've been somebody, instead of a bum, which is what I am.\"[4]\n",
      "Is this memorable?\n",
      "Magic Stochastic Gradient Descent Ball says: Without a doubt.\n",
      "Magic Linear Support Vector Ball says: It is certain.\n",
      "~~ 3 ~~\n",
      "\n",
      "~~ 4 ~~\n",
      "\"Toto, I've a feeling we're not in Kansas anymore.\"[5]\n",
      "Is this memorable?\n",
      "Magic Stochastic Gradient Descent Ball says: It is decidedly so.\n",
      "Magic Linear Support Vector Ball says: As I see it, yes.\n",
      "~~ 4 ~~\n",
      "\n",
      "~~ 5 ~~\n",
      "\"Here's looking at you, kid.\"\n",
      "Is this memorable?\n",
      "Magic Stochastic Gradient Descent Ball says: As I see it, yes.\n",
      "Magic Linear Support Vector Ball says: Very doubtful.\n",
      "~~ 5 ~~\n",
      "\n",
      "~~ 6 ~~\n",
      "\"Go ahead, make my day.\"\n",
      "Is this memorable?\n",
      "Magic Stochastic Gradient Descent Ball says: You may rely on it.\n",
      "Magic Linear Support Vector Ball says: You may rely on it.\n",
      "~~ 6 ~~\n",
      "\n",
      "~~ 7 ~~\n",
      "\"All right, Mr. DeMille, I'm ready for my close-up.\"\n",
      "Is this memorable?\n",
      "Magic Stochastic Gradient Descent Ball says: It is certain.\n",
      "Magic Linear Support Vector Ball says: My reply is no.\n",
      "~~ 7 ~~\n",
      "\n",
      "~~ 8 ~~\n",
      "\"May the Force be with you.\"\n",
      "Is this memorable?\n",
      "Magic Stochastic Gradient Descent Ball says: As I see it, yes.\n",
      "Magic Linear Support Vector Ball says: Yes.\n",
      "~~ 8 ~~\n",
      "\n",
      "~~ 9 ~~\n",
      "\"Fasten your seatbelts. It's going to be a bumpy night.\"\n",
      "Is this memorable?\n",
      "Magic Stochastic Gradient Descent Ball says: Don't count on it.\n",
      "Magic Linear Support Vector Ball says: Without a doubt.\n",
      "~~ 9 ~~\n",
      "\n",
      "~~ 10 ~~\n",
      "\"You talkin' to me?\"\n",
      "Is this memorable?\n",
      "Magic Stochastic Gradient Descent Ball says: Don't count on it.\n",
      "Magic Linear Support Vector Ball says: Very doubtful.\n",
      "~~ 10 ~~\n",
      "\n"
     ]
    }
   ],
   "source": [
    "for i, line in enumerate(df[\"Quotation\"].iloc[:10], 1):\n",
    "    print(\"~~\", i, \"~~\")\n",
    "    print(line)\n",
    "    print(\"Is this memorable?\")\n",
    "    print(\"Magic Stochastic Gradient Descent Ball says:\", is_this_memorable(line, model=\"sgd\"))\n",
    "    print(\"Magic Linear Support Vector Ball says:\", is_this_memorable(line, model=\"svc\"))\n",
    "    print(\"~~\", i, \"~~\")\n",
    "    print()"
   ]
  },
  {
   "cell_type": "code",
   "execution_count": 7,
   "metadata": {},
   "outputs": [
    {
     "data": {
      "text/plain": [
       "58"
      ]
     },
     "execution_count": 7,
     "metadata": {},
     "output_type": "execute_result"
    }
   ],
   "source": [
    "sum([is_this_memorable(line, model=\"sgd\", return_bool=True) for line in df[\"Quotation\"]])"
   ]
  },
  {
   "cell_type": "code",
   "execution_count": 8,
   "metadata": {},
   "outputs": [
    {
     "data": {
      "text/plain": [
       "55"
      ]
     },
     "execution_count": 8,
     "metadata": {},
     "output_type": "execute_result"
    }
   ],
   "source": [
    "sum([is_this_memorable(line, model=\"svc\", return_bool=True) for line in df[\"Quotation\"]])"
   ]
  },
  {
   "cell_type": "code",
   "execution_count": 19,
   "metadata": {},
   "outputs": [
    {
     "data": {
      "text/plain": [
       "'Signs point to yes.'"
      ]
     },
     "execution_count": 19,
     "metadata": {},
     "output_type": "execute_result"
    }
   ],
   "source": [
    "is_this_memorable(\"There is no spoon.\")"
   ]
  },
  {
   "cell_type": "code",
   "execution_count": null,
   "metadata": {},
   "outputs": [],
   "source": []
  }
 ],
 "metadata": {
  "kernelspec": {
   "display_name": "Python 3",
   "language": "python",
   "name": "python3"
  },
  "language_info": {
   "codemirror_mode": {
    "name": "ipython",
    "version": 3
   },
   "file_extension": ".py",
   "mimetype": "text/x-python",
   "name": "python",
   "nbconvert_exporter": "python",
   "pygments_lexer": "ipython3",
   "version": "3.7.5"
  }
 },
 "nbformat": 4,
 "nbformat_minor": 2
}
