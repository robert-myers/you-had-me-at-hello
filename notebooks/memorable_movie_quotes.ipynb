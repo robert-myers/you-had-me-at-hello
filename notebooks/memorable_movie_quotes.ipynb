{
  "nbformat": 4,
  "nbformat_minor": 0,
  "metadata": {
    "colab": {
      "name": "memorable movie quotes.ipynb",
      "provenance": [],
      "collapsed_sections": [],
      "authorship_tag": "ABX9TyN1ZFA2xiznScx0HdnXXSLn",
      "include_colab_link": true
    },
    "kernelspec": {
      "name": "python3",
      "display_name": "Python 3"
    },
    "accelerator": "GPU"
  },
  "cells": [
    {
      "cell_type": "markdown",
      "metadata": {
        "id": "view-in-github",
        "colab_type": "text"
      },
      "source": [
        "<a href=\"https://colab.research.google.com/github/robert-myers/you-had-me-at-hello/blob/master/notebooks/memorable_movie_quotes.ipynb\" target=\"_parent\"><img src=\"https://colab.research.google.com/assets/colab-badge.svg\" alt=\"Open In Colab\"/></a>"
      ]
    },
    {
      "cell_type": "code",
      "metadata": {
        "id": "davfF2eBICrY",
        "colab_type": "code",
        "outputId": "b2c63dc6-c3e6-406d-954f-85479f8cc5a3",
        "colab": {
          "base_uri": "https://localhost:8080/",
          "height": 340
        }
      },
      "source": [
        "pip install catboost"
      ],
      "execution_count": 2,
      "outputs": [
        {
          "output_type": "stream",
          "text": [
            "Collecting catboost\n",
            "\u001b[?25l  Downloading https://files.pythonhosted.org/packages/ca/ae/aaff63662f7f5d2af7ec8d61a6f39e78ada9348e5df4f43e665ecc4bea10/catboost-0.21-cp36-none-manylinux1_x86_64.whl (64.0MB)\n",
            "\u001b[K     |████████████████████████████████| 64.0MB 46kB/s \n",
            "\u001b[?25hRequirement already satisfied: numpy>=1.16.0 in /usr/local/lib/python3.6/dist-packages (from catboost) (1.17.5)\n",
            "Requirement already satisfied: plotly in /usr/local/lib/python3.6/dist-packages (from catboost) (4.4.1)\n",
            "Requirement already satisfied: scipy in /usr/local/lib/python3.6/dist-packages (from catboost) (1.4.1)\n",
            "Requirement already satisfied: matplotlib in /usr/local/lib/python3.6/dist-packages (from catboost) (3.1.3)\n",
            "Requirement already satisfied: graphviz in /usr/local/lib/python3.6/dist-packages (from catboost) (0.10.1)\n",
            "Requirement already satisfied: six in /usr/local/lib/python3.6/dist-packages (from catboost) (1.12.0)\n",
            "Requirement already satisfied: pandas>=0.24.0 in /usr/local/lib/python3.6/dist-packages (from catboost) (0.25.3)\n",
            "Requirement already satisfied: retrying>=1.3.3 in /usr/local/lib/python3.6/dist-packages (from plotly->catboost) (1.3.3)\n",
            "Requirement already satisfied: kiwisolver>=1.0.1 in /usr/local/lib/python3.6/dist-packages (from matplotlib->catboost) (1.1.0)\n",
            "Requirement already satisfied: pyparsing!=2.0.4,!=2.1.2,!=2.1.6,>=2.0.1 in /usr/local/lib/python3.6/dist-packages (from matplotlib->catboost) (2.4.6)\n",
            "Requirement already satisfied: python-dateutil>=2.1 in /usr/local/lib/python3.6/dist-packages (from matplotlib->catboost) (2.6.1)\n",
            "Requirement already satisfied: cycler>=0.10 in /usr/local/lib/python3.6/dist-packages (from matplotlib->catboost) (0.10.0)\n",
            "Requirement already satisfied: pytz>=2017.2 in /usr/local/lib/python3.6/dist-packages (from pandas>=0.24.0->catboost) (2018.9)\n",
            "Requirement already satisfied: setuptools in /usr/local/lib/python3.6/dist-packages (from kiwisolver>=1.0.1->matplotlib->catboost) (45.1.0)\n",
            "Installing collected packages: catboost\n",
            "Successfully installed catboost-0.21\n"
          ],
          "name": "stdout"
        }
      ]
    },
    {
      "cell_type": "code",
      "metadata": {
        "id": "LXK2dJrOr8kq",
        "colab_type": "code",
        "colab": {}
      },
      "source": [
        "import pandas as pd\n",
        "import numpy as np\n",
        "import matplotlib.pyplot as plt\n",
        "import matplotlib.cm as cm\n",
        "import nltk\n",
        "import re\n",
        "\n",
        "from collections import Counter, defaultdict\n",
        "from nltk.tokenize import word_tokenize, PunktSentenceTokenizer\n",
        "from nltk.corpus import stopwords\n",
        "from nltk.stem import WordNetLemmatizer\n",
        "from nltk.metrics import edit_distance\n",
        "from sklearn.naive_bayes import MultinomialNB, GaussianNB, BernoulliNB\n",
        "from sklearn.model_selection import train_test_split, GridSearchCV, RandomizedSearchCV, cross_val_score\n",
        "from sklearn.ensemble import RandomForestClassifier, RandomForestRegressor\n",
        "from sklearn.linear_model import SGDClassifier, LinearRegression\n",
        "from sklearn.feature_extraction.text import CountVectorizer, TfidfTransformer\n",
        "from sklearn.pipeline import Pipeline\n",
        "from sklearn import metrics\n",
        "from sklearn.metrics import confusion_matrix, silhouette_score, silhouette_samples\n",
        "from sklearn.svm import LinearSVC\n",
        "from sklearn.cluster import KMeans, MeanShift, MiniBatchKMeans\n",
        "from sklearn.preprocessing import FunctionTransformer\n",
        "from catboost import CatBoostClassifier\n",
        "\n",
        "from scipy.spatial import distance\n",
        "\n",
        "from google.colab import files\n",
        "\n",
        "plt.style.use(\"seaborn\")"
      ],
      "execution_count": 0,
      "outputs": []
    },
    {
      "cell_type": "code",
      "metadata": {
        "id": "HCdvBM61gNZe",
        "colab_type": "code",
        "outputId": "50af5578-e37f-424b-f444-98a487be72bc",
        "colab": {
          "base_uri": "https://localhost:8080/",
          "height": 187
        }
      },
      "source": [
        "nltk.download(['stopwords', 'wordnet', 'punkt', 'averaged_perceptron_tagger'])"
      ],
      "execution_count": 4,
      "outputs": [
        {
          "output_type": "stream",
          "text": [
            "[nltk_data] Downloading package stopwords to /root/nltk_data...\n",
            "[nltk_data]   Unzipping corpora/stopwords.zip.\n",
            "[nltk_data] Downloading package wordnet to /root/nltk_data...\n",
            "[nltk_data]   Unzipping corpora/wordnet.zip.\n",
            "[nltk_data] Downloading package punkt to /root/nltk_data...\n",
            "[nltk_data]   Unzipping tokenizers/punkt.zip.\n",
            "[nltk_data] Downloading package averaged_perceptron_tagger to\n",
            "[nltk_data]     /root/nltk_data...\n",
            "[nltk_data]   Unzipping taggers/averaged_perceptron_tagger.zip.\n"
          ],
          "name": "stdout"
        },
        {
          "output_type": "execute_result",
          "data": {
            "text/plain": [
              "True"
            ]
          },
          "metadata": {
            "tags": []
          },
          "execution_count": 4
        }
      ]
    },
    {
      "cell_type": "code",
      "metadata": {
        "id": "yaxM2rx1sSyN",
        "colab_type": "code",
        "colab": {}
      },
      "source": [
        "colab = True\n",
        "if colab:\n",
        "  df = pd.read_csv(\"https://raw.githubusercontent.com/robert-myers/you-had-me-at-hello/master/data/memorable_nonmemorable_movie_quotes_df.csv\", index_col=\"line_id\")\n",
        "else:\n",
        "  df = pd.read_csv(\"../data/memorable_nonmemorable_movie_quotes_df.csv\")"
      ],
      "execution_count": 0,
      "outputs": []
    },
    {
      "cell_type": "code",
      "metadata": {
        "id": "iQhbqh1mWYEl",
        "colab_type": "code",
        "outputId": "f470e962-67c3-4462-ad0a-d2d256508ac3",
        "colab": {
          "base_uri": "https://localhost:8080/",
          "height": 452
        }
      },
      "source": [
        " df[df[\"movie_title\"].str.contains(\"matrix\")]"
      ],
      "execution_count": 6,
      "outputs": [
        {
          "output_type": "execute_result",
          "data": {
            "text/html": [
              "<div>\n",
              "<style scoped>\n",
              "    .dataframe tbody tr th:only-of-type {\n",
              "        vertical-align: middle;\n",
              "    }\n",
              "\n",
              "    .dataframe tbody tr th {\n",
              "        vertical-align: top;\n",
              "    }\n",
              "\n",
              "    .dataframe thead th {\n",
              "        text-align: right;\n",
              "    }\n",
              "</style>\n",
              "<table border=\"1\" class=\"dataframe\">\n",
              "  <thead>\n",
              "    <tr style=\"text-align: right;\">\n",
              "      <th></th>\n",
              "      <th>movie_title</th>\n",
              "      <th>line</th>\n",
              "      <th>levenshtein_distance_from_script</th>\n",
              "      <th>memorable?</th>\n",
              "    </tr>\n",
              "    <tr>\n",
              "      <th>line_id</th>\n",
              "      <th></th>\n",
              "      <th></th>\n",
              "      <th></th>\n",
              "      <th></th>\n",
              "    </tr>\n",
              "  </thead>\n",
              "  <tbody>\n",
              "    <tr>\n",
              "      <th>516011</th>\n",
              "      <td>the matrix</td>\n",
              "      <td>Tell me, Mr. Anderson, what good is a phone ca...</td>\n",
              "      <td>9</td>\n",
              "      <td>1</td>\n",
              "    </tr>\n",
              "    <tr>\n",
              "      <th>516533</th>\n",
              "      <td>the matrix</td>\n",
              "      <td>But I believe that, as a species, human beings...</td>\n",
              "      <td>0</td>\n",
              "      <td>0</td>\n",
              "    </tr>\n",
              "    <tr>\n",
              "      <th>516175</th>\n",
              "      <td>the matrix</td>\n",
              "      <td>Welcome to the desert of the real.</td>\n",
              "      <td>13</td>\n",
              "      <td>1</td>\n",
              "    </tr>\n",
              "    <tr>\n",
              "      <th>516174</th>\n",
              "      <td>the matrix</td>\n",
              "      <td>This is Chicago as it exists today.</td>\n",
              "      <td>0</td>\n",
              "      <td>0</td>\n",
              "    </tr>\n",
              "    <tr>\n",
              "      <th>516583</th>\n",
              "      <td>the matrix</td>\n",
              "      <td>Find them and destroy them</td>\n",
              "      <td>1</td>\n",
              "      <td>1</td>\n",
              "    </tr>\n",
              "    <tr>\n",
              "      <th>516570</th>\n",
              "      <td>the matrix</td>\n",
              "      <td>Can you hear me, Morpheus?</td>\n",
              "      <td>0</td>\n",
              "      <td>0</td>\n",
              "    </tr>\n",
              "    <tr>\n",
              "      <th>516001</th>\n",
              "      <td>the matrix</td>\n",
              "      <td>I'm going to enjoy watching you die, Mr. Ander...</td>\n",
              "      <td>60</td>\n",
              "      <td>1</td>\n",
              "    </tr>\n",
              "    <tr>\n",
              "      <th>516573</th>\n",
              "      <td>the matrix</td>\n",
              "      <td>I must get out of here, I must get free.</td>\n",
              "      <td>0</td>\n",
              "      <td>0</td>\n",
              "    </tr>\n",
              "    <tr>\n",
              "      <th>516505</th>\n",
              "      <td>the matrix</td>\n",
              "      <td>Never send a human to do a machine's job.</td>\n",
              "      <td>0</td>\n",
              "      <td>1</td>\n",
              "    </tr>\n",
              "    <tr>\n",
              "      <th>516554</th>\n",
              "      <td>the matrix</td>\n",
              "      <td>Human beings are a disease, a cancer of this p...</td>\n",
              "      <td>0</td>\n",
              "      <td>0</td>\n",
              "    </tr>\n",
              "    <tr>\n",
              "      <th>516280</th>\n",
              "      <td>the matrix</td>\n",
              "      <td>Welcome to the real world.</td>\n",
              "      <td>1</td>\n",
              "      <td>1</td>\n",
              "    </tr>\n",
              "    <tr>\n",
              "      <th>516283</th>\n",
              "      <td>the matrix</td>\n",
              "      <td>You know what real is?</td>\n",
              "      <td>0</td>\n",
              "      <td>0</td>\n",
              "    </tr>\n",
              "  </tbody>\n",
              "</table>\n",
              "</div>"
            ],
            "text/plain": [
              "        movie_title  ... memorable?\n",
              "line_id              ...           \n",
              "516011   the matrix  ...          1\n",
              "516533   the matrix  ...          0\n",
              "516175   the matrix  ...          1\n",
              "516174   the matrix  ...          0\n",
              "516583   the matrix  ...          1\n",
              "516570   the matrix  ...          0\n",
              "516001   the matrix  ...          1\n",
              "516573   the matrix  ...          0\n",
              "516505   the matrix  ...          1\n",
              "516554   the matrix  ...          0\n",
              "516280   the matrix  ...          1\n",
              "516283   the matrix  ...          0\n",
              "\n",
              "[12 rows x 4 columns]"
            ]
          },
          "metadata": {
            "tags": []
          },
          "execution_count": 6
        }
      ]
    },
    {
      "cell_type": "code",
      "metadata": {
        "id": "WPurlf-pWbrw",
        "colab_type": "code",
        "colab": {}
      },
      "source": [
        "tokenizer = PunktSentenceTokenizer(\" \".join(df[\"line\"]))\n",
        "\n",
        "stop_words = set(stopwords.words(\"english\"))\n",
        "\n",
        "def rm_stop_and_tokenize(x, join=True, remove_stop=False):\n",
        "  x = re.sub('\\W+', ' ', x)\n",
        "  wnl = WordNetLemmatizer()\n",
        "  if remove_stop:\n",
        "    string = \" \".join([wnl.lemmatize(word).lower() for word in x.split() if word.lower() not in stop_words])\n",
        "  else:\n",
        "    string = \" \".join([wnl.lemmatize(word).lower() for word in x.split()])\n",
        "  tokens = word_tokenize(string)\n",
        "  if join:\n",
        "    return \" \".join(tokens)\n",
        "  return tokens\n",
        "\n",
        "df[\"tokenized\"] = df[\"line\"].apply(lambda x: rm_stop_and_tokenize(x, join=True, remove_stop=False))"
      ],
      "execution_count": 0,
      "outputs": []
    },
    {
      "cell_type": "code",
      "metadata": {
        "id": "_sbcaTDlaIUj",
        "colab_type": "code",
        "colab": {}
      },
      "source": [
        "df[\"parts_of_speech\"] = df[\"line\"].apply(lambda x: [tup[-1] for tup in nltk.pos_tag(x.split())])"
      ],
      "execution_count": 0,
      "outputs": []
    },
    {
      "cell_type": "code",
      "metadata": {
        "id": "XQRkq7tcZxNF",
        "colab_type": "code",
        "outputId": "e6b602d0-44c6-427e-baf7-ccc720580ee4",
        "colab": {
          "base_uri": "https://localhost:8080/",
          "height": 452
        }
      },
      "source": [
        "df[df[\"movie_title\"].str.contains(\"matrix\")]"
      ],
      "execution_count": 9,
      "outputs": [
        {
          "output_type": "execute_result",
          "data": {
            "text/html": [
              "<div>\n",
              "<style scoped>\n",
              "    .dataframe tbody tr th:only-of-type {\n",
              "        vertical-align: middle;\n",
              "    }\n",
              "\n",
              "    .dataframe tbody tr th {\n",
              "        vertical-align: top;\n",
              "    }\n",
              "\n",
              "    .dataframe thead th {\n",
              "        text-align: right;\n",
              "    }\n",
              "</style>\n",
              "<table border=\"1\" class=\"dataframe\">\n",
              "  <thead>\n",
              "    <tr style=\"text-align: right;\">\n",
              "      <th></th>\n",
              "      <th>movie_title</th>\n",
              "      <th>line</th>\n",
              "      <th>levenshtein_distance_from_script</th>\n",
              "      <th>memorable?</th>\n",
              "      <th>tokenized</th>\n",
              "      <th>parts_of_speech</th>\n",
              "    </tr>\n",
              "    <tr>\n",
              "      <th>line_id</th>\n",
              "      <th></th>\n",
              "      <th></th>\n",
              "      <th></th>\n",
              "      <th></th>\n",
              "      <th></th>\n",
              "      <th></th>\n",
              "    </tr>\n",
              "  </thead>\n",
              "  <tbody>\n",
              "    <tr>\n",
              "      <th>516011</th>\n",
              "      <td>the matrix</td>\n",
              "      <td>Tell me, Mr. Anderson, what good is a phone ca...</td>\n",
              "      <td>9</td>\n",
              "      <td>1</td>\n",
              "      <td>tell me mr anderson what good is a phone call ...</td>\n",
              "      <td>[NNP, VBZ, NNP, NNP, WP, NN, VBZ, DT, NN, NN, ...</td>\n",
              "    </tr>\n",
              "    <tr>\n",
              "      <th>516533</th>\n",
              "      <td>the matrix</td>\n",
              "      <td>But I believe that, as a species, human beings...</td>\n",
              "      <td>0</td>\n",
              "      <td>0</td>\n",
              "      <td>but i believe that a a specie human being defi...</td>\n",
              "      <td>[CC, PRP, VBP, RB, IN, DT, JJ, JJ, NNS, VBP, P...</td>\n",
              "    </tr>\n",
              "    <tr>\n",
              "      <th>516175</th>\n",
              "      <td>the matrix</td>\n",
              "      <td>Welcome to the desert of the real.</td>\n",
              "      <td>13</td>\n",
              "      <td>1</td>\n",
              "      <td>welcome to the desert of the real</td>\n",
              "      <td>[VB, TO, DT, NN, IN, DT, NN]</td>\n",
              "    </tr>\n",
              "    <tr>\n",
              "      <th>516174</th>\n",
              "      <td>the matrix</td>\n",
              "      <td>This is Chicago as it exists today.</td>\n",
              "      <td>0</td>\n",
              "      <td>0</td>\n",
              "      <td>this is chicago a it exists today</td>\n",
              "      <td>[DT, VBZ, NNP, IN, PRP, VBZ, NN]</td>\n",
              "    </tr>\n",
              "    <tr>\n",
              "      <th>516583</th>\n",
              "      <td>the matrix</td>\n",
              "      <td>Find them and destroy them</td>\n",
              "      <td>1</td>\n",
              "      <td>1</td>\n",
              "      <td>find them and destroy them</td>\n",
              "      <td>[VB, PRP, CC, VB, PRP]</td>\n",
              "    </tr>\n",
              "    <tr>\n",
              "      <th>516570</th>\n",
              "      <td>the matrix</td>\n",
              "      <td>Can you hear me, Morpheus?</td>\n",
              "      <td>0</td>\n",
              "      <td>0</td>\n",
              "      <td>can you hear me morpheus</td>\n",
              "      <td>[MD, PRP, VB, NNS, NNP]</td>\n",
              "    </tr>\n",
              "    <tr>\n",
              "      <th>516001</th>\n",
              "      <td>the matrix</td>\n",
              "      <td>I'm going to enjoy watching you die, Mr. Ander...</td>\n",
              "      <td>60</td>\n",
              "      <td>1</td>\n",
              "      <td>i m going to enjoy watching you die mr anderson</td>\n",
              "      <td>[NNP, VBG, TO, VB, VBG, PRP, VBP, NNP, NNP]</td>\n",
              "    </tr>\n",
              "    <tr>\n",
              "      <th>516573</th>\n",
              "      <td>the matrix</td>\n",
              "      <td>I must get out of here, I must get free.</td>\n",
              "      <td>0</td>\n",
              "      <td>0</td>\n",
              "      <td>i must get out of here i must get free</td>\n",
              "      <td>[PRP, MD, VB, IN, IN, NN, PRP, MD, VB, NN]</td>\n",
              "    </tr>\n",
              "    <tr>\n",
              "      <th>516505</th>\n",
              "      <td>the matrix</td>\n",
              "      <td>Never send a human to do a machine's job.</td>\n",
              "      <td>0</td>\n",
              "      <td>1</td>\n",
              "      <td>never send a human to do a machine s job</td>\n",
              "      <td>[RB, VB, DT, NN, TO, VB, DT, NN, NN]</td>\n",
              "    </tr>\n",
              "    <tr>\n",
              "      <th>516554</th>\n",
              "      <td>the matrix</td>\n",
              "      <td>Human beings are a disease, a cancer of this p...</td>\n",
              "      <td>0</td>\n",
              "      <td>0</td>\n",
              "      <td>human being are a disease a cancer of this planet</td>\n",
              "      <td>[JJ, NNS, VBP, DT, NN, DT, NN, IN, DT, NN]</td>\n",
              "    </tr>\n",
              "    <tr>\n",
              "      <th>516280</th>\n",
              "      <td>the matrix</td>\n",
              "      <td>Welcome to the real world.</td>\n",
              "      <td>1</td>\n",
              "      <td>1</td>\n",
              "      <td>welcome to the real world</td>\n",
              "      <td>[VB, TO, DT, JJ, NN]</td>\n",
              "    </tr>\n",
              "    <tr>\n",
              "      <th>516283</th>\n",
              "      <td>the matrix</td>\n",
              "      <td>You know what real is?</td>\n",
              "      <td>0</td>\n",
              "      <td>0</td>\n",
              "      <td>you know what real is</td>\n",
              "      <td>[PRP, VBP, WP, JJ, NN]</td>\n",
              "    </tr>\n",
              "  </tbody>\n",
              "</table>\n",
              "</div>"
            ],
            "text/plain": [
              "        movie_title  ...                                    parts_of_speech\n",
              "line_id              ...                                                   \n",
              "516011   the matrix  ...  [NNP, VBZ, NNP, NNP, WP, NN, VBZ, DT, NN, NN, ...\n",
              "516533   the matrix  ...  [CC, PRP, VBP, RB, IN, DT, JJ, JJ, NNS, VBP, P...\n",
              "516175   the matrix  ...                       [VB, TO, DT, NN, IN, DT, NN]\n",
              "516174   the matrix  ...                   [DT, VBZ, NNP, IN, PRP, VBZ, NN]\n",
              "516583   the matrix  ...                             [VB, PRP, CC, VB, PRP]\n",
              "516570   the matrix  ...                            [MD, PRP, VB, NNS, NNP]\n",
              "516001   the matrix  ...        [NNP, VBG, TO, VB, VBG, PRP, VBP, NNP, NNP]\n",
              "516573   the matrix  ...         [PRP, MD, VB, IN, IN, NN, PRP, MD, VB, NN]\n",
              "516505   the matrix  ...               [RB, VB, DT, NN, TO, VB, DT, NN, NN]\n",
              "516554   the matrix  ...         [JJ, NNS, VBP, DT, NN, DT, NN, IN, DT, NN]\n",
              "516280   the matrix  ...                               [VB, TO, DT, JJ, NN]\n",
              "516283   the matrix  ...                             [PRP, VBP, WP, JJ, NN]\n",
              "\n",
              "[12 rows x 6 columns]"
            ]
          },
          "metadata": {
            "tags": []
          },
          "execution_count": 9
        }
      ]
    },
    {
      "cell_type": "code",
      "metadata": {
        "id": "BjjASf7bUN9T",
        "colab_type": "code",
        "outputId": "344ac696-ac99-41fc-e443-daccff25e3a9",
        "colab": {
          "base_uri": "https://localhost:8080/",
          "height": 34
        }
      },
      "source": [
        "df.loc[364691][\"line\"]"
      ],
      "execution_count": 10,
      "outputs": [
        {
          "output_type": "execute_result",
          "data": {
            "text/plain": [
              "'All we want is to be treated like human beings, not like guinea pigs to be experimented on and not like bunny rabbits to be patronized.'"
            ]
          },
          "metadata": {
            "tags": []
          },
          "execution_count": 10
        }
      ]
    },
    {
      "cell_type": "code",
      "metadata": {
        "id": "jnAMxbXMb_oD",
        "colab_type": "code",
        "outputId": "9cd0c78d-f58f-44f0-da02-dd03537d147d",
        "colab": {
          "base_uri": "https://localhost:8080/",
          "height": 476
        }
      },
      "source": [
        "memorable_tokens = df[df[\"memorable?\"] == 1][\"tokenized\"]\n",
        "memorable_counter = Counter((\" \".join(memorable_tokens)).split())\n",
        "non_memorable_tokens = df[df[\"memorable?\"] == 0][\"tokenized\"]\n",
        "non_memorable_counter = Counter((\" \".join(non_memorable_tokens)).split())\n",
        "\n",
        "print(\" memorable\", \" |\",  \"non-memorable\")\n",
        "print(\"----------------------------\")\n",
        "for x,y in zip(memorable_counter.most_common(25), non_memorable_counter.most_common(25)):\n",
        "  print(x, \"|\", y)"
      ],
      "execution_count": 11,
      "outputs": [
        {
          "output_type": "stream",
          "text": [
            " memorable  | non-memorable\n",
            "----------------------------\n",
            "('you', 958) | ('i', 933)\n",
            "('i', 864) | ('you', 850)\n",
            "('the', 745) | ('the', 728)\n",
            "('a', 728) | ('to', 641)\n",
            "('to', 470) | ('a', 595)\n",
            "('t', 345) | ('s', 401)\n",
            "('s', 328) | ('and', 389)\n",
            "('of', 327) | ('it', 379)\n",
            "('and', 294) | ('of', 342)\n",
            "('it', 279) | ('t', 323)\n",
            "('is', 266) | ('that', 290)\n",
            "('that', 260) | ('in', 284)\n",
            "('in', 250) | ('we', 227)\n",
            "('me', 212) | ('me', 213)\n",
            "('my', 208) | ('for', 177)\n",
            "('your', 207) | ('what', 170)\n",
            "('this', 195) | ('is', 168)\n",
            "('for', 168) | ('he', 166)\n",
            "('we', 166) | ('have', 165)\n",
            "('don', 161) | ('your', 157)\n",
            "('m', 149) | ('this', 155)\n",
            "('not', 147) | ('be', 154)\n",
            "('have', 144) | ('m', 154)\n",
            "('be', 142) | ('my', 148)\n",
            "('on', 140) | ('re', 143)\n"
          ],
          "name": "stdout"
        }
      ]
    },
    {
      "cell_type": "code",
      "metadata": {
        "id": "Bk9-r3oNccx9",
        "colab_type": "code",
        "outputId": "44e6a2d9-7d46-4b44-8372-bb118e092a8a",
        "colab": {
          "base_uri": "https://localhost:8080/",
          "height": 34
        }
      },
      "source": [
        "df[\"line\"].loc[516011]"
      ],
      "execution_count": 12,
      "outputs": [
        {
          "output_type": "execute_result",
          "data": {
            "text/plain": [
              "'Tell me, Mr. Anderson, what good is a phone call when you are unable to speak?'"
            ]
          },
          "metadata": {
            "tags": []
          },
          "execution_count": 12
        }
      ]
    },
    {
      "cell_type": "code",
      "metadata": {
        "id": "LlT98zCVjZ_Q",
        "colab_type": "code",
        "outputId": "0c4c4c3c-edd7-4a8e-caf0-aa888f5bfdbc",
        "colab": {
          "base_uri": "https://localhost:8080/",
          "height": 34
        }
      },
      "source": [
        "typo = \"And tell me, Mr. Anderson, what good is a phone call iy you are unable to speak?\"\n",
        "no_typo = \"And tell me, Mr. Anderson, what good is a phone call if you are unable to speak?\"\n",
        "edit_distance(df[\"line\"].loc[516011], typo) == edit_distance(df[\"line\"].loc[516011], no_typo)"
      ],
      "execution_count": 13,
      "outputs": [
        {
          "output_type": "execute_result",
          "data": {
            "text/plain": [
              "True"
            ]
          },
          "metadata": {
            "tags": []
          },
          "execution_count": 13
        }
      ]
    },
    {
      "cell_type": "code",
      "metadata": {
        "id": "UNfKhbgOCHOp",
        "colab_type": "code",
        "colab": {}
      },
      "source": [
        "X = df.drop(columns=\"memorable?\")\n",
        "y = df[\"memorable?\"]\n",
        "\n",
        "X_train, X_test, y_train, y_test = train_test_split(X, y)"
      ],
      "execution_count": 0,
      "outputs": []
    },
    {
      "cell_type": "code",
      "metadata": {
        "id": "6kEZ5yUyxPno",
        "colab_type": "code",
        "colab": {}
      },
      "source": [
        "def roc_curve_plot(y_test, y_probs, save_fig=False):\n",
        "    '''\n",
        "    This function prints and plots the ROC plot.\n",
        "    '''\n",
        "    fpr, tpr, thresholds = metrics.roc_curve(y_test, y_probs)\n",
        "    roc_auc = metrics.auc(fpr, tpr)\n",
        "    plt.figure(figsize=(10, 8))\n",
        "    plt.plot(fpr, tpr, label=f'ROC Curve (AUC = {roc_auc:.2f})', linewidth=2)\n",
        "    plt.plot([0,1], [0,1], linestyle='--', lw=2, color='r')\n",
        "    plt.xlabel(\"False Positive Rate (1 - Specificity)\", fontsize=14)\n",
        "    plt.ylabel(\"True Positive Rate (Sensitivity, Recall)\", fontsize=14)\n",
        "    plt.title(\"ROC plot\", fontsize=20)\n",
        "    plt.legend()\n",
        "    if save_fig:\n",
        "        plt.savefig('roc_plot.png')\n",
        "    plt.show();"
      ],
      "execution_count": 0,
      "outputs": []
    },
    {
      "cell_type": "markdown",
      "metadata": {
        "id": "UF7pRpwinahs",
        "colab_type": "text"
      },
      "source": [
        "MultinomialNB"
      ]
    },
    {
      "cell_type": "code",
      "metadata": {
        "id": "Ce-KEvwC5sxs",
        "colab_type": "code",
        "outputId": "0e587fe5-7c95-4da2-8fee-c7f8b8ccbdd0",
        "colab": {
          "base_uri": "https://localhost:8080/",
          "height": 68
        }
      },
      "source": [
        "text_clf = Pipeline([\n",
        "                     (\"vect\", CountVectorizer(ngram_range=(1,3))),\n",
        "                     (\"tfidf\", TfidfTransformer()),\n",
        "                     (\"clf\", MultinomialNB(fit_prior=False)),\n",
        "                     ])\n",
        "text_clf = text_clf.fit(X_train[\"tokenized\"], y_train)\n",
        "print(text_clf.score(X_test[\"tokenized\"], y_test))\n",
        "\n",
        "predicted = text_clf.predict(X_test[\"tokenized\"])\n",
        "tn, fp, fn, tp = confusion_matrix(y_test, predicted).ravel()\n",
        "totalpn = tn + fp + fn + tp\n",
        "cf_mx = np.array([[tp/totalpn, fp/totalpn],[fn/totalpn, tn/totalpn]])\n",
        "cf_mx"
      ],
      "execution_count": 16,
      "outputs": [
        {
          "output_type": "stream",
          "text": [
            "0.5868971792538672\n"
          ],
          "name": "stdout"
        },
        {
          "output_type": "execute_result",
          "data": {
            "text/plain": [
              "array([[0.25204732, 0.1656051 ],\n",
              "       [0.24749773, 0.33484986]])"
            ]
          },
          "metadata": {
            "tags": []
          },
          "execution_count": 16
        }
      ]
    },
    {
      "cell_type": "code",
      "metadata": {
        "id": "NoY_0ZsgmyXj",
        "colab_type": "code",
        "outputId": "6b567688-f3da-419f-a5db-a2855a3dabbe",
        "colab": {
          "base_uri": "https://localhost:8080/",
          "height": 34
        }
      },
      "source": [
        "np.mean(cross_val_score(text_clf, X[\"tokenized\"], y, n_jobs=-1, cv=10))"
      ],
      "execution_count": 17,
      "outputs": [
        {
          "output_type": "execute_result",
          "data": {
            "text/plain": [
              "0.6094677987160904"
            ]
          },
          "metadata": {
            "tags": []
          },
          "execution_count": 17
        }
      ]
    },
    {
      "cell_type": "code",
      "metadata": {
        "id": "P_dMzw7rxSoo",
        "colab_type": "code",
        "colab": {}
      },
      "source": [
        "# roc_curve_plot(y_test, predicted)"
      ],
      "execution_count": 0,
      "outputs": []
    },
    {
      "cell_type": "code",
      "metadata": {
        "id": "6DyH6-856GT8",
        "colab_type": "code",
        "outputId": "f705fe7e-25ef-4afa-dcc0-7c53ba327156",
        "colab": {
          "base_uri": "https://localhost:8080/",
          "height": 51
        }
      },
      "source": [
        "test_string = [rm_stop_and_tokenize(\"You had me at hello.\")]\n",
        "print(test_string)\n",
        "text_clf.predict(test_string)"
      ],
      "execution_count": 19,
      "outputs": [
        {
          "output_type": "stream",
          "text": [
            "['you had me at hello']\n"
          ],
          "name": "stdout"
        },
        {
          "output_type": "execute_result",
          "data": {
            "text/plain": [
              "array([0])"
            ]
          },
          "metadata": {
            "tags": []
          },
          "execution_count": 19
        }
      ]
    },
    {
      "cell_type": "markdown",
      "metadata": {
        "id": "k8Lo7RoJnhV1",
        "colab_type": "text"
      },
      "source": [
        "GridSearchCV MultinomialNB"
      ]
    },
    {
      "cell_type": "code",
      "metadata": {
        "id": "xX2bbiQN9HIa",
        "colab_type": "code",
        "outputId": "46f38a08-cd48-4463-d96b-c33f47adebb4",
        "colab": {
          "base_uri": "https://localhost:8080/",
          "height": 34
        }
      },
      "source": [
        "parameters = {\n",
        "    # \"vect__ngram_range\": [(1, 1), (1, 2), (1, 3)],\n",
        "    \"vect__max_features\": [1000, 2000, 3000, None],\n",
        "    # \"tfidf__use_idf\": (True, False),\n",
        "    \"clf__alpha\": (1e-0, 1e-1, 1e-2, 1e-3),\n",
        "    }\n",
        "gs_clf = GridSearchCV(text_clf, parameters, n_jobs=-1)\n",
        "gs_clf = gs_clf.fit(X_train[\"tokenized\"], y_train)\n",
        "gs_clf.best_params_"
      ],
      "execution_count": 20,
      "outputs": [
        {
          "output_type": "execute_result",
          "data": {
            "text/plain": [
              "{'clf__alpha': 1.0, 'vect__max_features': None}"
            ]
          },
          "metadata": {
            "tags": []
          },
          "execution_count": 20
        }
      ]
    },
    {
      "cell_type": "code",
      "metadata": {
        "id": "8JaDImb89fX6",
        "colab_type": "code",
        "outputId": "021f5a8c-551e-4f3b-d175-b35918962e3e",
        "colab": {
          "base_uri": "https://localhost:8080/",
          "height": 34
        }
      },
      "source": [
        "gs_clf.best_score_"
      ],
      "execution_count": 21,
      "outputs": [
        {
          "output_type": "execute_result",
          "data": {
            "text/plain": [
              "0.6018209408194235"
            ]
          },
          "metadata": {
            "tags": []
          },
          "execution_count": 21
        }
      ]
    },
    {
      "cell_type": "code",
      "metadata": {
        "id": "x3Kc8OSWmxIB",
        "colab_type": "code",
        "outputId": "aa34bc87-18bb-4142-842d-189cd25197bb",
        "colab": {
          "base_uri": "https://localhost:8080/",
          "height": 51
        }
      },
      "source": [
        "predicted = gs_clf.predict(X_test[\"tokenized\"])\n",
        "tn, fp, fn, tp = confusion_matrix(y_test, predicted).ravel()\n",
        "totalpn = tn + fp + fn + tp\n",
        "cf_mx = np.array([[tp/totalpn, fp/totalpn],[fn/totalpn, tn/totalpn]])\n",
        "cf_mx"
      ],
      "execution_count": 22,
      "outputs": [
        {
          "output_type": "execute_result",
          "data": {
            "text/plain": [
              "array([[0.25204732, 0.1656051 ],\n",
              "       [0.24749773, 0.33484986]])"
            ]
          },
          "metadata": {
            "tags": []
          },
          "execution_count": 22
        }
      ]
    },
    {
      "cell_type": "code",
      "metadata": {
        "id": "F4YMIRSrodO3",
        "colab_type": "code",
        "outputId": "5af0ce74-39d3-47c9-aaa0-5f5ad7ad9c84",
        "colab": {
          "base_uri": "https://localhost:8080/",
          "height": 51
        }
      },
      "source": [
        "%%time\n",
        "# np.mean(cross_val_score(gs_clf, X[\"tokenized\"], y, n_jobs=-2, cv=10))"
      ],
      "execution_count": 23,
      "outputs": [
        {
          "output_type": "stream",
          "text": [
            "CPU times: user 4 µs, sys: 0 ns, total: 4 µs\n",
            "Wall time: 8.11 µs\n"
          ],
          "name": "stdout"
        }
      ]
    },
    {
      "cell_type": "code",
      "metadata": {
        "id": "FQd5M9MXxpbK",
        "colab_type": "code",
        "colab": {}
      },
      "source": [
        "# roc_curve_plot(y_test, predicted)"
      ],
      "execution_count": 0,
      "outputs": []
    },
    {
      "cell_type": "code",
      "metadata": {
        "id": "ySAsUZOi6BCy",
        "colab_type": "code",
        "outputId": "4b52cb7f-fa42-4aa6-e68f-51f832d1cbe1",
        "colab": {
          "base_uri": "https://localhost:8080/",
          "height": 51
        }
      },
      "source": [
        "test_string = [rm_stop_and_tokenize(\"You had me at hello.\")]\n",
        "print(test_string)\n",
        "gs_clf.predict(test_string)"
      ],
      "execution_count": 25,
      "outputs": [
        {
          "output_type": "stream",
          "text": [
            "['you had me at hello']\n"
          ],
          "name": "stdout"
        },
        {
          "output_type": "execute_result",
          "data": {
            "text/plain": [
              "array([0])"
            ]
          },
          "metadata": {
            "tags": []
          },
          "execution_count": 25
        }
      ]
    },
    {
      "cell_type": "markdown",
      "metadata": {
        "id": "VxKTgTTinnt1",
        "colab_type": "text"
      },
      "source": [
        "SGDClassifier"
      ]
    },
    {
      "cell_type": "code",
      "metadata": {
        "id": "3DmRDWan6vJZ",
        "colab_type": "code",
        "outputId": "fecf1b5f-5980-4d8d-f8a8-7cf4dadf0870",
        "colab": {
          "base_uri": "https://localhost:8080/",
          "height": 68
        }
      },
      "source": [
        "text_clf_sgd = Pipeline([\n",
        "                         (\"vect\", CountVectorizer(ngram_range=(1,3))),\n",
        "                         (\"tfidf\", TfidfTransformer()),\n",
        "                         (\"clf-sgd\", SGDClassifier(n_jobs=-1)),\n",
        "                         ])\n",
        "text_clf_sgd.fit(X_train[\"tokenized\"], y_train)\n",
        "print(text_clf_sgd.score(X_test[\"tokenized\"], y_test))\n",
        "\n",
        "predicted = text_clf_sgd.predict(X_test[\"tokenized\"])\n",
        "tn, fp, fn, tp = confusion_matrix(y_test, predicted).ravel()\n",
        "totalpn = tn + fp + fn + tp\n",
        "cf_mx = np.array([[tp/totalpn, fp/totalpn],[fn/totalpn, tn/totalpn]])\n",
        "cf_mx"
      ],
      "execution_count": 26,
      "outputs": [
        {
          "output_type": "stream",
          "text": [
            "0.5941765241128298\n"
          ],
          "name": "stdout"
        },
        {
          "output_type": "execute_result",
          "data": {
            "text/plain": [
              "array([[0.26933576, 0.17561419],\n",
              "       [0.23020928, 0.32484076]])"
            ]
          },
          "metadata": {
            "tags": []
          },
          "execution_count": 26
        }
      ]
    },
    {
      "cell_type": "code",
      "metadata": {
        "id": "7vmF5bVbowYR",
        "colab_type": "code",
        "outputId": "b99f9da4-f280-4931-b9bd-0563fda41557",
        "colab": {
          "base_uri": "https://localhost:8080/",
          "height": 34
        }
      },
      "source": [
        "np.mean(cross_val_score(text_clf_sgd, X[\"tokenized\"], y, n_jobs=-1, cv=10))"
      ],
      "execution_count": 27,
      "outputs": [
        {
          "output_type": "execute_result",
          "data": {
            "text/plain": [
              "0.6056051977635121"
            ]
          },
          "metadata": {
            "tags": []
          },
          "execution_count": 27
        }
      ]
    },
    {
      "cell_type": "code",
      "metadata": {
        "id": "T8JI9U5JxrDO",
        "colab_type": "code",
        "colab": {}
      },
      "source": [
        "# roc_curve_plot(y_test, predicted)"
      ],
      "execution_count": 0,
      "outputs": []
    },
    {
      "cell_type": "code",
      "metadata": {
        "id": "fbQeVXEX57sY",
        "colab_type": "code",
        "outputId": "5aa6cbe9-86a8-491d-fb7d-ea9c4cedafa7",
        "colab": {
          "base_uri": "https://localhost:8080/",
          "height": 51
        }
      },
      "source": [
        "test_string = [rm_stop_and_tokenize(\"You had me at hello.\")]\n",
        "print(test_string)\n",
        "text_clf_sgd.predict(test_string)"
      ],
      "execution_count": 29,
      "outputs": [
        {
          "output_type": "stream",
          "text": [
            "['you had me at hello']\n"
          ],
          "name": "stdout"
        },
        {
          "output_type": "execute_result",
          "data": {
            "text/plain": [
              "array([0])"
            ]
          },
          "metadata": {
            "tags": []
          },
          "execution_count": 29
        }
      ]
    },
    {
      "cell_type": "markdown",
      "metadata": {
        "id": "5ognyWjIz3Oe",
        "colab_type": "text"
      },
      "source": [
        "GridSearchCV SGDClassifier"
      ]
    },
    {
      "cell_type": "code",
      "metadata": {
        "id": "vuF5nZt0z8qz",
        "colab_type": "code",
        "outputId": "c2245df7-ed4d-4600-94e4-857e24d0075a",
        "colab": {
          "base_uri": "https://localhost:8080/",
          "height": 34
        }
      },
      "source": [
        "parameters = {\n",
        "    # \"clf-sgd__loss\": (\"hinge\", \"log\", \"modified_huber\"),\n",
        "    # \"clf-sgd__penalty\": (\"l2\", \"l1\", \"elasticnet\"),\n",
        "    \"clf-sgd__alpha\": (1e-2, 1e-3, 1e-4, 1e-5),\n",
        "    }\n",
        "gs_clf_sgd = GridSearchCV(text_clf_sgd, parameters, n_jobs=-1)\n",
        "gs_clf_sgd = gs_clf_sgd.fit(X_train[\"tokenized\"], y_train)\n",
        "gs_clf_sgd.best_params_"
      ],
      "execution_count": 30,
      "outputs": [
        {
          "output_type": "execute_result",
          "data": {
            "text/plain": [
              "{'clf-sgd__alpha': 0.001}"
            ]
          },
          "metadata": {
            "tags": []
          },
          "execution_count": 30
        }
      ]
    },
    {
      "cell_type": "code",
      "metadata": {
        "id": "dX9M_O0Z0SYp",
        "colab_type": "code",
        "outputId": "9b2ebea4-2599-4f75-9815-146f57163d68",
        "colab": {
          "base_uri": "https://localhost:8080/",
          "height": 34
        }
      },
      "source": [
        "gs_clf_sgd.best_score_"
      ],
      "execution_count": 31,
      "outputs": [
        {
          "output_type": "execute_result",
          "data": {
            "text/plain": [
              "0.6063732928679817"
            ]
          },
          "metadata": {
            "tags": []
          },
          "execution_count": 31
        }
      ]
    },
    {
      "cell_type": "code",
      "metadata": {
        "id": "7QZL6bWo0tMJ",
        "colab_type": "code",
        "outputId": "f7486b85-eda1-4822-c8d4-0a64591e100c",
        "colab": {
          "base_uri": "https://localhost:8080/",
          "height": 34
        }
      },
      "source": [
        "np.mean(cross_val_score(gs_clf_sgd, X[\"tokenized\"], y, n_jobs=-2, cv=10))"
      ],
      "execution_count": 32,
      "outputs": [
        {
          "output_type": "execute_result",
          "data": {
            "text/plain": [
              "0.6153903499689377"
            ]
          },
          "metadata": {
            "tags": []
          },
          "execution_count": 32
        }
      ]
    },
    {
      "cell_type": "code",
      "metadata": {
        "id": "HaSlcozs4pg7",
        "colab_type": "code",
        "outputId": "e6ab9c8e-830f-4066-a8c7-55a895f34510",
        "colab": {
          "base_uri": "https://localhost:8080/",
          "height": 51
        }
      },
      "source": [
        "predicted = gs_clf_sgd.predict(X_test[\"tokenized\"])\n",
        "tn, fp, fn, tp = confusion_matrix(y_test, predicted).ravel()\n",
        "totalpn = tn + fp + fn + tp\n",
        "cf_mx = np.array([[tp/totalpn, fp/totalpn],[fn/totalpn, tn/totalpn]])\n",
        "cf_mx"
      ],
      "execution_count": 33,
      "outputs": [
        {
          "output_type": "execute_result",
          "data": {
            "text/plain": [
              "array([[0.31847134, 0.20473157],\n",
              "       [0.1810737 , 0.29572338]])"
            ]
          },
          "metadata": {
            "tags": []
          },
          "execution_count": 33
        }
      ]
    },
    {
      "cell_type": "code",
      "metadata": {
        "id": "KmpG6EFextBb",
        "colab_type": "code",
        "colab": {}
      },
      "source": [
        "# roc_curve_plot(y_test, predicted)"
      ],
      "execution_count": 0,
      "outputs": []
    },
    {
      "cell_type": "code",
      "metadata": {
        "id": "-MEH-7Hl5I_F",
        "colab_type": "code",
        "outputId": "5fbfb560-8fa3-45e9-f155-868f1279283a",
        "colab": {
          "base_uri": "https://localhost:8080/",
          "height": 51
        }
      },
      "source": [
        "test_string = [rm_stop_and_tokenize('You had me at \"Hello.\"')]\n",
        "print(test_string)\n",
        "gs_clf_sgd.predict(test_string)"
      ],
      "execution_count": 35,
      "outputs": [
        {
          "output_type": "stream",
          "text": [
            "['you had me at hello']\n"
          ],
          "name": "stdout"
        },
        {
          "output_type": "execute_result",
          "data": {
            "text/plain": [
              "array([0])"
            ]
          },
          "metadata": {
            "tags": []
          },
          "execution_count": 35
        }
      ]
    },
    {
      "cell_type": "markdown",
      "metadata": {
        "id": "p0s9eNiwnrtD",
        "colab_type": "text"
      },
      "source": [
        "BernoulliNB"
      ]
    },
    {
      "cell_type": "code",
      "metadata": {
        "id": "pYb057NBErWm",
        "colab_type": "code",
        "outputId": "4a1ed261-049e-4cf6-ca8b-9f5d8fb092ac",
        "colab": {
          "base_uri": "https://localhost:8080/",
          "height": 68
        }
      },
      "source": [
        "text_clf_bern = Pipeline([\n",
        "                     (\"vect\", CountVectorizer(ngram_range=(1,3))),\n",
        "                     (\"tfidf\", TfidfTransformer()),\n",
        "                     (\"clf\", BernoulliNB()),\n",
        "                     ])\n",
        "text_clf_bern = text_clf_bern.fit(X_train[\"tokenized\"], y_train)\n",
        "print(text_clf_bern.score(X_test[\"tokenized\"], y_test))\n",
        "\n",
        "predicted = text_clf_bern.predict(X_test[\"tokenized\"])\n",
        "tn, fp, fn, tp = confusion_matrix(y_test, predicted).ravel()\n",
        "totalpn = tn + fp + fn + tp\n",
        "cf_mx = np.array([[tp/totalpn, fp/totalpn],[fn/totalpn, tn/totalpn]])\n",
        "cf_mx"
      ],
      "execution_count": 36,
      "outputs": [
        {
          "output_type": "stream",
          "text": [
            "0.5878070973612375\n"
          ],
          "name": "stdout"
        },
        {
          "output_type": "execute_result",
          "data": {
            "text/plain": [
              "array([[0.28025478, 0.19290264],\n",
              "       [0.21929026, 0.30755232]])"
            ]
          },
          "metadata": {
            "tags": []
          },
          "execution_count": 36
        }
      ]
    },
    {
      "cell_type": "code",
      "metadata": {
        "id": "OOxaq1Ouo4RH",
        "colab_type": "code",
        "outputId": "0b56d223-f612-4414-82d7-ac6ccd3db465",
        "colab": {
          "base_uri": "https://localhost:8080/",
          "height": 34
        }
      },
      "source": [
        "np.mean(cross_val_score(text_clf_bern, X[\"tokenized\"], y, n_jobs=-1, cv=10))"
      ],
      "execution_count": 37,
      "outputs": [
        {
          "output_type": "execute_result",
          "data": {
            "text/plain": [
              "0.6044626216607993"
            ]
          },
          "metadata": {
            "tags": []
          },
          "execution_count": 37
        }
      ]
    },
    {
      "cell_type": "code",
      "metadata": {
        "id": "5lZLRz7uxvJU",
        "colab_type": "code",
        "colab": {}
      },
      "source": [
        "# roc_curve_plot(y_test, predicted)"
      ],
      "execution_count": 0,
      "outputs": []
    },
    {
      "cell_type": "code",
      "metadata": {
        "id": "fUUkqX_d51Gn",
        "colab_type": "code",
        "outputId": "81875cc1-4f4d-47d1-aea9-81bec0c39851",
        "colab": {
          "base_uri": "https://localhost:8080/",
          "height": 51
        }
      },
      "source": [
        "test_string = [rm_stop_and_tokenize(\"You had me at hello.\")]\n",
        "print(test_string)\n",
        "text_clf_bern.predict(test_string)"
      ],
      "execution_count": 39,
      "outputs": [
        {
          "output_type": "stream",
          "text": [
            "['you had me at hello']\n"
          ],
          "name": "stdout"
        },
        {
          "output_type": "execute_result",
          "data": {
            "text/plain": [
              "array([0])"
            ]
          },
          "metadata": {
            "tags": []
          },
          "execution_count": 39
        }
      ]
    },
    {
      "cell_type": "markdown",
      "metadata": {
        "id": "LlT42sBonunK",
        "colab_type": "text"
      },
      "source": [
        "RandomForestClassifier"
      ]
    },
    {
      "cell_type": "code",
      "metadata": {
        "id": "qKIQk_AeHmzr",
        "colab_type": "code",
        "outputId": "25e2811f-12a7-4c6d-f817-0d857d863209",
        "colab": {
          "base_uri": "https://localhost:8080/",
          "height": 68
        }
      },
      "source": [
        "text_clf_rfc = Pipeline([\n",
        "                    (\"vect\", CountVectorizer(ngram_range=(1,3))),\n",
        "                    (\"tfidf\", TfidfTransformer()),\n",
        "                    (\"clf\", RandomForestClassifier(n_estimators=200, oob_score=True, n_jobs=-1)),\n",
        "                    ])\n",
        "text_clf_rfc = text_clf_rfc.fit(X_train[\"tokenized\"], y_train)\n",
        "print(text_clf_rfc.score(X_test[\"tokenized\"], y_test))\n",
        "\n",
        "predicted = text_clf_rfc.predict(X_test[\"tokenized\"])\n",
        "tn, fp, fn, tp = confusion_matrix(y_test, predicted).ravel()\n",
        "totalpn = tn + fp + fn + tp\n",
        "cf_mx = np.array([[tp/totalpn, fp/totalpn],[fn/totalpn, tn/totalpn]])\n",
        "cf_mx"
      ],
      "execution_count": 40,
      "outputs": [
        {
          "output_type": "stream",
          "text": [
            "0.5814376706096451\n"
          ],
          "name": "stdout"
        },
        {
          "output_type": "execute_result",
          "data": {
            "text/plain": [
              "array([[0.19017288, 0.10919017],\n",
              "       [0.30937216, 0.39126479]])"
            ]
          },
          "metadata": {
            "tags": []
          },
          "execution_count": 40
        }
      ]
    },
    {
      "cell_type": "code",
      "metadata": {
        "id": "heFkyHMcp-zm",
        "colab_type": "code",
        "outputId": "7a1b90aa-aee0-4c1e-f555-2f1cc113c293",
        "colab": {
          "base_uri": "https://localhost:8080/",
          "height": 34
        }
      },
      "source": [
        "np.mean(cross_val_score(text_clf_rfc, X[\"tokenized\"], y, n_jobs=-1, cv=10))"
      ],
      "execution_count": 41,
      "outputs": [
        {
          "output_type": "execute_result",
          "data": {
            "text/plain": [
              "0.5869408780285774"
            ]
          },
          "metadata": {
            "tags": []
          },
          "execution_count": 41
        }
      ]
    },
    {
      "cell_type": "code",
      "metadata": {
        "id": "RLM6ZMTvxw2J",
        "colab_type": "code",
        "colab": {}
      },
      "source": [
        "# roc_curve_plot(y_test, predicted)"
      ],
      "execution_count": 0,
      "outputs": []
    },
    {
      "cell_type": "code",
      "metadata": {
        "id": "7ongBOfrjZ3L",
        "colab_type": "code",
        "outputId": "cd018fe9-3b31-40ca-922b-d884736d903d",
        "colab": {
          "base_uri": "https://localhost:8080/",
          "height": 51
        }
      },
      "source": [
        "test_string = [rm_stop_and_tokenize(\"You had me at hello.\")]\n",
        "print(test_string)\n",
        "text_clf_rfc.predict(test_string)"
      ],
      "execution_count": 43,
      "outputs": [
        {
          "output_type": "stream",
          "text": [
            "['you had me at hello']\n"
          ],
          "name": "stdout"
        },
        {
          "output_type": "execute_result",
          "data": {
            "text/plain": [
              "array([0])"
            ]
          },
          "metadata": {
            "tags": []
          },
          "execution_count": 43
        }
      ]
    },
    {
      "cell_type": "markdown",
      "metadata": {
        "id": "dyGlU4FEn97l",
        "colab_type": "text"
      },
      "source": [
        "CatBoostClassifier"
      ]
    },
    {
      "cell_type": "code",
      "metadata": {
        "id": "OnA9V-PZIMts",
        "colab_type": "code",
        "outputId": "fdb1d8a8-9951-4294-c048-2f81a46c909b",
        "colab": {
          "base_uri": "https://localhost:8080/",
          "height": 34
        }
      },
      "source": [
        "text_clf_cat = Pipeline([\n",
        "                    (\"vect\", CountVectorizer(ngram_range=(1,3))),\n",
        "                    (\"tfidf\", TfidfTransformer()),\n",
        "                    (\"clf\", CatBoostClassifier(verbose=False)),\n",
        "                    ])\n",
        "text_clf_cat = text_clf_cat.fit(X_train[\"tokenized\"], y_train)\n",
        "predicted = text_clf_cat.predict(X_test[\"tokenized\"])\n",
        "\n",
        "np.mean(y_test == predicted)"
      ],
      "execution_count": 44,
      "outputs": [
        {
          "output_type": "execute_result",
          "data": {
            "text/plain": [
              "0.5677888989990901"
            ]
          },
          "metadata": {
            "tags": []
          },
          "execution_count": 44
        }
      ]
    },
    {
      "cell_type": "code",
      "metadata": {
        "id": "OOsRMxlerasO",
        "colab_type": "code",
        "outputId": "42c365a6-8b4b-4e93-c89f-909e5ae8f8c3",
        "colab": {
          "base_uri": "https://localhost:8080/",
          "height": 51
        }
      },
      "source": [
        "%%time\n",
        "# np.mean(cross_val_score(text_clf_cat, X[\"tokenized\"], y, n_jobs=-2, cv=10))"
      ],
      "execution_count": 45,
      "outputs": [
        {
          "output_type": "stream",
          "text": [
            "CPU times: user 2 µs, sys: 0 ns, total: 2 µs\n",
            "Wall time: 5.01 µs\n"
          ],
          "name": "stdout"
        }
      ]
    },
    {
      "cell_type": "code",
      "metadata": {
        "id": "FlCHCm3ixyeD",
        "colab_type": "code",
        "colab": {}
      },
      "source": [
        "# roc_curve_plot(y_test, predicted)"
      ],
      "execution_count": 0,
      "outputs": []
    },
    {
      "cell_type": "code",
      "metadata": {
        "id": "WNrolBbC5xgl",
        "colab_type": "code",
        "outputId": "a9b933de-e24f-4a4a-c2b9-f6e5f73b0482",
        "colab": {
          "base_uri": "https://localhost:8080/",
          "height": 51
        }
      },
      "source": [
        "test_string = [rm_stop_and_tokenize(\"You had me at hello.\")]\n",
        "print(test_string)\n",
        "text_clf_cat.predict(test_string)"
      ],
      "execution_count": 47,
      "outputs": [
        {
          "output_type": "stream",
          "text": [
            "['you had me at hello']\n"
          ],
          "name": "stdout"
        },
        {
          "output_type": "execute_result",
          "data": {
            "text/plain": [
              "array([0])"
            ]
          },
          "metadata": {
            "tags": []
          },
          "execution_count": 47
        }
      ]
    },
    {
      "cell_type": "markdown",
      "metadata": {
        "id": "_hFKxC4iwX7V",
        "colab_type": "text"
      },
      "source": [
        "LinearSVC"
      ]
    },
    {
      "cell_type": "code",
      "metadata": {
        "id": "5uCtck_swYlK",
        "colab_type": "code",
        "outputId": "c93bc563-6ed2-4aac-f9de-1a1fc8ba19ef",
        "colab": {
          "base_uri": "https://localhost:8080/",
          "height": 68
        }
      },
      "source": [
        "text_clf_lsvc = Pipeline([\n",
        "                    (\"vect\", CountVectorizer(ngram_range=(1,3))),\n",
        "                    (\"tfidf\", TfidfTransformer()),\n",
        "                    (\"clf\", LinearSVC()),\n",
        "                    ])\n",
        "text_clf_lsvc = text_clf_lsvc.fit(X_train[\"tokenized\"], y_train)\n",
        "print(text_clf_lsvc.score(X_test[\"tokenized\"], y_test))\n",
        "\n",
        "predicted = text_clf_lsvc.predict(X_test[\"tokenized\"])\n",
        "tn, fp, fn, tp = confusion_matrix(y_test, predicted).ravel()\n",
        "totalpn = tn + fp + fn + tp\n",
        "cf_mx = np.array([[tp/totalpn, fp/totalpn],[fn/totalpn, tn/totalpn]])\n",
        "cf_mx"
      ],
      "execution_count": 48,
      "outputs": [
        {
          "output_type": "stream",
          "text": [
            "0.5923566878980892\n"
          ],
          "name": "stdout"
        },
        {
          "output_type": "execute_result",
          "data": {
            "text/plain": [
              "array([[0.26842584, 0.17652411],\n",
              "       [0.2311192 , 0.32393085]])"
            ]
          },
          "metadata": {
            "tags": []
          },
          "execution_count": 48
        }
      ]
    },
    {
      "cell_type": "code",
      "metadata": {
        "id": "fq-ygHwKwnHO",
        "colab_type": "code",
        "outputId": "c358af86-9549-447a-b0f6-d2fe20f4e29c",
        "colab": {
          "base_uri": "https://localhost:8080/",
          "height": 34
        }
      },
      "source": [
        "np.mean(cross_val_score(text_clf_lsvc, X[\"tokenized\"], y, n_jobs=-1, cv=10))"
      ],
      "execution_count": 49,
      "outputs": [
        {
          "output_type": "execute_result",
          "data": {
            "text/plain": [
              "0.611518948022365"
            ]
          },
          "metadata": {
            "tags": []
          },
          "execution_count": 49
        }
      ]
    },
    {
      "cell_type": "code",
      "metadata": {
        "id": "7fnBuseox0KU",
        "colab_type": "code",
        "colab": {}
      },
      "source": [
        "# roc_curve_plot(y_test, predicted)"
      ],
      "execution_count": 0,
      "outputs": []
    },
    {
      "cell_type": "code",
      "metadata": {
        "id": "g7cI-l6z6fq3",
        "colab_type": "code",
        "outputId": "8da05f50-9f31-42fc-9c5c-b2ea4184afeb",
        "colab": {
          "base_uri": "https://localhost:8080/",
          "height": 51
        }
      },
      "source": [
        "test_string = [rm_stop_and_tokenize(\"You had me at hello.\")]\n",
        "print(test_string)\n",
        "text_clf_lsvc.predict(test_string)"
      ],
      "execution_count": 51,
      "outputs": [
        {
          "output_type": "stream",
          "text": [
            "['you had me at hello']\n"
          ],
          "name": "stdout"
        },
        {
          "output_type": "execute_result",
          "data": {
            "text/plain": [
              "array([0])"
            ]
          },
          "metadata": {
            "tags": []
          },
          "execution_count": 51
        }
      ]
    },
    {
      "cell_type": "markdown",
      "metadata": {
        "id": "KpacdTmHUunS",
        "colab_type": "text"
      },
      "source": [
        "Clustering"
      ]
    },
    {
      "cell_type": "code",
      "metadata": {
        "id": "Hv7EhuG-Us2G",
        "colab_type": "code",
        "colab": {}
      },
      "source": [
        "# for n_clusters in range(2,10):\n",
        "#   text_clstr = Pipeline([\n",
        "#                       (\"vect\", CountVectorizer(ngram_range=(1,3))),\n",
        "#                       (\"tfidf\", TfidfTransformer()),\n",
        "#                       (\"to_dense\", FunctionTransformer(lambda x: x.toarray(), accept_sparse=True)), \n",
        "#                       (\"clstr\", KMeans(n_clusters=n_clusters, n_jobs=-1)),\n",
        "#                       ])\n",
        "#   text_clstr = text_clstr.fit(df[df[\"memorable?\"] == 1][\"tokenized\"])\n",
        "#   cluster_labels = text_clstr[\"clstr\"].fit_predict(text_clstr[\"tfidf\"].idf_.reshape(-1, 1))\n",
        "#   print(n_clusters)\n",
        "#   print(silhouette_score(text_clstr[\"tfidf\"].idf_.reshape(-1, 1), cluster_labels))"
      ],
      "execution_count": 0,
      "outputs": []
    },
    {
      "cell_type": "code",
      "metadata": {
        "id": "lHrdm56s5WuC",
        "colab_type": "code",
        "outputId": "62aa48f5-ed15-4194-f9b4-df4728254f3a",
        "colab": {
          "base_uri": "https://localhost:8080/",
          "height": 170
        }
      },
      "source": [
        "%%time\n",
        "\n",
        "X_feats = Pipeline([\n",
        "                    (\"vect\", CountVectorizer(ngram_range=(1,3))),\n",
        "                    (\"tfidf\", TfidfTransformer()),\n",
        "                    (\"to_dense\", FunctionTransformer(lambda x: x.toarray(), accept_sparse=True)),\n",
        "                    ])\n",
        "X_feats = X_feats.fit_transform(df[\"line\"])\n",
        "\n",
        "range_n_clusters = range(2,9)\n",
        "for n_clusters in range_n_clusters:\n",
        "  mbkmeans = MiniBatchKMeans(n_clusters=n_clusters)\n",
        "  cluster_labels = mbkmeans.fit_predict(X_feats)\n",
        "\n",
        "  silhouette_avg = silhouette_score(X_feats, cluster_labels)\n",
        "  print(\"For n_clusters =\", n_clusters,\n",
        "        \"The average silhouette_score is :\", silhouette_avg)\n"
      ],
      "execution_count": 53,
      "outputs": [
        {
          "output_type": "stream",
          "text": [
            "For n_clusters = 2 The average silhouette_score is : 0.0004567327567487123\n",
            "For n_clusters = 3 The average silhouette_score is : -0.0003908667247347646\n",
            "For n_clusters = 4 The average silhouette_score is : -0.0017756396417998174\n",
            "For n_clusters = 5 The average silhouette_score is : -0.0013142856267943643\n",
            "For n_clusters = 6 The average silhouette_score is : -0.0020173697522622752\n",
            "For n_clusters = 7 The average silhouette_score is : -0.005479969984197092\n",
            "For n_clusters = 8 The average silhouette_score is : -0.004392534430039383\n",
            "CPU times: user 8min 19s, sys: 55.7 s, total: 9min 15s\n",
            "Wall time: 4min 45s\n"
          ],
          "name": "stdout"
        }
      ]
    },
    {
      "cell_type": "code",
      "metadata": {
        "id": "6E9wg8U_zdBT",
        "colab_type": "code",
        "colab": {}
      },
      "source": [
        "mini_km = MiniBatchKMeans(n_clusters=2).fit(X_feats)"
      ],
      "execution_count": 0,
      "outputs": []
    },
    {
      "cell_type": "code",
      "metadata": {
        "id": "lJ6W6zj36Wm7",
        "colab_type": "code",
        "colab": {}
      },
      "source": [
        "euc_arr0 = []\n",
        "euc_arr1 = []\n",
        "for row in X_feats:\n",
        "  euc_arr0.append(distance.euclidean(row, mini_km.cluster_centers_[0]))\n",
        "  euc_arr1.append(distance.euclidean(row, mini_km.cluster_centers_[1]))\n",
        "euc_arr0 = np.array(euc_arr0)\n",
        "euc_arr1 = np.array(euc_arr1)"
      ],
      "execution_count": 0,
      "outputs": []
    },
    {
      "cell_type": "code",
      "metadata": {
        "id": "q3K8kfu78LKX",
        "colab_type": "code",
        "colab": {}
      },
      "source": [
        "# cos_arr0 = []\n",
        "# cos_arr1 = []\n",
        "# for row in array_text:\n",
        "#   cos_arr0.append(distance.cosine(row, mini_km.cluster_centers_[0]))\n",
        "#   cos_arr1.append(distance.cosine(row, mini_km.cluster_centers_[1]))\n",
        "# cos_arr0 = np.array(cos_arr0)\n",
        "# cos_arr1 = np.array(cos_arr1)"
      ],
      "execution_count": 0,
      "outputs": []
    },
    {
      "cell_type": "code",
      "metadata": {
        "id": "NvoafTE0-gAc",
        "colab_type": "code",
        "colab": {
          "base_uri": "https://localhost:8080/",
          "height": 34
        },
        "outputId": "ea4e7b1e-df93-4970-82d2-01b325c37372"
      },
      "source": [
        "Counter(mini_km.labels_)"
      ],
      "execution_count": 60,
      "outputs": [
        {
          "output_type": "execute_result",
          "data": {
            "text/plain": [
              "Counter({0: 259, 1: 4135})"
            ]
          },
          "metadata": {
            "tags": []
          },
          "execution_count": 60
        }
      ]
    },
    {
      "cell_type": "code",
      "metadata": {
        "id": "V9iK9Ipu6WuB",
        "colab_type": "code",
        "colab": {
          "base_uri": "https://localhost:8080/",
          "height": 34
        },
        "outputId": "a93e0c03-3556-4687-c411-34130c5812fd"
      },
      "source": [
        "euc_arr0.argsort()"
      ],
      "execution_count": 61,
      "outputs": [
        {
          "output_type": "execute_result",
          "data": {
            "text/plain": [
              "array([2470, 1182, 3162, ..., 2022, 3444, 3136])"
            ]
          },
          "metadata": {
            "tags": []
          },
          "execution_count": 61
        }
      ]
    },
    {
      "cell_type": "code",
      "metadata": {
        "id": "jXN6M4MV_vDd",
        "colab_type": "code",
        "colab": {
          "base_uri": "https://localhost:8080/",
          "height": 34
        },
        "outputId": "4048f929-aecb-44c6-c86e-917cd8e14dfe"
      },
      "source": [
        "euc_arr1.argsort()"
      ],
      "execution_count": 62,
      "outputs": [
        {
          "output_type": "execute_result",
          "data": {
            "text/plain": [
              "array([3681, 3079,  849, ...,  701, 2120, 2022])"
            ]
          },
          "metadata": {
            "tags": []
          },
          "execution_count": 62
        }
      ]
    },
    {
      "cell_type": "code",
      "metadata": {
        "id": "rGR3fcxf_5q1",
        "colab_type": "code",
        "colab": {
          "base_uri": "https://localhost:8080/",
          "height": 34
        },
        "outputId": "0f77bc92-2fbe-4300-840a-cdabd54e36b1"
      },
      "source": [
        "np.sum(X_feats[2262])"
      ],
      "execution_count": 64,
      "outputs": [
        {
          "output_type": "execute_result",
          "data": {
            "text/plain": [
              "2.449489742783178"
            ]
          },
          "metadata": {
            "tags": []
          },
          "execution_count": 64
        }
      ]
    },
    {
      "cell_type": "code",
      "metadata": {
        "id": "X_kE7a96AGWU",
        "colab_type": "code",
        "colab": {
          "base_uri": "https://localhost:8080/",
          "height": 34
        },
        "outputId": "ac236c65-1517-40a1-859a-5cc4a5303a00"
      },
      "source": [
        "rm_stop_and_tokenize(\"I despise a floggin' rooster.\t\")"
      ],
      "execution_count": 65,
      "outputs": [
        {
          "output_type": "execute_result",
          "data": {
            "text/plain": [
              "'i despise a floggin rooster'"
            ]
          },
          "metadata": {
            "tags": []
          },
          "execution_count": 65
        }
      ]
    },
    {
      "cell_type": "code",
      "metadata": {
        "id": "zlDo2236zxbo",
        "colab_type": "code",
        "colab": {
          "base_uri": "https://localhost:8080/",
          "height": 475
        },
        "outputId": "977dfce3-5ff5-433a-ff66-088fcd20e0bb"
      },
      "source": [
        "df.iloc[euc_arr0.argsort()[:10]]"
      ],
      "execution_count": 68,
      "outputs": [
        {
          "output_type": "execute_result",
          "data": {
            "text/html": [
              "<div>\n",
              "<style scoped>\n",
              "    .dataframe tbody tr th:only-of-type {\n",
              "        vertical-align: middle;\n",
              "    }\n",
              "\n",
              "    .dataframe tbody tr th {\n",
              "        vertical-align: top;\n",
              "    }\n",
              "\n",
              "    .dataframe thead th {\n",
              "        text-align: right;\n",
              "    }\n",
              "</style>\n",
              "<table border=\"1\" class=\"dataframe\">\n",
              "  <thead>\n",
              "    <tr style=\"text-align: right;\">\n",
              "      <th></th>\n",
              "      <th>movie_title</th>\n",
              "      <th>line</th>\n",
              "      <th>levenshtein_distance_from_script</th>\n",
              "      <th>memorable?</th>\n",
              "      <th>tokenized</th>\n",
              "      <th>parts_of_speech</th>\n",
              "    </tr>\n",
              "    <tr>\n",
              "      <th>line_id</th>\n",
              "      <th></th>\n",
              "      <th></th>\n",
              "      <th></th>\n",
              "      <th></th>\n",
              "      <th></th>\n",
              "      <th></th>\n",
              "    </tr>\n",
              "  </thead>\n",
              "  <tbody>\n",
              "    <tr>\n",
              "      <th>492109</th>\n",
              "      <td>lost in space</td>\n",
              "      <td>We're lost, aren't we?</td>\n",
              "      <td>0</td>\n",
              "      <td>1</td>\n",
              "      <td>we re lost aren t we</td>\n",
              "      <td>[NNP, VBP, NN, NN]</td>\n",
              "    </tr>\n",
              "    <tr>\n",
              "      <th>854322</th>\n",
              "      <td>wag the dog</td>\n",
              "      <td>We're not gonna have a war, we're gonna have t...</td>\n",
              "      <td>18</td>\n",
              "      <td>1</td>\n",
              "      <td>we re not gon na have a war we re gon na have ...</td>\n",
              "      <td>[NNP, RB, RB, VBP, DT, NN, NN, NN, VBP, DT, NN...</td>\n",
              "    </tr>\n",
              "    <tr>\n",
              "      <th>117279</th>\n",
              "      <td>blade runner</td>\n",
              "      <td>We're not computers, Sebastian, we're physical.</td>\n",
              "      <td>0</td>\n",
              "      <td>1</td>\n",
              "      <td>we re not computer sebastian we re physical</td>\n",
              "      <td>[NNP, RB, VB, NNP, NN, NN]</td>\n",
              "    </tr>\n",
              "    <tr>\n",
              "      <th>796532</th>\n",
              "      <td>the third man</td>\n",
              "      <td>If we have to see the Porter we'd better go.</td>\n",
              "      <td>0</td>\n",
              "      <td>0</td>\n",
              "      <td>if we have to see the porter we d better go</td>\n",
              "      <td>[IN, PRP, VBP, TO, VB, DT, NNP, NN, RBR, NN]</td>\n",
              "    </tr>\n",
              "    <tr>\n",
              "      <th>683671</th>\n",
              "      <td>shallow grave</td>\n",
              "      <td>Now this is what we need.</td>\n",
              "      <td>0</td>\n",
              "      <td>0</td>\n",
              "      <td>now this is what we need</td>\n",
              "      <td>[RB, DT, VBZ, WP, PRP, VBP]</td>\n",
              "    </tr>\n",
              "    <tr>\n",
              "      <th>225751</th>\n",
              "      <td>the departed</td>\n",
              "      <td>We've been after this cocksucker for a long ti...</td>\n",
              "      <td>0</td>\n",
              "      <td>0</td>\n",
              "      <td>we ve been after this cocksucker for a long ti...</td>\n",
              "      <td>[NNP, VBN, IN, DT, NN, IN, DT, JJ, NN, CC, NN,...</td>\n",
              "    </tr>\n",
              "    <tr>\n",
              "      <th>574730</th>\n",
              "      <td>o brother, where art thou?</td>\n",
              "      <td>I know we're kin!</td>\n",
              "      <td>0</td>\n",
              "      <td>0</td>\n",
              "      <td>i know we re kin</td>\n",
              "      <td>[PRP, VBP, JJ, NN]</td>\n",
              "    </tr>\n",
              "    <tr>\n",
              "      <th>535346</th>\n",
              "      <td>mission to mars</td>\n",
              "      <td>When we get back, we have GOT to try this in t...</td>\n",
              "      <td>29</td>\n",
              "      <td>1</td>\n",
              "      <td>when we get back we have got to try this in th...</td>\n",
              "      <td>[WRB, PRP, VBP, IN, PRP, VBP, VBN, TO, VB, DT,...</td>\n",
              "    </tr>\n",
              "    <tr>\n",
              "      <th>284470</th>\n",
              "      <td>final destination 2</td>\n",
              "      <td>We're *all* going to die.</td>\n",
              "      <td>68</td>\n",
              "      <td>1</td>\n",
              "      <td>we re all going to die</td>\n",
              "      <td>[NNP, VBZ, VBG, TO, VB]</td>\n",
              "    </tr>\n",
              "    <tr>\n",
              "      <th>389559</th>\n",
              "      <td>house on haunted hill</td>\n",
              "      <td>Oh, I think we're going to have several.</td>\n",
              "      <td>0</td>\n",
              "      <td>0</td>\n",
              "      <td>oh i think we re going to have several</td>\n",
              "      <td>[IN, PRP, VBP, RB, VBG, TO, VB, NN]</td>\n",
              "    </tr>\n",
              "  </tbody>\n",
              "</table>\n",
              "</div>"
            ],
            "text/plain": [
              "                        movie_title  ...                                    parts_of_speech\n",
              "line_id                              ...                                                   \n",
              "492109                lost in space  ...                                 [NNP, VBP, NN, NN]\n",
              "854322                  wag the dog  ...  [NNP, RB, RB, VBP, DT, NN, NN, NN, VBP, DT, NN...\n",
              "117279                 blade runner  ...                         [NNP, RB, VB, NNP, NN, NN]\n",
              "796532                the third man  ...       [IN, PRP, VBP, TO, VB, DT, NNP, NN, RBR, NN]\n",
              "683671                shallow grave  ...                        [RB, DT, VBZ, WP, PRP, VBP]\n",
              "225751                 the departed  ...  [NNP, VBN, IN, DT, NN, IN, DT, JJ, NN, CC, NN,...\n",
              "574730   o brother, where art thou?  ...                                 [PRP, VBP, JJ, NN]\n",
              "535346              mission to mars  ...  [WRB, PRP, VBP, IN, PRP, VBP, VBN, TO, VB, DT,...\n",
              "284470          final destination 2  ...                            [NNP, VBZ, VBG, TO, VB]\n",
              "389559        house on haunted hill  ...                [IN, PRP, VBP, RB, VBG, TO, VB, NN]\n",
              "\n",
              "[10 rows x 6 columns]"
            ]
          },
          "metadata": {
            "tags": []
          },
          "execution_count": 68
        }
      ]
    },
    {
      "cell_type": "code",
      "metadata": {
        "id": "rTuw5tpJ6Wz6",
        "colab_type": "code",
        "colab": {
          "base_uri": "https://localhost:8080/",
          "height": 543
        },
        "outputId": "26cd8ad4-75e8-4772-fad6-f2a927e98283"
      },
      "source": [
        "df.iloc[euc_arr1.argsort()[:10]]"
      ],
      "execution_count": 66,
      "outputs": [
        {
          "output_type": "execute_result",
          "data": {
            "text/html": [
              "<div>\n",
              "<style scoped>\n",
              "    .dataframe tbody tr th:only-of-type {\n",
              "        vertical-align: middle;\n",
              "    }\n",
              "\n",
              "    .dataframe tbody tr th {\n",
              "        vertical-align: top;\n",
              "    }\n",
              "\n",
              "    .dataframe thead th {\n",
              "        text-align: right;\n",
              "    }\n",
              "</style>\n",
              "<table border=\"1\" class=\"dataframe\">\n",
              "  <thead>\n",
              "    <tr style=\"text-align: right;\">\n",
              "      <th></th>\n",
              "      <th>movie_title</th>\n",
              "      <th>line</th>\n",
              "      <th>levenshtein_distance_from_script</th>\n",
              "      <th>memorable?</th>\n",
              "      <th>tokenized</th>\n",
              "      <th>parts_of_speech</th>\n",
              "    </tr>\n",
              "    <tr>\n",
              "      <th>line_id</th>\n",
              "      <th></th>\n",
              "      <th></th>\n",
              "      <th></th>\n",
              "      <th></th>\n",
              "      <th></th>\n",
              "      <th></th>\n",
              "    </tr>\n",
              "  </thead>\n",
              "  <tbody>\n",
              "    <tr>\n",
              "      <th>645373</th>\n",
              "      <td>revolutionary road</td>\n",
              "      <td>And what do you think you're going to do?</td>\n",
              "      <td>0</td>\n",
              "      <td>0</td>\n",
              "      <td>and what do you think you re going to do</td>\n",
              "      <td>[CC, WP, VBP, PRP, VB, RB, VBG, TO, VB]</td>\n",
              "    </tr>\n",
              "    <tr>\n",
              "      <th>683835</th>\n",
              "      <td>shallow grave</td>\n",
              "      <td>You're not going to take it to a bank Or what,...</td>\n",
              "      <td>0</td>\n",
              "      <td>0</td>\n",
              "      <td>you re not going to take it to a bank or what ...</td>\n",
              "      <td>[MD, RB, VBG, TO, VB, PRP, TO, DT, NN, CC, VB,...</td>\n",
              "    </tr>\n",
              "    <tr>\n",
              "      <th>233874</th>\n",
              "      <td>dogma</td>\n",
              "      <td>...and now you're telling me that I'm supposed...</td>\n",
              "      <td>0</td>\n",
              "      <td>0</td>\n",
              "      <td>and now you re telling me that i m supposed to...</td>\n",
              "      <td>[NN, RB, VBZ, VBG, PRP, IN, NNP, VBD, TO, VB, ...</td>\n",
              "    </tr>\n",
              "    <tr>\n",
              "      <th>698263</th>\n",
              "      <td>the sixth sense</td>\n",
              "      <td>You don't have to tell me your secret if you d...</td>\n",
              "      <td>0</td>\n",
              "      <td>0</td>\n",
              "      <td>you don t have to tell me your secret if you d...</td>\n",
              "      <td>[PRP, VBP, VB, TO, VB, PRP, PRP$, JJ, IN, PRP,...</td>\n",
              "    </tr>\n",
              "    <tr>\n",
              "      <th>545759</th>\n",
              "      <td>mumford</td>\n",
              "      <td>I agree with you that you don't know what you'...</td>\n",
              "      <td>0</td>\n",
              "      <td>0</td>\n",
              "      <td>i agree with you that you don t know what you ...</td>\n",
              "      <td>[PRP, VBP, IN, PRP, IN, PRP, VBP, VB, WP, VB, ...</td>\n",
              "    </tr>\n",
              "    <tr>\n",
              "      <th>694505</th>\n",
              "      <td>silence of the lambs</td>\n",
              "      <td>You're so close to the way you're going to cat...</td>\n",
              "      <td>0</td>\n",
              "      <td>0</td>\n",
              "      <td>you re so close to the way you re going to cat...</td>\n",
              "      <td>[NNP, RB, RB, TO, DT, NN, VBZ, VBG, TO, VB, PR...</td>\n",
              "    </tr>\n",
              "    <tr>\n",
              "      <th>225648</th>\n",
              "      <td>the departed</td>\n",
              "      <td>Do you want him to chop me up and feed me to t...</td>\n",
              "      <td>45</td>\n",
              "      <td>1</td>\n",
              "      <td>do you want him to chop me up and feed me to t...</td>\n",
              "      <td>[VBP, PRP, VB, PRP, TO, VB, PRP, RP, CC, VB, P...</td>\n",
              "    </tr>\n",
              "    <tr>\n",
              "      <th>711742</th>\n",
              "      <td>someone to watch over me</td>\n",
              "      <td>What do you want to do?</td>\n",
              "      <td>0</td>\n",
              "      <td>0</td>\n",
              "      <td>what do you want to do</td>\n",
              "      <td>[WP, VBP, PRP, VB, TO, VB]</td>\n",
              "    </tr>\n",
              "    <tr>\n",
              "      <th>411547</th>\n",
              "      <td>interview with the vampire: the vampire chroni...</td>\n",
              "      <td>So you want me to tell you the story of my life?</td>\n",
              "      <td>3</td>\n",
              "      <td>1</td>\n",
              "      <td>so you want me to tell you the story of my life</td>\n",
              "      <td>[RB, PRP, VBP, PRP, TO, VB, PRP, DT, NN, IN, P...</td>\n",
              "    </tr>\n",
              "    <tr>\n",
              "      <th>588265</th>\n",
              "      <td>out of sight</td>\n",
              "      <td>You'd be surprised about what you can get, if ...</td>\n",
              "      <td>11</td>\n",
              "      <td>1</td>\n",
              "      <td>you d be surprised about what you can get if y...</td>\n",
              "      <td>[RB, VB, VBN, IN, WP, PRP, MD, VB, IN, PRP, VB...</td>\n",
              "    </tr>\n",
              "  </tbody>\n",
              "</table>\n",
              "</div>"
            ],
            "text/plain": [
              "                                               movie_title  ...                                    parts_of_speech\n",
              "line_id                                                     ...                                                   \n",
              "645373                                  revolutionary road  ...            [CC, WP, VBP, PRP, VB, RB, VBG, TO, VB]\n",
              "683835                                       shallow grave  ...  [MD, RB, VBG, TO, VB, PRP, TO, DT, NN, CC, VB,...\n",
              "233874                                               dogma  ...  [NN, RB, VBZ, VBG, PRP, IN, NNP, VBD, TO, VB, ...\n",
              "698263                                     the sixth sense  ...  [PRP, VBP, VB, TO, VB, PRP, PRP$, JJ, IN, PRP,...\n",
              "545759                                             mumford  ...  [PRP, VBP, IN, PRP, IN, PRP, VBP, VB, WP, VB, ...\n",
              "694505                                silence of the lambs  ...  [NNP, RB, RB, TO, DT, NN, VBZ, VBG, TO, VB, PR...\n",
              "225648                                        the departed  ...  [VBP, PRP, VB, PRP, TO, VB, PRP, RP, CC, VB, P...\n",
              "711742                            someone to watch over me  ...                         [WP, VBP, PRP, VB, TO, VB]\n",
              "411547   interview with the vampire: the vampire chroni...  ...  [RB, PRP, VBP, PRP, TO, VB, PRP, DT, NN, IN, P...\n",
              "588265                                        out of sight  ...  [RB, VB, VBN, IN, WP, PRP, MD, VB, IN, PRP, VB...\n",
              "\n",
              "[10 rows x 6 columns]"
            ]
          },
          "metadata": {
            "tags": []
          },
          "execution_count": 66
        }
      ]
    },
    {
      "cell_type": "code",
      "metadata": {
        "id": "POjaIvFF1OBY",
        "colab_type": "code",
        "colab": {}
      },
      "source": [
        "# cluster_labels = text_clstr[\"clstr\"].fit_predict(text_clstr[\"tfidf\"].idf_.reshape(-1, 1))\n",
        "\n",
        "# silhouette_score(text_clstr[\"tfidf\"].idf_.reshape(-1, 1), cluster_labels)"
      ],
      "execution_count": 0,
      "outputs": []
    },
    {
      "cell_type": "code",
      "metadata": {
        "id": "1yG97GYcmSnG",
        "colab_type": "code",
        "colab": {}
      },
      "source": [
        "text = Pipeline([\n",
        "                 (\"vect\", CountVectorizer(ngram_range=(1,3))),\n",
        "                 (\"tfidf\", TfidfTransformer()),\n",
        "                 ])\n",
        "# text_clstr = text_clstr.fit((df[df[\"memorable?\"] == 1][\"tokenized\"]))\n",
        "\n",
        "text = text.fit_transform(df[\"tokenized\"])\n",
        "df[\"tfidf\"] = list(text)\n",
        "# df[\"tfidf\"] = df[\"tfidf\"].apply(lambda x: x.toarray())"
      ],
      "execution_count": 0,
      "outputs": []
    },
    {
      "cell_type": "code",
      "metadata": {
        "id": "0xGVUFWe4rhD",
        "colab_type": "code",
        "colab": {
          "base_uri": "https://localhost:8080/",
          "height": 34
        },
        "outputId": "8e80990f-b1a7-46ff-fafc-02a643299c2c"
      },
      "source": [
        "df.iloc[0][\"tfidf\"].toarray().shape"
      ],
      "execution_count": 70,
      "outputs": [
        {
          "output_type": "execute_result",
          "data": {
            "text/plain": [
              "(1, 57330)"
            ]
          },
          "metadata": {
            "tags": []
          },
          "execution_count": 70
        }
      ]
    },
    {
      "cell_type": "code",
      "metadata": {
        "id": "0BSCQAbl5abt",
        "colab_type": "code",
        "colab": {}
      },
      "source": [
        "#"
      ],
      "execution_count": 0,
      "outputs": []
    },
    {
      "cell_type": "code",
      "metadata": {
        "id": "E-TJ1d6Vzq_w",
        "colab_type": "code",
        "colab": {
          "base_uri": "https://localhost:8080/",
          "height": 34
        },
        "outputId": "57b039a3-4a53-456f-d51a-09a25d83ea64"
      },
      "source": [
        "vocab = set((\" \".join(df[\"tokenized\"]).split()))\n",
        "len(vocab)"
      ],
      "execution_count": 74,
      "outputs": [
        {
          "output_type": "execute_result",
          "data": {
            "text/plain": [
              "5636"
            ]
          },
          "metadata": {
            "tags": []
          },
          "execution_count": 74
        }
      ]
    },
    {
      "cell_type": "code",
      "metadata": {
        "id": "1VYG2oQz036S",
        "colab_type": "code",
        "colab": {
          "base_uri": "https://localhost:8080/",
          "height": 34
        },
        "outputId": "8a457546-3b55-40a1-b336-7d683cdf5f00"
      },
      "source": [
        "class_counts = Counter(y)\n",
        "class_counts"
      ],
      "execution_count": 75,
      "outputs": [
        {
          "output_type": "execute_result",
          "data": {
            "text/plain": [
              "Counter({0: 2197, 1: 2197})"
            ]
          },
          "metadata": {
            "tags": []
          },
          "execution_count": 75
        }
      ]
    },
    {
      "cell_type": "code",
      "metadata": {
        "id": "hImpcUo61qUB",
        "colab_type": "code",
        "colab": {
          "base_uri": "https://localhost:8080/",
          "height": 34
        },
        "outputId": "215d30d7-6412-492f-b340-9f7a34e348fc"
      },
      "source": [
        "total_docs = sum(class_counts.values())\n",
        "total_docs"
      ],
      "execution_count": 76,
      "outputs": [
        {
          "output_type": "execute_result",
          "data": {
            "text/plain": [
              "4394"
            ]
          },
          "metadata": {
            "tags": []
          },
          "execution_count": 76
        }
      ]
    },
    {
      "cell_type": "code",
      "metadata": {
        "id": "VpznDele2RGw",
        "colab_type": "code",
        "colab": {
          "base_uri": "https://localhost:8080/",
          "height": 34
        },
        "outputId": "fc7f16e0-1a2b-404e-c9da-5f4a62766306"
      },
      "source": [
        "words_per_class = defaultdict(int)\n",
        "word_count_per_class = defaultdict(Counter)\n",
        "\n",
        "for doc, label in zip(X[\"tokenized\"],y):\n",
        "    words_per_class[label] += len(doc.split())\n",
        "    word_count_per_class[label].update(Counter(doc.split()))\n",
        "\n",
        "words_per_class"
      ],
      "execution_count": 77,
      "outputs": [
        {
          "output_type": "execute_result",
          "data": {
            "text/plain": [
              "defaultdict(int, {0: 22569, 1: 22565})"
            ]
          },
          "metadata": {
            "tags": []
          },
          "execution_count": 77
        }
      ]
    },
    {
      "cell_type": "code",
      "metadata": {
        "id": "s9t6c-7difb7",
        "colab_type": "code",
        "colab": {}
      },
      "source": [
        ""
      ],
      "execution_count": 0,
      "outputs": []
    }
  ]
}