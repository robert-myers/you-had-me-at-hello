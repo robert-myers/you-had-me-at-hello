{
  "nbformat": 4,
  "nbformat_minor": 0,
  "metadata": {
    "colab": {
      "name": "memorable movie quotes.ipynb",
      "provenance": [],
      "collapsed_sections": [],
      "authorship_tag": "ABX9TyM0TS7wu31bDfEMkYH3gcre",
      "include_colab_link": true
    },
    "kernelspec": {
      "name": "python3",
      "display_name": "Python 3"
    },
    "accelerator": "GPU"
  },
  "cells": [
    {
      "cell_type": "markdown",
      "metadata": {
        "id": "view-in-github",
        "colab_type": "text"
      },
      "source": [
        "<a href=\"https://colab.research.google.com/github/robert-myers/you-had-me-at-hello/blob/master/notebooks/memorable_movie_quotes.ipynb\" target=\"_parent\"><img src=\"https://colab.research.google.com/assets/colab-badge.svg\" alt=\"Open In Colab\"/></a>"
      ]
    },
    {
      "cell_type": "code",
      "metadata": {
        "id": "davfF2eBICrY",
        "colab_type": "code",
        "outputId": "303e7a4c-c0af-498a-a14f-5d92518710a7",
        "colab": {
          "base_uri": "https://localhost:8080/",
          "height": 292
        }
      },
      "source": [
        "pip install catboost"
      ],
      "execution_count": 3,
      "outputs": [
        {
          "output_type": "stream",
          "text": [
            "Requirement already satisfied: catboost in /usr/local/lib/python3.6/dist-packages (0.21)\n",
            "Requirement already satisfied: numpy>=1.16.0 in /usr/local/lib/python3.6/dist-packages (from catboost) (1.17.5)\n",
            "Requirement already satisfied: six in /usr/local/lib/python3.6/dist-packages (from catboost) (1.12.0)\n",
            "Requirement already satisfied: matplotlib in /usr/local/lib/python3.6/dist-packages (from catboost) (3.1.3)\n",
            "Requirement already satisfied: pandas>=0.24.0 in /usr/local/lib/python3.6/dist-packages (from catboost) (0.25.3)\n",
            "Requirement already satisfied: scipy in /usr/local/lib/python3.6/dist-packages (from catboost) (1.4.1)\n",
            "Requirement already satisfied: plotly in /usr/local/lib/python3.6/dist-packages (from catboost) (4.4.1)\n",
            "Requirement already satisfied: graphviz in /usr/local/lib/python3.6/dist-packages (from catboost) (0.10.1)\n",
            "Requirement already satisfied: kiwisolver>=1.0.1 in /usr/local/lib/python3.6/dist-packages (from matplotlib->catboost) (1.1.0)\n",
            "Requirement already satisfied: pyparsing!=2.0.4,!=2.1.2,!=2.1.6,>=2.0.1 in /usr/local/lib/python3.6/dist-packages (from matplotlib->catboost) (2.4.6)\n",
            "Requirement already satisfied: cycler>=0.10 in /usr/local/lib/python3.6/dist-packages (from matplotlib->catboost) (0.10.0)\n",
            "Requirement already satisfied: python-dateutil>=2.1 in /usr/local/lib/python3.6/dist-packages (from matplotlib->catboost) (2.6.1)\n",
            "Requirement already satisfied: pytz>=2017.2 in /usr/local/lib/python3.6/dist-packages (from pandas>=0.24.0->catboost) (2018.9)\n",
            "Requirement already satisfied: retrying>=1.3.3 in /usr/local/lib/python3.6/dist-packages (from plotly->catboost) (1.3.3)\n",
            "Requirement already satisfied: setuptools in /usr/local/lib/python3.6/dist-packages (from kiwisolver>=1.0.1->matplotlib->catboost) (45.1.0)\n"
          ],
          "name": "stdout"
        }
      ]
    },
    {
      "cell_type": "code",
      "metadata": {
        "id": "LXK2dJrOr8kq",
        "colab_type": "code",
        "colab": {}
      },
      "source": [
        "import pandas as pd\n",
        "import numpy as np\n",
        "import matplotlib.pyplot as plt\n",
        "import matplotlib.cm as cm\n",
        "import nltk\n",
        "import re\n",
        "import random\n",
        "import dill as pickle\n",
        "import itertools\n",
        "\n",
        "from collections import Counter, defaultdict\n",
        "from nltk.tokenize import word_tokenize, PunktSentenceTokenizer\n",
        "from nltk.corpus import stopwords\n",
        "from nltk.stem import WordNetLemmatizer\n",
        "from nltk.metrics import edit_distance\n",
        "from sklearn.naive_bayes import MultinomialNB, GaussianNB, BernoulliNB\n",
        "from sklearn.model_selection import train_test_split, GridSearchCV, RandomizedSearchCV, cross_val_score\n",
        "from sklearn.ensemble import RandomForestClassifier, RandomForestRegressor\n",
        "from sklearn.linear_model import SGDClassifier, LinearRegression\n",
        "from sklearn.feature_extraction.text import CountVectorizer, TfidfTransformer\n",
        "from sklearn.pipeline import Pipeline, make_pipeline\n",
        "from sklearn import metrics\n",
        "from sklearn.metrics import confusion_matrix, silhouette_score, silhouette_samples\n",
        "from sklearn.svm import LinearSVC\n",
        "from sklearn.cluster import KMeans, MeanShift, MiniBatchKMeans\n",
        "from sklearn.preprocessing import FunctionTransformer\n",
        "from catboost import CatBoostClassifier\n",
        "\n",
        "from scipy.spatial import distance\n",
        "\n",
        "from google.colab import files\n",
        "\n",
        "plt.style.use(\"seaborn\")"
      ],
      "execution_count": 0,
      "outputs": []
    },
    {
      "cell_type": "code",
      "metadata": {
        "id": "HCdvBM61gNZe",
        "colab_type": "code",
        "outputId": "7a500f01-116c-4e4e-8c69-4a93af6d745d",
        "colab": {
          "base_uri": "https://localhost:8080/",
          "height": 187
        }
      },
      "source": [
        "nltk.download(['stopwords', 'wordnet', 'punkt', 'averaged_perceptron_tagger'])"
      ],
      "execution_count": 5,
      "outputs": [
        {
          "output_type": "stream",
          "text": [
            "[nltk_data] Downloading package stopwords to /root/nltk_data...\n",
            "[nltk_data]   Unzipping corpora/stopwords.zip.\n",
            "[nltk_data] Downloading package wordnet to /root/nltk_data...\n",
            "[nltk_data]   Unzipping corpora/wordnet.zip.\n",
            "[nltk_data] Downloading package punkt to /root/nltk_data...\n",
            "[nltk_data]   Unzipping tokenizers/punkt.zip.\n",
            "[nltk_data] Downloading package averaged_perceptron_tagger to\n",
            "[nltk_data]     /root/nltk_data...\n",
            "[nltk_data]   Unzipping taggers/averaged_perceptron_tagger.zip.\n"
          ],
          "name": "stdout"
        },
        {
          "output_type": "execute_result",
          "data": {
            "text/plain": [
              "True"
            ]
          },
          "metadata": {
            "tags": []
          },
          "execution_count": 5
        }
      ]
    },
    {
      "cell_type": "code",
      "metadata": {
        "id": "yaxM2rx1sSyN",
        "colab_type": "code",
        "colab": {}
      },
      "source": [
        "colab = True\n",
        "if colab:\n",
        "  df = pd.read_csv(\"https://raw.githubusercontent.com/robert-myers/you-had-me-at-hello/master/data/memorable_nonmemorable_movie_quotes_df.csv\", index_col=\"line_id\")\n",
        "else:\n",
        "  df = pd.read_csv(\"../data/memorable_nonmemorable_movie_quotes_df.csv\", index_col=\"line_id\")"
      ],
      "execution_count": 0,
      "outputs": []
    },
    {
      "cell_type": "code",
      "metadata": {
        "id": "iQhbqh1mWYEl",
        "colab_type": "code",
        "outputId": "130e78ee-9c41-4f3d-b50a-cca397152272",
        "colab": {
          "base_uri": "https://localhost:8080/",
          "height": 707
        }
      },
      "source": [
        " df[df[\"movie_title\"].str.contains(\"matrix\")]"
      ],
      "execution_count": 7,
      "outputs": [
        {
          "output_type": "execute_result",
          "data": {
            "text/html": [
              "<div>\n",
              "<style scoped>\n",
              "    .dataframe tbody tr th:only-of-type {\n",
              "        vertical-align: middle;\n",
              "    }\n",
              "\n",
              "    .dataframe tbody tr th {\n",
              "        vertical-align: top;\n",
              "    }\n",
              "\n",
              "    .dataframe thead th {\n",
              "        text-align: right;\n",
              "    }\n",
              "</style>\n",
              "<table border=\"1\" class=\"dataframe\">\n",
              "  <thead>\n",
              "    <tr style=\"text-align: right;\">\n",
              "      <th></th>\n",
              "      <th>movie_title</th>\n",
              "      <th>line</th>\n",
              "      <th>levenshtein_distance_from_script</th>\n",
              "      <th>memorable?</th>\n",
              "    </tr>\n",
              "    <tr>\n",
              "      <th>line_id</th>\n",
              "      <th></th>\n",
              "      <th></th>\n",
              "      <th></th>\n",
              "      <th></th>\n",
              "    </tr>\n",
              "  </thead>\n",
              "  <tbody>\n",
              "    <tr>\n",
              "      <th>516011</th>\n",
              "      <td>the matrix</td>\n",
              "      <td>Tell me, Mr. Anderson, what good is a phone ca...</td>\n",
              "      <td>9</td>\n",
              "      <td>1</td>\n",
              "    </tr>\n",
              "    <tr>\n",
              "      <th>516533</th>\n",
              "      <td>the matrix</td>\n",
              "      <td>But I believe that, as a species, human beings...</td>\n",
              "      <td>0</td>\n",
              "      <td>0</td>\n",
              "    </tr>\n",
              "    <tr>\n",
              "      <th>516175</th>\n",
              "      <td>the matrix</td>\n",
              "      <td>Welcome to the desert of the real.</td>\n",
              "      <td>13</td>\n",
              "      <td>1</td>\n",
              "    </tr>\n",
              "    <tr>\n",
              "      <th>516174</th>\n",
              "      <td>the matrix</td>\n",
              "      <td>This is Chicago as it exists today.</td>\n",
              "      <td>0</td>\n",
              "      <td>0</td>\n",
              "    </tr>\n",
              "    <tr>\n",
              "      <th>516583</th>\n",
              "      <td>the matrix</td>\n",
              "      <td>Find them and destroy them</td>\n",
              "      <td>1</td>\n",
              "      <td>1</td>\n",
              "    </tr>\n",
              "    <tr>\n",
              "      <th>516570</th>\n",
              "      <td>the matrix</td>\n",
              "      <td>Can you hear me, Morpheus?</td>\n",
              "      <td>0</td>\n",
              "      <td>0</td>\n",
              "    </tr>\n",
              "    <tr>\n",
              "      <th>516001</th>\n",
              "      <td>the matrix</td>\n",
              "      <td>I'm going to enjoy watching you die, Mr. Ander...</td>\n",
              "      <td>60</td>\n",
              "      <td>1</td>\n",
              "    </tr>\n",
              "    <tr>\n",
              "      <th>516573</th>\n",
              "      <td>the matrix</td>\n",
              "      <td>I must get out of here, I must get free.</td>\n",
              "      <td>0</td>\n",
              "      <td>0</td>\n",
              "    </tr>\n",
              "    <tr>\n",
              "      <th>516505</th>\n",
              "      <td>the matrix</td>\n",
              "      <td>Never send a human to do a machine's job.</td>\n",
              "      <td>0</td>\n",
              "      <td>1</td>\n",
              "    </tr>\n",
              "    <tr>\n",
              "      <th>516554</th>\n",
              "      <td>the matrix</td>\n",
              "      <td>Human beings are a disease, a cancer of this p...</td>\n",
              "      <td>0</td>\n",
              "      <td>0</td>\n",
              "    </tr>\n",
              "    <tr>\n",
              "      <th>516280</th>\n",
              "      <td>the matrix</td>\n",
              "      <td>Welcome to the real world.</td>\n",
              "      <td>1</td>\n",
              "      <td>1</td>\n",
              "    </tr>\n",
              "    <tr>\n",
              "      <th>516283</th>\n",
              "      <td>the matrix</td>\n",
              "      <td>You know what real is?</td>\n",
              "      <td>0</td>\n",
              "      <td>0</td>\n",
              "    </tr>\n",
              "  </tbody>\n",
              "</table>\n",
              "</div>"
            ],
            "text/plain": [
              "        movie_title  ... memorable?\n",
              "line_id              ...           \n",
              "516011   the matrix  ...          1\n",
              "516533   the matrix  ...          0\n",
              "516175   the matrix  ...          1\n",
              "516174   the matrix  ...          0\n",
              "516583   the matrix  ...          1\n",
              "516570   the matrix  ...          0\n",
              "516001   the matrix  ...          1\n",
              "516573   the matrix  ...          0\n",
              "516505   the matrix  ...          1\n",
              "516554   the matrix  ...          0\n",
              "516280   the matrix  ...          1\n",
              "516283   the matrix  ...          0\n",
              "\n",
              "[12 rows x 4 columns]"
            ]
          },
          "metadata": {
            "tags": []
          },
          "execution_count": 7
        }
      ]
    },
    {
      "cell_type": "code",
      "metadata": {
        "id": "WPurlf-pWbrw",
        "colab_type": "code",
        "colab": {}
      },
      "source": [
        "tokenizer = PunktSentenceTokenizer(\" \".join(df[\"line\"]))\n",
        "\n",
        "stop_words = set(stopwords.words(\"english\"))\n",
        "\n",
        "def rm_stop_and_tokenize(x, join=True, remove_stop=False):\n",
        "  x = re.sub('\\W+', ' ', x)\n",
        "  wnl = WordNetLemmatizer()\n",
        "  if remove_stop:\n",
        "    string = \" \".join([wnl.lemmatize(word).lower() for word in x.split() if word.lower() not in stop_words])\n",
        "  else:\n",
        "    string = \" \".join([wnl.lemmatize(word).lower() for word in x.split()])\n",
        "  tokens = word_tokenize(string)\n",
        "  if join:\n",
        "    return \" \".join(tokens)\n",
        "  return tokens\n",
        "\n",
        "df[\"tokenized\"] = df[\"line\"].apply(lambda x: rm_stop_and_tokenize(x, join=True, remove_stop=False))"
      ],
      "execution_count": 0,
      "outputs": []
    },
    {
      "cell_type": "code",
      "metadata": {
        "id": "_sbcaTDlaIUj",
        "colab_type": "code",
        "colab": {}
      },
      "source": [
        "df[\"parts_of_speech\"] = df[\"line\"].apply(lambda x: [tup[-1] for tup in nltk.pos_tag(x.split())])"
      ],
      "execution_count": 0,
      "outputs": []
    },
    {
      "cell_type": "code",
      "metadata": {
        "id": "XQRkq7tcZxNF",
        "colab_type": "code",
        "outputId": "bd95ab2f-b5ea-45e2-ae4d-f7b80f03a35e",
        "colab": {
          "base_uri": "https://localhost:8080/",
          "height": 1000
        }
      },
      "source": [
        "df[df[\"movie_title\"].str.contains(\"matrix\")]"
      ],
      "execution_count": 10,
      "outputs": [
        {
          "output_type": "execute_result",
          "data": {
            "text/html": [
              "<div>\n",
              "<style scoped>\n",
              "    .dataframe tbody tr th:only-of-type {\n",
              "        vertical-align: middle;\n",
              "    }\n",
              "\n",
              "    .dataframe tbody tr th {\n",
              "        vertical-align: top;\n",
              "    }\n",
              "\n",
              "    .dataframe thead th {\n",
              "        text-align: right;\n",
              "    }\n",
              "</style>\n",
              "<table border=\"1\" class=\"dataframe\">\n",
              "  <thead>\n",
              "    <tr style=\"text-align: right;\">\n",
              "      <th></th>\n",
              "      <th>movie_title</th>\n",
              "      <th>line</th>\n",
              "      <th>levenshtein_distance_from_script</th>\n",
              "      <th>memorable?</th>\n",
              "      <th>tokenized</th>\n",
              "      <th>parts_of_speech</th>\n",
              "    </tr>\n",
              "    <tr>\n",
              "      <th>line_id</th>\n",
              "      <th></th>\n",
              "      <th></th>\n",
              "      <th></th>\n",
              "      <th></th>\n",
              "      <th></th>\n",
              "      <th></th>\n",
              "    </tr>\n",
              "  </thead>\n",
              "  <tbody>\n",
              "    <tr>\n",
              "      <th>516011</th>\n",
              "      <td>the matrix</td>\n",
              "      <td>Tell me, Mr. Anderson, what good is a phone ca...</td>\n",
              "      <td>9</td>\n",
              "      <td>1</td>\n",
              "      <td>tell me mr anderson what good is a phone call ...</td>\n",
              "      <td>[NNP, VBZ, NNP, NNP, WP, NN, VBZ, DT, NN, NN, ...</td>\n",
              "    </tr>\n",
              "    <tr>\n",
              "      <th>516533</th>\n",
              "      <td>the matrix</td>\n",
              "      <td>But I believe that, as a species, human beings...</td>\n",
              "      <td>0</td>\n",
              "      <td>0</td>\n",
              "      <td>but i believe that a a specie human being defi...</td>\n",
              "      <td>[CC, PRP, VBP, RB, IN, DT, JJ, JJ, NNS, VBP, P...</td>\n",
              "    </tr>\n",
              "    <tr>\n",
              "      <th>516175</th>\n",
              "      <td>the matrix</td>\n",
              "      <td>Welcome to the desert of the real.</td>\n",
              "      <td>13</td>\n",
              "      <td>1</td>\n",
              "      <td>welcome to the desert of the real</td>\n",
              "      <td>[VB, TO, DT, NN, IN, DT, NN]</td>\n",
              "    </tr>\n",
              "    <tr>\n",
              "      <th>516174</th>\n",
              "      <td>the matrix</td>\n",
              "      <td>This is Chicago as it exists today.</td>\n",
              "      <td>0</td>\n",
              "      <td>0</td>\n",
              "      <td>this is chicago a it exists today</td>\n",
              "      <td>[DT, VBZ, NNP, IN, PRP, VBZ, NN]</td>\n",
              "    </tr>\n",
              "    <tr>\n",
              "      <th>516583</th>\n",
              "      <td>the matrix</td>\n",
              "      <td>Find them and destroy them</td>\n",
              "      <td>1</td>\n",
              "      <td>1</td>\n",
              "      <td>find them and destroy them</td>\n",
              "      <td>[VB, PRP, CC, VB, PRP]</td>\n",
              "    </tr>\n",
              "    <tr>\n",
              "      <th>516570</th>\n",
              "      <td>the matrix</td>\n",
              "      <td>Can you hear me, Morpheus?</td>\n",
              "      <td>0</td>\n",
              "      <td>0</td>\n",
              "      <td>can you hear me morpheus</td>\n",
              "      <td>[MD, PRP, VB, NNS, NNP]</td>\n",
              "    </tr>\n",
              "    <tr>\n",
              "      <th>516001</th>\n",
              "      <td>the matrix</td>\n",
              "      <td>I'm going to enjoy watching you die, Mr. Ander...</td>\n",
              "      <td>60</td>\n",
              "      <td>1</td>\n",
              "      <td>i m going to enjoy watching you die mr anderson</td>\n",
              "      <td>[NNP, VBG, TO, VB, VBG, PRP, VBP, NNP, NNP]</td>\n",
              "    </tr>\n",
              "    <tr>\n",
              "      <th>516573</th>\n",
              "      <td>the matrix</td>\n",
              "      <td>I must get out of here, I must get free.</td>\n",
              "      <td>0</td>\n",
              "      <td>0</td>\n",
              "      <td>i must get out of here i must get free</td>\n",
              "      <td>[PRP, MD, VB, IN, IN, NN, PRP, MD, VB, NN]</td>\n",
              "    </tr>\n",
              "    <tr>\n",
              "      <th>516505</th>\n",
              "      <td>the matrix</td>\n",
              "      <td>Never send a human to do a machine's job.</td>\n",
              "      <td>0</td>\n",
              "      <td>1</td>\n",
              "      <td>never send a human to do a machine s job</td>\n",
              "      <td>[RB, VB, DT, NN, TO, VB, DT, NN, NN]</td>\n",
              "    </tr>\n",
              "    <tr>\n",
              "      <th>516554</th>\n",
              "      <td>the matrix</td>\n",
              "      <td>Human beings are a disease, a cancer of this p...</td>\n",
              "      <td>0</td>\n",
              "      <td>0</td>\n",
              "      <td>human being are a disease a cancer of this planet</td>\n",
              "      <td>[JJ, NNS, VBP, DT, NN, DT, NN, IN, DT, NN]</td>\n",
              "    </tr>\n",
              "    <tr>\n",
              "      <th>516280</th>\n",
              "      <td>the matrix</td>\n",
              "      <td>Welcome to the real world.</td>\n",
              "      <td>1</td>\n",
              "      <td>1</td>\n",
              "      <td>welcome to the real world</td>\n",
              "      <td>[VB, TO, DT, JJ, NN]</td>\n",
              "    </tr>\n",
              "    <tr>\n",
              "      <th>516283</th>\n",
              "      <td>the matrix</td>\n",
              "      <td>You know what real is?</td>\n",
              "      <td>0</td>\n",
              "      <td>0</td>\n",
              "      <td>you know what real is</td>\n",
              "      <td>[PRP, VBP, WP, JJ, NN]</td>\n",
              "    </tr>\n",
              "  </tbody>\n",
              "</table>\n",
              "</div>"
            ],
            "text/plain": [
              "        movie_title  ...                                    parts_of_speech\n",
              "line_id              ...                                                   \n",
              "516011   the matrix  ...  [NNP, VBZ, NNP, NNP, WP, NN, VBZ, DT, NN, NN, ...\n",
              "516533   the matrix  ...  [CC, PRP, VBP, RB, IN, DT, JJ, JJ, NNS, VBP, P...\n",
              "516175   the matrix  ...                       [VB, TO, DT, NN, IN, DT, NN]\n",
              "516174   the matrix  ...                   [DT, VBZ, NNP, IN, PRP, VBZ, NN]\n",
              "516583   the matrix  ...                             [VB, PRP, CC, VB, PRP]\n",
              "516570   the matrix  ...                            [MD, PRP, VB, NNS, NNP]\n",
              "516001   the matrix  ...        [NNP, VBG, TO, VB, VBG, PRP, VBP, NNP, NNP]\n",
              "516573   the matrix  ...         [PRP, MD, VB, IN, IN, NN, PRP, MD, VB, NN]\n",
              "516505   the matrix  ...               [RB, VB, DT, NN, TO, VB, DT, NN, NN]\n",
              "516554   the matrix  ...         [JJ, NNS, VBP, DT, NN, DT, NN, IN, DT, NN]\n",
              "516280   the matrix  ...                               [VB, TO, DT, JJ, NN]\n",
              "516283   the matrix  ...                             [PRP, VBP, WP, JJ, NN]\n",
              "\n",
              "[12 rows x 6 columns]"
            ]
          },
          "metadata": {
            "tags": []
          },
          "execution_count": 10
        }
      ]
    },
    {
      "cell_type": "code",
      "metadata": {
        "id": "BjjASf7bUN9T",
        "colab_type": "code",
        "outputId": "77050e92-3372-4142-eca7-347e1df4f377",
        "colab": {
          "base_uri": "https://localhost:8080/",
          "height": 54
        }
      },
      "source": [
        "df.loc[364691][\"line\"]"
      ],
      "execution_count": 11,
      "outputs": [
        {
          "output_type": "execute_result",
          "data": {
            "text/plain": [
              "'All we want is to be treated like human beings, not like guinea pigs to be experimented on and not like bunny rabbits to be patronized.'"
            ]
          },
          "metadata": {
            "tags": []
          },
          "execution_count": 11
        }
      ]
    },
    {
      "cell_type": "code",
      "metadata": {
        "id": "jnAMxbXMb_oD",
        "colab_type": "code",
        "outputId": "d254a275-24ff-42fa-9da5-2f36cf307f0e",
        "colab": {
          "base_uri": "https://localhost:8080/",
          "height": 476
        }
      },
      "source": [
        "memorable_tokens = df[df[\"memorable?\"] == 1][\"tokenized\"]\n",
        "memorable_counter = Counter((\" \".join(memorable_tokens)).split())\n",
        "non_memorable_tokens = df[df[\"memorable?\"] == 0][\"tokenized\"]\n",
        "non_memorable_counter = Counter((\" \".join(non_memorable_tokens)).split())\n",
        "\n",
        "print(\" memorable\", \" |\",  \"non-memorable\")\n",
        "print(\"----------------------------\")\n",
        "for x,y in zip(memorable_counter.most_common(25), non_memorable_counter.most_common(25)):\n",
        "  print(x, \"|\", y)"
      ],
      "execution_count": 12,
      "outputs": [
        {
          "output_type": "stream",
          "text": [
            " memorable  | non-memorable\n",
            "----------------------------\n",
            "('you', 958) | ('i', 933)\n",
            "('i', 864) | ('you', 850)\n",
            "('the', 745) | ('the', 728)\n",
            "('a', 728) | ('to', 641)\n",
            "('to', 470) | ('a', 595)\n",
            "('t', 345) | ('s', 401)\n",
            "('s', 328) | ('and', 389)\n",
            "('of', 327) | ('it', 379)\n",
            "('and', 294) | ('of', 342)\n",
            "('it', 279) | ('t', 323)\n",
            "('is', 266) | ('that', 290)\n",
            "('that', 260) | ('in', 284)\n",
            "('in', 250) | ('we', 227)\n",
            "('me', 212) | ('me', 213)\n",
            "('my', 208) | ('for', 177)\n",
            "('your', 207) | ('what', 170)\n",
            "('this', 195) | ('is', 168)\n",
            "('for', 168) | ('he', 166)\n",
            "('we', 166) | ('have', 165)\n",
            "('don', 161) | ('your', 157)\n",
            "('m', 149) | ('this', 155)\n",
            "('not', 147) | ('be', 154)\n",
            "('have', 144) | ('m', 154)\n",
            "('be', 142) | ('my', 148)\n",
            "('on', 140) | ('re', 143)\n"
          ],
          "name": "stdout"
        }
      ]
    },
    {
      "cell_type": "code",
      "metadata": {
        "id": "Bk9-r3oNccx9",
        "colab_type": "code",
        "outputId": "77bc6152-c016-4813-df39-6c590f95d5a0",
        "colab": {
          "base_uri": "https://localhost:8080/",
          "height": 34
        }
      },
      "source": [
        "df[\"line\"].loc[516011]"
      ],
      "execution_count": 13,
      "outputs": [
        {
          "output_type": "execute_result",
          "data": {
            "text/plain": [
              "'Tell me, Mr. Anderson, what good is a phone call when you are unable to speak?'"
            ]
          },
          "metadata": {
            "tags": []
          },
          "execution_count": 13
        }
      ]
    },
    {
      "cell_type": "code",
      "metadata": {
        "id": "LlT98zCVjZ_Q",
        "colab_type": "code",
        "outputId": "fae1b578-5a76-48f4-d30c-26d0f4c6704e",
        "colab": {
          "base_uri": "https://localhost:8080/",
          "height": 34
        }
      },
      "source": [
        "typo = \"And tell me, Mr. Anderson, what good is a phone call iy you are unable to speak?\"\n",
        "no_typo = \"And tell me, Mr. Anderson, what good is a phone call if you are unable to speak?\"\n",
        "edit_distance(df[\"line\"].loc[516011], typo) == edit_distance(df[\"line\"].loc[516011], no_typo)"
      ],
      "execution_count": 14,
      "outputs": [
        {
          "output_type": "execute_result",
          "data": {
            "text/plain": [
              "True"
            ]
          },
          "metadata": {
            "tags": []
          },
          "execution_count": 14
        }
      ]
    },
    {
      "cell_type": "code",
      "metadata": {
        "id": "UNfKhbgOCHOp",
        "colab_type": "code",
        "colab": {}
      },
      "source": [
        "X = df.drop(columns=\"memorable?\")\n",
        "y = df[\"memorable?\"]\n",
        "\n",
        "X_train, X_test, y_train, y_test = train_test_split(X, y, stratify=y)"
      ],
      "execution_count": 0,
      "outputs": []
    },
    {
      "cell_type": "code",
      "metadata": {
        "id": "6kEZ5yUyxPno",
        "colab_type": "code",
        "colab": {}
      },
      "source": [
        "def roc_curve_plot(y_test, y_probs, save_fig=False):\n",
        "    '''\n",
        "    This function prints and plots the ROC plot.\n",
        "    '''\n",
        "    fpr, tpr, thresholds = metrics.roc_curve(y_test, y_probs)\n",
        "    roc_auc = metrics.auc(fpr, tpr)\n",
        "    plt.figure(figsize=(10, 8))\n",
        "    plt.plot(fpr, tpr, label=f'ROC Curve (AUC = {roc_auc:.2f})', linewidth=2)\n",
        "    plt.plot([0,1], [0,1], linestyle='--', lw=2, color='r')\n",
        "    plt.xlabel(\"False Positive Rate (1 - Specificity)\", fontsize=14)\n",
        "    plt.ylabel(\"True Positive Rate (Sensitivity, Recall)\", fontsize=14)\n",
        "    plt.title(\"ROC plot\", fontsize=20)\n",
        "    plt.legend()\n",
        "    if save_fig:\n",
        "        plt.savefig('roc_plot.png')\n",
        "    plt.show();"
      ],
      "execution_count": 0,
      "outputs": []
    },
    {
      "cell_type": "code",
      "metadata": {
        "id": "s9t6c-7difb7",
        "colab_type": "code",
        "colab": {}
      },
      "source": [
        "def confuse_matrix(y_test, y_predict):\n",
        "    '''\n",
        "    Creates a confusion matrix. It flips the order of\n",
        "    Sklearn's built in function.\n",
        "    '''\n",
        "    tn, fp, fn, tp = metrics.confusion_matrix(y_test, y_predict).ravel()\n",
        "    cm_arr = np.array([[tp, fp], [fn, tn]])\n",
        "    return cm_arr\n",
        "\n",
        "def confusion_matrix_plot(y_test, y_predict, save_fig=False, cmap=plt.cm.Blues):\n",
        "    '''\n",
        "    This function prints and plots the confusion matrix.\n",
        "    '''\n",
        "    cm = confuse_matrix(y_test, y_predict)\n",
        "    classes = ['True', 'False']\n",
        "    plt.figure(figsize=(4, 4))\n",
        "    plt.imshow(cm, interpolation='nearest', cmap=cmap)\n",
        "    plt.grid(b=None)\n",
        "    plt.title('Confusion Matrix', fontsize=20)\n",
        "    tick_marks = np.arange(len(classes))\n",
        "    plt.xticks(tick_marks, classes, rotation=45)\n",
        "    plt.yticks(tick_marks, classes)\n",
        "    fmt = 'd'\n",
        "    thresh = cm.max() / 2.\n",
        "    for i, j in itertools.product(range(cm.shape[0]), range(cm.shape[1])):\n",
        "        plt.text(j, i, format(cm[i, j], fmt),\n",
        "                 horizontalalignment=\"center\",\n",
        "                 color=\"white\" if cm[i, j] > thresh else \"black\")\n",
        "    plt.ylabel('Predicted label', fontsize=12)\n",
        "    plt.xlabel('Actual label', fontsize=12)\n",
        "    plt.tight_layout()\n",
        "    if save_fig:\n",
        "        plt.savefig('confusion_matrix.png')\n",
        "    plt.show()\n"
      ],
      "execution_count": 0,
      "outputs": []
    },
    {
      "cell_type": "markdown",
      "metadata": {
        "id": "UF7pRpwinahs",
        "colab_type": "text"
      },
      "source": [
        "MultinomialNB"
      ]
    },
    {
      "cell_type": "code",
      "metadata": {
        "id": "Ce-KEvwC5sxs",
        "colab_type": "code",
        "outputId": "9d9d8f46-617a-4d2e-e8ca-27fdbb6c226d",
        "colab": {
          "base_uri": "https://localhost:8080/",
          "height": 68
        }
      },
      "source": [
        "text_clf = Pipeline([\n",
        "                     (\"vect\", CountVectorizer(ngram_range=(1,3))),\n",
        "                     (\"tfidf\", TfidfTransformer()),\n",
        "                     (\"clf\", MultinomialNB(fit_prior=False)),\n",
        "                     ])\n",
        "text_clf = text_clf.fit(X_train[\"tokenized\"], y_train)\n",
        "print(text_clf.score(X_test[\"tokenized\"], y_test))\n",
        "\n",
        "predicted = text_clf.predict(X_test[\"tokenized\"])\n",
        "tn, fp, fn, tp = confusion_matrix(y_test, predicted).ravel()\n",
        "totalpn = tn + fp + fn + tp\n",
        "cf_mx = np.array([[tp/totalpn, fp/totalpn],[fn/totalpn, tn/totalpn]])\n",
        "cf_mx"
      ],
      "execution_count": 92,
      "outputs": [
        {
          "output_type": "stream",
          "text": [
            "0.5969062784349408\n"
          ],
          "name": "stdout"
        },
        {
          "output_type": "execute_result",
          "data": {
            "text/plain": [
              "array([[0.24840764, 0.15195632],\n",
              "       [0.2511374 , 0.34849864]])"
            ]
          },
          "metadata": {
            "tags": []
          },
          "execution_count": 92
        }
      ]
    },
    {
      "cell_type": "code",
      "metadata": {
        "id": "QF_FDCK96JJx",
        "colab_type": "code",
        "colab": {
          "base_uri": "https://localhost:8080/",
          "height": 51
        },
        "outputId": "ad201826-041a-4793-eadc-e40bff209925"
      },
      "source": [
        "np.array([[tp, fp], [fn, tn]])"
      ],
      "execution_count": 93,
      "outputs": [
        {
          "output_type": "execute_result",
          "data": {
            "text/plain": [
              "array([[273, 167],\n",
              "       [276, 383]])"
            ]
          },
          "metadata": {
            "tags": []
          },
          "execution_count": 93
        }
      ]
    },
    {
      "cell_type": "code",
      "metadata": {
        "id": "gnzNc6km4sn0",
        "colab_type": "code",
        "colab": {
          "base_uri": "https://localhost:8080/",
          "height": 297
        },
        "outputId": "35f4ee13-89cb-41ce-b5b0-73ba4f22cda9"
      },
      "source": [
        "confusion_matrix_plot(y_test, predicted)"
      ],
      "execution_count": 94,
      "outputs": [
        {
          "output_type": "display_data",
          "data": {
            "image/png": "[encoded data removed]",
            "text/plain": [
              "<Figure size 288x288 with 1 Axes>"
            ]
          },
          "metadata": {
            "tags": []
          }
        }
      ]
    },
    {
      "cell_type": "code",
      "metadata": {
        "id": "NoY_0ZsgmyXj",
        "colab_type": "code",
        "outputId": "b893b652-e09a-481f-9350-93c4c16ab520",
        "colab": {
          "base_uri": "https://localhost:8080/",
          "height": 34
        }
      },
      "source": [
        "np.mean(cross_val_score(text_clf, X[\"tokenized\"], y, n_jobs=-1, cv=10))"
      ],
      "execution_count": 95,
      "outputs": [
        {
          "output_type": "execute_result",
          "data": {
            "text/plain": [
              "0.6094677987160904"
            ]
          },
          "metadata": {
            "tags": []
          },
          "execution_count": 95
        }
      ]
    },
    {
      "cell_type": "code",
      "metadata": {
        "id": "P_dMzw7rxSoo",
        "colab_type": "code",
        "colab": {}
      },
      "source": [
        "# roc_curve_plot(y_test, predicted)"
      ],
      "execution_count": 0,
      "outputs": []
    },
    {
      "cell_type": "code",
      "metadata": {
        "id": "6DyH6-856GT8",
        "colab_type": "code",
        "outputId": "ed3a9241-9d4d-4e5c-fbc2-f597570f02b8",
        "colab": {
          "base_uri": "https://localhost:8080/",
          "height": 51
        }
      },
      "source": [
        "test_string = [rm_stop_and_tokenize(\"You had me at hello.\")]\n",
        "print(test_string)\n",
        "text_clf.predict(test_string)"
      ],
      "execution_count": 97,
      "outputs": [
        {
          "output_type": "stream",
          "text": [
            "['you had me at hello']\n"
          ],
          "name": "stdout"
        },
        {
          "output_type": "execute_result",
          "data": {
            "text/plain": [
              "array([1])"
            ]
          },
          "metadata": {
            "tags": []
          },
          "execution_count": 97
        }
      ]
    },
    {
      "cell_type": "markdown",
      "metadata": {
        "id": "k8Lo7RoJnhV1",
        "colab_type": "text"
      },
      "source": [
        "GridSearchCV MultinomialNB"
      ]
    },
    {
      "cell_type": "code",
      "metadata": {
        "id": "xX2bbiQN9HIa",
        "colab_type": "code",
        "outputId": "ce6d6c09-f5dc-486a-c857-077fc3971382",
        "colab": {
          "base_uri": "https://localhost:8080/",
          "height": 34
        }
      },
      "source": [
        "parameters = {\n",
        "    # \"vect__ngram_range\": [(1, 1), (1, 2), (1, 3)],\n",
        "    \"vect__max_features\": [1000, 2000, 3000, None],\n",
        "    # \"tfidf__use_idf\": (True, False),\n",
        "    \"clf__alpha\": (1e-0, 1e-1, 1e-2, 1e-3),\n",
        "    }\n",
        "gs_clf = GridSearchCV(text_clf, parameters, n_jobs=-1)\n",
        "gs_clf = gs_clf.fit(X_train[\"tokenized\"], y_train)\n",
        "gs_clf.best_params_"
      ],
      "execution_count": 98,
      "outputs": [
        {
          "output_type": "execute_result",
          "data": {
            "text/plain": [
              "{'clf__alpha': 1.0, 'vect__max_features': None}"
            ]
          },
          "metadata": {
            "tags": []
          },
          "execution_count": 98
        }
      ]
    },
    {
      "cell_type": "code",
      "metadata": {
        "id": "8JaDImb89fX6",
        "colab_type": "code",
        "outputId": "2f3ceff9-e4d0-4fb7-aa6b-504258ad2957",
        "colab": {
          "base_uri": "https://localhost:8080/",
          "height": 34
        }
      },
      "source": [
        "gs_clf.best_score_"
      ],
      "execution_count": 99,
      "outputs": [
        {
          "output_type": "execute_result",
          "data": {
            "text/plain": [
              "0.593019726858877"
            ]
          },
          "metadata": {
            "tags": []
          },
          "execution_count": 99
        }
      ]
    },
    {
      "cell_type": "code",
      "metadata": {
        "id": "x3Kc8OSWmxIB",
        "colab_type": "code",
        "outputId": "9f0f0ab2-94ef-4ca3-d869-2dc732ee8bf7",
        "colab": {
          "base_uri": "https://localhost:8080/",
          "height": 51
        }
      },
      "source": [
        "predicted = gs_clf.predict(X_test[\"tokenized\"])\n",
        "tn, fp, fn, tp = confusion_matrix(y_test, predicted).ravel()\n",
        "totalpn = tn + fp + fn + tp\n",
        "cf_mx = np.array([[tp/totalpn, fp/totalpn],[fn/totalpn, tn/totalpn]])\n",
        "cf_mx"
      ],
      "execution_count": 100,
      "outputs": [
        {
          "output_type": "execute_result",
          "data": {
            "text/plain": [
              "array([[0.24840764, 0.15195632],\n",
              "       [0.2511374 , 0.34849864]])"
            ]
          },
          "metadata": {
            "tags": []
          },
          "execution_count": 100
        }
      ]
    },
    {
      "cell_type": "code",
      "metadata": {
        "colab_type": "code",
        "outputId": "74ebb6be-7653-40cd-b39f-d0cd7d7d8d20",
        "id": "vEMMIIbS5FbG",
        "colab": {
          "base_uri": "https://localhost:8080/",
          "height": 297
        }
      },
      "source": [
        "confusion_matrix_plot(y_test, predicted)"
      ],
      "execution_count": 101,
      "outputs": [
        {
          "output_type": "display_data",
          "data": {
            "image/png": "[encoded data removed]",
            "text/plain": [
              "<Figure size 288x288 with 1 Axes>"
            ]
          },
          "metadata": {
            "tags": []
          }
        }
      ]
    },
    {
      "cell_type": "code",
      "metadata": {
        "id": "F4YMIRSrodO3",
        "colab_type": "code",
        "outputId": "4aac59d1-1c32-451f-f7b6-202e73a3607f",
        "colab": {
          "base_uri": "https://localhost:8080/",
          "height": 51
        }
      },
      "source": [
        "%%time\n",
        "# np.mean(cross_val_score(gs_clf, X[\"tokenized\"], y, n_jobs=-2, cv=10))"
      ],
      "execution_count": 102,
      "outputs": [
        {
          "output_type": "stream",
          "text": [
            "CPU times: user 7 µs, sys: 0 ns, total: 7 µs\n",
            "Wall time: 13.6 µs\n"
          ],
          "name": "stdout"
        }
      ]
    },
    {
      "cell_type": "code",
      "metadata": {
        "id": "FQd5M9MXxpbK",
        "colab_type": "code",
        "colab": {}
      },
      "source": [
        "# roc_curve_plot(y_test, predicted)"
      ],
      "execution_count": 0,
      "outputs": []
    },
    {
      "cell_type": "code",
      "metadata": {
        "id": "ySAsUZOi6BCy",
        "colab_type": "code",
        "outputId": "3ae071f2-b01b-445d-b138-ebb6709026fc",
        "colab": {
          "base_uri": "https://localhost:8080/",
          "height": 51
        }
      },
      "source": [
        "test_string = [rm_stop_and_tokenize(\"You had me at hello.\")]\n",
        "print(test_string)\n",
        "gs_clf.predict(test_string)"
      ],
      "execution_count": 104,
      "outputs": [
        {
          "output_type": "stream",
          "text": [
            "['you had me at hello']\n"
          ],
          "name": "stdout"
        },
        {
          "output_type": "execute_result",
          "data": {
            "text/plain": [
              "array([1])"
            ]
          },
          "metadata": {
            "tags": []
          },
          "execution_count": 104
        }
      ]
    },
    {
      "cell_type": "markdown",
      "metadata": {
        "id": "VxKTgTTinnt1",
        "colab_type": "text"
      },
      "source": [
        "SGDClassifier"
      ]
    },
    {
      "cell_type": "code",
      "metadata": {
        "id": "3DmRDWan6vJZ",
        "colab_type": "code",
        "outputId": "968885bd-0926-40fb-d28e-2331b4bb740a",
        "colab": {
          "base_uri": "https://localhost:8080/",
          "height": 68
        }
      },
      "source": [
        "text_clf_sgd = Pipeline([\n",
        "                         (\"vect\", CountVectorizer(ngram_range=(1,3))),\n",
        "                         (\"tfidf\", TfidfTransformer()),\n",
        "                         (\"clf-sgd\", SGDClassifier(n_jobs=-1)),\n",
        "                         ])\n",
        "text_clf_sgd.fit(X_train[\"tokenized\"], y_train)\n",
        "print(text_clf_sgd.score(X_test[\"tokenized\"], y_test))\n",
        "\n",
        "predicted = text_clf_sgd.predict(X_test[\"tokenized\"])\n",
        "tn, fp, fn, tp = confusion_matrix(y_test, predicted).ravel()\n",
        "totalpn = tn + fp + fn + tp\n",
        "cf_mx = np.array([[tp/totalpn, fp/totalpn],[fn/totalpn, tn/totalpn]])\n",
        "cf_mx"
      ],
      "execution_count": 105,
      "outputs": [
        {
          "output_type": "stream",
          "text": [
            "0.6105550500454959\n"
          ],
          "name": "stdout"
        },
        {
          "output_type": "execute_result",
          "data": {
            "text/plain": [
              "array([[0.26933576, 0.15923567],\n",
              "       [0.23020928, 0.34121929]])"
            ]
          },
          "metadata": {
            "tags": []
          },
          "execution_count": 105
        }
      ]
    },
    {
      "cell_type": "code",
      "metadata": {
        "colab_type": "code",
        "outputId": "59306530-ed0b-4c3d-c740-14fff1703d6f",
        "id": "1rBnzxu95Jau",
        "colab": {
          "base_uri": "https://localhost:8080/",
          "height": 297
        }
      },
      "source": [
        "confusion_matrix_plot(y_test, predicted)"
      ],
      "execution_count": 106,
      "outputs": [
        {
          "output_type": "display_data",
          "data": {
            "image/png": "[encoded data removed]",
            "text/plain": [
              "<Figure size 288x288 with 1 Axes>"
            ]
          },
          "metadata": {
            "tags": []
          }
        }
      ]
    },
    {
      "cell_type": "code",
      "metadata": {
        "id": "7vmF5bVbowYR",
        "colab_type": "code",
        "outputId": "0ccaed55-37c1-40e7-8e47-337dee8f5f04",
        "colab": {
          "base_uri": "https://localhost:8080/",
          "height": 34
        }
      },
      "source": [
        "np.mean(cross_val_score(text_clf_sgd, X[\"tokenized\"], y, n_jobs=-1, cv=10))"
      ],
      "execution_count": 107,
      "outputs": [
        {
          "output_type": "execute_result",
          "data": {
            "text/plain": [
              "0.6071986953820667"
            ]
          },
          "metadata": {
            "tags": []
          },
          "execution_count": 107
        }
      ]
    },
    {
      "cell_type": "code",
      "metadata": {
        "id": "T8JI9U5JxrDO",
        "colab_type": "code",
        "colab": {}
      },
      "source": [
        "# roc_curve_plot(y_test, predicted)"
      ],
      "execution_count": 0,
      "outputs": []
    },
    {
      "cell_type": "code",
      "metadata": {
        "id": "fbQeVXEX57sY",
        "colab_type": "code",
        "outputId": "53114a8c-13f8-48b4-c29c-2f7089f753e6",
        "colab": {
          "base_uri": "https://localhost:8080/",
          "height": 51
        }
      },
      "source": [
        "test_string = [rm_stop_and_tokenize(\"You had me at hello.\")]\n",
        "print(test_string)\n",
        "text_clf_sgd.predict(test_string)"
      ],
      "execution_count": 109,
      "outputs": [
        {
          "output_type": "stream",
          "text": [
            "['you had me at hello']\n"
          ],
          "name": "stdout"
        },
        {
          "output_type": "execute_result",
          "data": {
            "text/plain": [
              "array([1])"
            ]
          },
          "metadata": {
            "tags": []
          },
          "execution_count": 109
        }
      ]
    },
    {
      "cell_type": "markdown",
      "metadata": {
        "id": "5ognyWjIz3Oe",
        "colab_type": "text"
      },
      "source": [
        "GridSearchCV SGDClassifier"
      ]
    },
    {
      "cell_type": "code",
      "metadata": {
        "id": "vuF5nZt0z8qz",
        "colab_type": "code",
        "outputId": "0e160268-05f4-4021-afb0-f93e5e8ac59d",
        "colab": {
          "base_uri": "https://localhost:8080/",
          "height": 34
        }
      },
      "source": [
        "parameters = {\n",
        "    # \"clf-sgd__loss\": (\"hinge\", \"log\", \"modified_huber\"),\n",
        "    # \"clf-sgd__penalty\": (\"l2\", \"l1\", \"elasticnet\"),\n",
        "    \"clf-sgd__alpha\": (1e-2, 1e-3, 1e-4, 1e-5),\n",
        "    }\n",
        "gs_clf_sgd = GridSearchCV(text_clf_sgd, parameters, n_jobs=-1)\n",
        "gs_clf_sgd = gs_clf_sgd.fit(X_train[\"tokenized\"], y_train)\n",
        "gs_clf_sgd.best_params_"
      ],
      "execution_count": 110,
      "outputs": [
        {
          "output_type": "execute_result",
          "data": {
            "text/plain": [
              "{'clf-sgd__alpha': 0.001}"
            ]
          },
          "metadata": {
            "tags": []
          },
          "execution_count": 110
        }
      ]
    },
    {
      "cell_type": "code",
      "metadata": {
        "id": "dX9M_O0Z0SYp",
        "colab_type": "code",
        "outputId": "579e3302-548a-4c61-c26c-246f42f6ff3a",
        "colab": {
          "base_uri": "https://localhost:8080/",
          "height": 34
        }
      },
      "source": [
        "gs_clf_sgd.best_score_"
      ],
      "execution_count": 111,
      "outputs": [
        {
          "output_type": "execute_result",
          "data": {
            "text/plain": [
              "0.607587253414264"
            ]
          },
          "metadata": {
            "tags": []
          },
          "execution_count": 111
        }
      ]
    },
    {
      "cell_type": "code",
      "metadata": {
        "id": "7QZL6bWo0tMJ",
        "colab_type": "code",
        "outputId": "8cbd353d-face-46fd-bd20-0cd66f0dd2ad",
        "colab": {
          "base_uri": "https://localhost:8080/",
          "height": 34
        }
      },
      "source": [
        "np.mean(cross_val_score(gs_clf_sgd, X[\"tokenized\"], y, n_jobs=-2, cv=10))"
      ],
      "execution_count": 112,
      "outputs": [
        {
          "output_type": "execute_result",
          "data": {
            "text/plain": [
              "0.6117513978049286"
            ]
          },
          "metadata": {
            "tags": []
          },
          "execution_count": 112
        }
      ]
    },
    {
      "cell_type": "code",
      "metadata": {
        "id": "HaSlcozs4pg7",
        "colab_type": "code",
        "outputId": "55c4277a-1965-4c21-ff1d-531eb6db3553",
        "colab": {
          "base_uri": "https://localhost:8080/",
          "height": 51
        }
      },
      "source": [
        "predicted = gs_clf_sgd.predict(X_test[\"tokenized\"])\n",
        "tn, fp, fn, tp = confusion_matrix(y_test, predicted).ravel()\n",
        "totalpn = tn + fp + fn + tp\n",
        "cf_mx = np.array([[tp/totalpn, fp/totalpn],[fn/totalpn, tn/totalpn]])\n",
        "cf_mx"
      ],
      "execution_count": 113,
      "outputs": [
        {
          "output_type": "execute_result",
          "data": {
            "text/plain": [
              "array([[0.27752502, 0.16287534],\n",
              "       [0.22202002, 0.33757962]])"
            ]
          },
          "metadata": {
            "tags": []
          },
          "execution_count": 113
        }
      ]
    },
    {
      "cell_type": "code",
      "metadata": {
        "colab_type": "code",
        "outputId": "978cacee-eb06-40c5-e715-2a292bb19761",
        "id": "Ur23UhUi5LxL",
        "colab": {
          "base_uri": "https://localhost:8080/",
          "height": 297
        }
      },
      "source": [
        "confusion_matrix_plot(y_test, predicted)"
      ],
      "execution_count": 114,
      "outputs": [
        {
          "output_type": "display_data",
          "data": {
            "image/png": "[encoded data removed]",
            "text/plain": [
              "<Figure size 288x288 with 1 Axes>"
            ]
          },
          "metadata": {
            "tags": []
          }
        }
      ]
    },
    {
      "cell_type": "code",
      "metadata": {
        "id": "KmpG6EFextBb",
        "colab_type": "code",
        "colab": {}
      },
      "source": [
        "# roc_curve_plot(y_test, predicted)"
      ],
      "execution_count": 0,
      "outputs": []
    },
    {
      "cell_type": "code",
      "metadata": {
        "id": "-MEH-7Hl5I_F",
        "colab_type": "code",
        "outputId": "c6a1668e-59bc-417a-d9ae-4d95c12b7844",
        "colab": {
          "base_uri": "https://localhost:8080/",
          "height": 51
        }
      },
      "source": [
        "test_string = [rm_stop_and_tokenize('You had me at \"Hello.\"')]\n",
        "print(test_string)\n",
        "gs_clf_sgd.predict(test_string)"
      ],
      "execution_count": 116,
      "outputs": [
        {
          "output_type": "stream",
          "text": [
            "['you had me at hello']\n"
          ],
          "name": "stdout"
        },
        {
          "output_type": "execute_result",
          "data": {
            "text/plain": [
              "array([1])"
            ]
          },
          "metadata": {
            "tags": []
          },
          "execution_count": 116
        }
      ]
    },
    {
      "cell_type": "code",
      "metadata": {
        "id": "KZv8HX6XF1Ym",
        "colab_type": "code",
        "colab": {}
      },
      "source": [
        "# with open(\"gs_clf_sgd.pkl\", \"wb\") as f:\n",
        "#     pickle.dump(gs_clf_sgd, f)"
      ],
      "execution_count": 0,
      "outputs": []
    },
    {
      "cell_type": "markdown",
      "metadata": {
        "id": "p0s9eNiwnrtD",
        "colab_type": "text"
      },
      "source": [
        "BernoulliNB"
      ]
    },
    {
      "cell_type": "code",
      "metadata": {
        "id": "pYb057NBErWm",
        "colab_type": "code",
        "outputId": "0cde1a2d-5800-4b85-da90-03a59f1fc0a6",
        "colab": {
          "base_uri": "https://localhost:8080/",
          "height": 68
        }
      },
      "source": [
        "text_clf_bern = Pipeline([\n",
        "                     (\"vect\", CountVectorizer(ngram_range=(1,3))),\n",
        "                     (\"tfidf\", TfidfTransformer()),\n",
        "                     (\"clf\", BernoulliNB()),\n",
        "                     ])\n",
        "text_clf_bern = text_clf_bern.fit(X_train[\"tokenized\"], y_train)\n",
        "print(text_clf_bern.score(X_test[\"tokenized\"], y_test))\n",
        "\n",
        "predicted = text_clf_bern.predict(X_test[\"tokenized\"])\n",
        "tn, fp, fn, tp = confusion_matrix(y_test, predicted).ravel()\n",
        "totalpn = tn + fp + fn + tp\n",
        "cf_mx = np.array([[tp/totalpn, fp/totalpn],[fn/totalpn, tn/totalpn]])\n",
        "cf_mx"
      ],
      "execution_count": 118,
      "outputs": [
        {
          "output_type": "stream",
          "text": [
            "0.5959963603275705\n"
          ],
          "name": "stdout"
        },
        {
          "output_type": "execute_result",
          "data": {
            "text/plain": [
              "array([[0.2766151 , 0.1810737 ],\n",
              "       [0.22292994, 0.31938126]])"
            ]
          },
          "metadata": {
            "tags": []
          },
          "execution_count": 118
        }
      ]
    },
    {
      "cell_type": "code",
      "metadata": {
        "colab_type": "code",
        "outputId": "adc14c57-52e3-49fc-e38c-359833cb044b",
        "id": "09qQciP95MvR",
        "colab": {
          "base_uri": "https://localhost:8080/",
          "height": 297
        }
      },
      "source": [
        "confusion_matrix_plot(y_test, predicted)"
      ],
      "execution_count": 119,
      "outputs": [
        {
          "output_type": "display_data",
          "data": {
            "image/png": "[encoded data removed]",
            "text/plain": [
              "<Figure size 288x288 with 1 Axes>"
            ]
          },
          "metadata": {
            "tags": []
          }
        }
      ]
    },
    {
      "cell_type": "code",
      "metadata": {
        "id": "OOxaq1Ouo4RH",
        "colab_type": "code",
        "outputId": "53b973ef-4824-4bc5-b0d1-fb8450348a70",
        "colab": {
          "base_uri": "https://localhost:8080/",
          "height": 34
        }
      },
      "source": [
        "np.mean(cross_val_score(text_clf_bern, X[\"tokenized\"], y, n_jobs=-1, cv=10))"
      ],
      "execution_count": 120,
      "outputs": [
        {
          "output_type": "execute_result",
          "data": {
            "text/plain": [
              "0.6044626216607993"
            ]
          },
          "metadata": {
            "tags": []
          },
          "execution_count": 120
        }
      ]
    },
    {
      "cell_type": "code",
      "metadata": {
        "id": "5lZLRz7uxvJU",
        "colab_type": "code",
        "colab": {}
      },
      "source": [
        "# roc_curve_plot(y_test, predicted)"
      ],
      "execution_count": 0,
      "outputs": []
    },
    {
      "cell_type": "code",
      "metadata": {
        "id": "fUUkqX_d51Gn",
        "colab_type": "code",
        "outputId": "897f5308-c681-4239-8a2d-ff229bd7950a",
        "colab": {
          "base_uri": "https://localhost:8080/",
          "height": 51
        }
      },
      "source": [
        "test_string = [rm_stop_and_tokenize(\"You had me at hello.\")]\n",
        "print(test_string)\n",
        "text_clf_bern.predict(test_string)"
      ],
      "execution_count": 122,
      "outputs": [
        {
          "output_type": "stream",
          "text": [
            "['you had me at hello']\n"
          ],
          "name": "stdout"
        },
        {
          "output_type": "execute_result",
          "data": {
            "text/plain": [
              "array([1])"
            ]
          },
          "metadata": {
            "tags": []
          },
          "execution_count": 122
        }
      ]
    },
    {
      "cell_type": "markdown",
      "metadata": {
        "id": "LlT42sBonunK",
        "colab_type": "text"
      },
      "source": [
        "RandomForestClassifier"
      ]
    },
    {
      "cell_type": "code",
      "metadata": {
        "id": "qKIQk_AeHmzr",
        "colab_type": "code",
        "outputId": "afd924ef-b9cc-4eec-e5f9-f1652436354e",
        "colab": {
          "base_uri": "https://localhost:8080/",
          "height": 68
        }
      },
      "source": [
        "text_clf_rfc = Pipeline([\n",
        "                    (\"vect\", CountVectorizer(ngram_range=(1,3))),\n",
        "                    (\"tfidf\", TfidfTransformer()),\n",
        "                    (\"clf\", RandomForestClassifier(n_estimators=200, oob_score=True, n_jobs=-1)),\n",
        "                    ])\n",
        "text_clf_rfc = text_clf_rfc.fit(X_train[\"tokenized\"], y_train)\n",
        "print(text_clf_rfc.score(X_test[\"tokenized\"], y_test))\n",
        "\n",
        "predicted = text_clf_rfc.predict(X_test[\"tokenized\"])\n",
        "tn, fp, fn, tp = confusion_matrix(y_test, predicted).ravel()\n",
        "totalpn = tn + fp + fn + tp\n",
        "cf_mx = np.array([[tp/totalpn, fp/totalpn],[fn/totalpn, tn/totalpn]])\n",
        "cf_mx"
      ],
      "execution_count": 123,
      "outputs": [
        {
          "output_type": "stream",
          "text": [
            "0.5941765241128298\n"
          ],
          "name": "stdout"
        },
        {
          "output_type": "execute_result",
          "data": {
            "text/plain": [
              "array([[0.17925387, 0.0855323 ],\n",
              "       [0.32029117, 0.41492266]])"
            ]
          },
          "metadata": {
            "tags": []
          },
          "execution_count": 123
        }
      ]
    },
    {
      "cell_type": "code",
      "metadata": {
        "colab_type": "code",
        "outputId": "e997b4fa-04fe-4977-ce5b-54fd71da9e4a",
        "id": "_KxXt12Z5OMU",
        "colab": {
          "base_uri": "https://localhost:8080/",
          "height": 297
        }
      },
      "source": [
        "confusion_matrix_plot(y_test, predicted)"
      ],
      "execution_count": 124,
      "outputs": [
        {
          "output_type": "display_data",
          "data": {
            "image/png": "[encoded data removed]",
            "text/plain": [
              "<Figure size 288x288 with 1 Axes>"
            ]
          },
          "metadata": {
            "tags": []
          }
        }
      ]
    },
    {
      "cell_type": "code",
      "metadata": {
        "id": "heFkyHMcp-zm",
        "colab_type": "code",
        "outputId": "e4b45a23-489f-4615-95cc-d08d1c948d4a",
        "colab": {
          "base_uri": "https://localhost:8080/",
          "height": 34
        }
      },
      "source": [
        "np.mean(cross_val_score(text_clf_rfc, X[\"tokenized\"], y, n_jobs=-1, cv=10))"
      ],
      "execution_count": 125,
      "outputs": [
        {
          "output_type": "execute_result",
          "data": {
            "text/plain": [
              "0.5817032511907226"
            ]
          },
          "metadata": {
            "tags": []
          },
          "execution_count": 125
        }
      ]
    },
    {
      "cell_type": "code",
      "metadata": {
        "id": "RLM6ZMTvxw2J",
        "colab_type": "code",
        "colab": {}
      },
      "source": [
        "# roc_curve_plot(y_test, predicted)"
      ],
      "execution_count": 0,
      "outputs": []
    },
    {
      "cell_type": "code",
      "metadata": {
        "id": "7ongBOfrjZ3L",
        "colab_type": "code",
        "outputId": "8a1cccbf-dfbe-4a0c-8089-d5fe49e5e588",
        "colab": {
          "base_uri": "https://localhost:8080/",
          "height": 51
        }
      },
      "source": [
        "test_string = [rm_stop_and_tokenize(\"You had me at hello.\")]\n",
        "print(test_string)\n",
        "text_clf_rfc.predict(test_string)"
      ],
      "execution_count": 127,
      "outputs": [
        {
          "output_type": "stream",
          "text": [
            "['you had me at hello']\n"
          ],
          "name": "stdout"
        },
        {
          "output_type": "execute_result",
          "data": {
            "text/plain": [
              "array([0])"
            ]
          },
          "metadata": {
            "tags": []
          },
          "execution_count": 127
        }
      ]
    },
    {
      "cell_type": "markdown",
      "metadata": {
        "id": "dyGlU4FEn97l",
        "colab_type": "text"
      },
      "source": [
        "CatBoostClassifier"
      ]
    },
    {
      "cell_type": "code",
      "metadata": {
        "id": "OnA9V-PZIMts",
        "colab_type": "code",
        "outputId": "8a171414-e68b-4f9a-a775-31981b31cf33",
        "colab": {
          "base_uri": "https://localhost:8080/",
          "height": 34
        }
      },
      "source": [
        "text_clf_cat = Pipeline([\n",
        "                    (\"vect\", CountVectorizer(ngram_range=(1,3))),\n",
        "                    (\"tfidf\", TfidfTransformer()),\n",
        "                    (\"clf\", CatBoostClassifier(verbose=False)),\n",
        "                    ])\n",
        "text_clf_cat = text_clf_cat.fit(X_train[\"tokenized\"], y_train)\n",
        "predicted = text_clf_cat.predict(X_test[\"tokenized\"])\n",
        "\n",
        "np.mean(y_test == predicted)"
      ],
      "execution_count": 128,
      "outputs": [
        {
          "output_type": "execute_result",
          "data": {
            "text/plain": [
              "0.5796178343949044"
            ]
          },
          "metadata": {
            "tags": []
          },
          "execution_count": 128
        }
      ]
    },
    {
      "cell_type": "code",
      "metadata": {
        "id": "OOsRMxlerasO",
        "colab_type": "code",
        "outputId": "43923576-275a-4890-e885-166ea6c80667",
        "colab": {
          "base_uri": "https://localhost:8080/",
          "height": 51
        }
      },
      "source": [
        "%%time\n",
        "# np.mean(cross_val_score(text_clf_cat, X[\"tokenized\"], y, n_jobs=-2, cv=10))"
      ],
      "execution_count": 129,
      "outputs": [
        {
          "output_type": "stream",
          "text": [
            "CPU times: user 2 µs, sys: 0 ns, total: 2 µs\n",
            "Wall time: 6.44 µs\n"
          ],
          "name": "stdout"
        }
      ]
    },
    {
      "cell_type": "code",
      "metadata": {
        "id": "FlCHCm3ixyeD",
        "colab_type": "code",
        "colab": {}
      },
      "source": [
        "# roc_curve_plot(y_test, predicted)"
      ],
      "execution_count": 0,
      "outputs": []
    },
    {
      "cell_type": "code",
      "metadata": {
        "id": "WNrolBbC5xgl",
        "colab_type": "code",
        "outputId": "9db46882-ed6e-496b-92a8-545846e072ee",
        "colab": {
          "base_uri": "https://localhost:8080/",
          "height": 51
        }
      },
      "source": [
        "test_string = [rm_stop_and_tokenize(\"You had me at hello.\")]\n",
        "print(test_string)\n",
        "text_clf_cat.predict(test_string)"
      ],
      "execution_count": 131,
      "outputs": [
        {
          "output_type": "stream",
          "text": [
            "['you had me at hello']\n"
          ],
          "name": "stdout"
        },
        {
          "output_type": "execute_result",
          "data": {
            "text/plain": [
              "array([1])"
            ]
          },
          "metadata": {
            "tags": []
          },
          "execution_count": 131
        }
      ]
    },
    {
      "cell_type": "markdown",
      "metadata": {
        "id": "_hFKxC4iwX7V",
        "colab_type": "text"
      },
      "source": [
        "LinearSVC"
      ]
    },
    {
      "cell_type": "code",
      "metadata": {
        "id": "5uCtck_swYlK",
        "colab_type": "code",
        "outputId": "95d0d8e6-7f03-4285-d695-4e2b63179452",
        "colab": {
          "base_uri": "https://localhost:8080/",
          "height": 68
        }
      },
      "source": [
        "text_clf_lsvc = Pipeline([\n",
        "                    (\"vect\", CountVectorizer(ngram_range=(1,3))),\n",
        "                    (\"tfidf\", TfidfTransformer()),\n",
        "                    (\"clf\", LinearSVC()),\n",
        "                    ])\n",
        "text_clf_lsvc = text_clf_lsvc.fit(X_train[\"tokenized\"], y_train)\n",
        "print(text_clf_lsvc.score(X_test[\"tokenized\"], y_test))\n",
        "\n",
        "predicted = text_clf_lsvc.predict(X_test[\"tokenized\"])\n",
        "tn, fp, fn, tp = confusion_matrix(y_test, predicted).ravel()\n",
        "totalpn = tn + fp + fn + tp\n",
        "cf_mx = np.array([[tp/totalpn, fp/totalpn],[fn/totalpn, tn/totalpn]])\n",
        "cf_mx"
      ],
      "execution_count": 132,
      "outputs": [
        {
          "output_type": "stream",
          "text": [
            "0.6141947224749773\n"
          ],
          "name": "stdout"
        },
        {
          "output_type": "execute_result",
          "data": {
            "text/plain": [
              "array([[0.26842584, 0.15468608],\n",
              "       [0.2311192 , 0.34576888]])"
            ]
          },
          "metadata": {
            "tags": []
          },
          "execution_count": 132
        }
      ]
    },
    {
      "cell_type": "code",
      "metadata": {
        "colab_type": "code",
        "outputId": "3bd9cfa1-d505-4f80-d431-e87cba350db0",
        "id": "M-34w4-v5Pte",
        "colab": {
          "base_uri": "https://localhost:8080/",
          "height": 297
        }
      },
      "source": [
        "confusion_matrix_plot(y_test, predicted)"
      ],
      "execution_count": 133,
      "outputs": [
        {
          "output_type": "display_data",
          "data": {
            "image/png": "[encoded data removed]",
            "text/plain": [
              "<Figure size 288x288 with 1 Axes>"
            ]
          },
          "metadata": {
            "tags": []
          }
        }
      ]
    },
    {
      "cell_type": "code",
      "metadata": {
        "id": "fq-ygHwKwnHO",
        "colab_type": "code",
        "outputId": "a2eab866-5145-4627-82ca-92bb13e21384",
        "colab": {
          "base_uri": "https://localhost:8080/",
          "height": 34
        }
      },
      "source": [
        "np.mean(cross_val_score(text_clf_lsvc, X[\"tokenized\"], y, n_jobs=-1, cv=10))"
      ],
      "execution_count": 134,
      "outputs": [
        {
          "output_type": "execute_result",
          "data": {
            "text/plain": [
              "0.611518948022365"
            ]
          },
          "metadata": {
            "tags": []
          },
          "execution_count": 134
        }
      ]
    },
    {
      "cell_type": "code",
      "metadata": {
        "id": "7fnBuseox0KU",
        "colab_type": "code",
        "colab": {}
      },
      "source": [
        "# roc_curve_plot(y_test, predicted)"
      ],
      "execution_count": 0,
      "outputs": []
    },
    {
      "cell_type": "code",
      "metadata": {
        "id": "g7cI-l6z6fq3",
        "colab_type": "code",
        "outputId": "443c677d-30c6-498a-b153-c70f9170826c",
        "colab": {
          "base_uri": "https://localhost:8080/",
          "height": 51
        }
      },
      "source": [
        "test_string = [rm_stop_and_tokenize(\"You had me at hello.\")]\n",
        "print(test_string)\n",
        "text_clf_lsvc.predict(test_string)[0]"
      ],
      "execution_count": 136,
      "outputs": [
        {
          "output_type": "stream",
          "text": [
            "['you had me at hello']\n"
          ],
          "name": "stdout"
        },
        {
          "output_type": "execute_result",
          "data": {
            "text/plain": [
              "1"
            ]
          },
          "metadata": {
            "tags": []
          },
          "execution_count": 136
        }
      ]
    },
    {
      "cell_type": "code",
      "metadata": {
        "id": "yoM7SEXLGNz2",
        "colab_type": "code",
        "colab": {}
      },
      "source": [
        "# with open(\"text_clf_lsvc.pkl\", \"wb\") as f:\n",
        "#     pickle.dump(text_clf_lsvc, f)"
      ],
      "execution_count": 0,
      "outputs": []
    },
    {
      "cell_type": "code",
      "metadata": {
        "id": "Ecl5xfJBAbHY",
        "colab_type": "code",
        "colab": {}
      },
      "source": [
        "def is_this_memorable(x, model=\"sgd\", return_bool=False):\n",
        "  \"\"\"\n",
        "  x : string\n",
        "  model : trained classifier\n",
        "    sgd or svc\n",
        "  \"\"\"\n",
        "  from nltk.corpus import stopwords\n",
        "  from nltk.stem import WordNetLemmatizer\n",
        "  import re\n",
        "  from nltk.tokenize import word_tokenize\n",
        "  import random\n",
        "\n",
        "  stop_words = set(stopwords.words(\"english\"))\n",
        "\n",
        "  def rm_stop_and_tokenize(x, join=True, remove_stop=False):\n",
        "    x = re.sub('\\W+', ' ', x)\n",
        "    wnl = WordNetLemmatizer()\n",
        "    if remove_stop:\n",
        "      string = \" \".join([wnl.lemmatize(word).lower() for word in x.split() if word.lower() not in stop_words])\n",
        "    else:\n",
        "      string = \" \".join([wnl.lemmatize(word).lower() for word in x.split()])\n",
        "    tokens = word_tokenize(string)\n",
        "    if join:\n",
        "      return \" \".join(tokens)\n",
        "    return tokens\n",
        "\n",
        "\n",
        "\n",
        "  x = [rm_stop_and_tokenize(x)]\n",
        "  models = {\"sgd\": gs_clf_sgd, \"svc\": text_clf_lsvc}\n",
        "  memorable = models[model].predict(x)\n",
        "  if return_bool:\n",
        "    return memorable[0]\n",
        "  if memorable:\n",
        "    return random.sample([\"It is certain.\",\n",
        "            \"It is decidedly so.\",\n",
        "            \"Without a doubt.\",\n",
        "            \"Yes - definitely.\",\n",
        "            \"You may rely on it.\",\n",
        "            \"As I see it, yes.\",\n",
        "            \"Most likely.\",\n",
        "            \"Outlook good.\",\n",
        "            \"Yes.\",\n",
        "            \"Signs point to yes.\"], 1)[0]\n",
        "  else:\n",
        "    return random.sample([\"Don't count on it.\",\n",
        "                          \"My reply is no.\",\n",
        "                          \"My sources say no.\",\n",
        "                          \"Outlook not so good.\",\n",
        "                          \"Very doubtful.\"], 1)[0]"
      ],
      "execution_count": 0,
      "outputs": []
    },
    {
      "cell_type": "code",
      "metadata": {
        "id": "oaVfFC6VAdfO",
        "colab_type": "code",
        "colab": {}
      },
      "source": [
        "# with open(\"is_this_memorable.pkl\", \"wb\") as f:\n",
        "#     pickle.dump(is_this_memorable, f)"
      ],
      "execution_count": 0,
      "outputs": []
    },
    {
      "cell_type": "markdown",
      "metadata": {
        "id": "KpacdTmHUunS",
        "colab_type": "text"
      },
      "source": [
        "Clustering"
      ]
    },
    {
      "cell_type": "code",
      "metadata": {
        "id": "Hv7EhuG-Us2G",
        "colab_type": "code",
        "colab": {}
      },
      "source": [
        "# for n_clusters in range(2,10):\n",
        "#   text_clstr = Pipeline([\n",
        "#                       (\"vect\", CountVectorizer(ngram_range=(1,3))),\n",
        "#                       (\"tfidf\", TfidfTransformer()),\n",
        "#                       (\"to_dense\", FunctionTransformer(lambda x: x.toarray(), accept_sparse=True)), \n",
        "#                       (\"clstr\", KMeans(n_clusters=n_clusters, n_jobs=-1)),\n",
        "#                       ])\n",
        "#   text_clstr = text_clstr.fit(df[df[\"memorable?\"] == 1][\"tokenized\"])\n",
        "#   cluster_labels = text_clstr[\"clstr\"].fit_predict(text_clstr[\"tfidf\"].idf_.reshape(-1, 1))\n",
        "#   print(n_clusters)\n",
        "#   print(silhouette_score(text_clstr[\"tfidf\"].idf_.reshape(-1, 1), cluster_labels))"
      ],
      "execution_count": 0,
      "outputs": []
    },
    {
      "cell_type": "code",
      "metadata": {
        "id": "lHrdm56s5WuC",
        "colab_type": "code",
        "outputId": "710163e1-86b6-436c-8456-c3e23e093448",
        "colab": {
          "base_uri": "https://localhost:8080/",
          "height": 170
        }
      },
      "source": [
        "%%time\n",
        "\n",
        "X_feats = Pipeline([\n",
        "                    (\"vect\", CountVectorizer(ngram_range=(1,3))),\n",
        "                    (\"tfidf\", TfidfTransformer()),\n",
        "                    (\"to_dense\", FunctionTransformer(lambda x: x.toarray(), accept_sparse=True)),\n",
        "                    ])\n",
        "X_feats = X_feats.fit_transform(df[\"line\"])\n",
        "\n",
        "range_n_clusters = range(2,9)\n",
        "for n_clusters in range_n_clusters:\n",
        "  mbkmeans = MiniBatchKMeans(n_clusters=n_clusters)\n",
        "  cluster_labels = mbkmeans.fit_predict(X_feats)\n",
        "\n",
        "  silhouette_avg = silhouette_score(X_feats, cluster_labels)\n",
        "  print(\"For n_clusters =\", n_clusters,\n",
        "        \"The average silhouette_score is :\", silhouette_avg)\n"
      ],
      "execution_count": 141,
      "outputs": [
        {
          "output_type": "stream",
          "text": [
            "For n_clusters = 2 The average silhouette_score is : 0.000551553181869346\n",
            "For n_clusters = 3 The average silhouette_score is : 0.0006962949895772389\n",
            "For n_clusters = 4 The average silhouette_score is : -8.999853352699095e-05\n",
            "For n_clusters = 5 The average silhouette_score is : -0.0010985983681803797\n",
            "For n_clusters = 6 The average silhouette_score is : -0.0014819638168869387\n",
            "For n_clusters = 7 The average silhouette_score is : -0.0021175095540299574\n",
            "For n_clusters = 8 The average silhouette_score is : -0.0031349801927636795\n",
            "CPU times: user 8min 5s, sys: 58.5 s, total: 9min 3s\n",
            "Wall time: 4min 39s\n"
          ],
          "name": "stdout"
        }
      ]
    },
    {
      "cell_type": "code",
      "metadata": {
        "id": "6E9wg8U_zdBT",
        "colab_type": "code",
        "colab": {}
      },
      "source": [
        "mini_km = MiniBatchKMeans(n_clusters=2).fit(X_feats)"
      ],
      "execution_count": 0,
      "outputs": []
    },
    {
      "cell_type": "code",
      "metadata": {
        "id": "lJ6W6zj36Wm7",
        "colab_type": "code",
        "colab": {}
      },
      "source": [
        "euc_arr0 = []\n",
        "euc_arr1 = []\n",
        "for row in X_feats:\n",
        "  euc_arr0.append(distance.euclidean(row, mini_km.cluster_centers_[0]))\n",
        "  euc_arr1.append(distance.euclidean(row, mini_km.cluster_centers_[1]))\n",
        "euc_arr0 = np.array(euc_arr0)\n",
        "euc_arr1 = np.array(euc_arr1)"
      ],
      "execution_count": 0,
      "outputs": []
    },
    {
      "cell_type": "code",
      "metadata": {
        "id": "q3K8kfu78LKX",
        "colab_type": "code",
        "colab": {}
      },
      "source": [
        "# cos_arr0 = []\n",
        "# cos_arr1 = []\n",
        "# for row in array_text:\n",
        "#   cos_arr0.append(distance.cosine(row, mini_km.cluster_centers_[0]))\n",
        "#   cos_arr1.append(distance.cosine(row, mini_km.cluster_centers_[1]))\n",
        "# cos_arr0 = np.array(cos_arr0)\n",
        "# cos_arr1 = np.array(cos_arr1)"
      ],
      "execution_count": 0,
      "outputs": []
    },
    {
      "cell_type": "code",
      "metadata": {
        "id": "NvoafTE0-gAc",
        "colab_type": "code",
        "colab": {
          "base_uri": "https://localhost:8080/",
          "height": 34
        },
        "outputId": "082334f1-1b48-43d9-ff4f-4dd6946b4da7"
      },
      "source": [
        "Counter(mini_km.labels_)"
      ],
      "execution_count": 145,
      "outputs": [
        {
          "output_type": "execute_result",
          "data": {
            "text/plain": [
              "Counter({0: 35, 1: 4359})"
            ]
          },
          "metadata": {
            "tags": []
          },
          "execution_count": 145
        }
      ]
    },
    {
      "cell_type": "code",
      "metadata": {
        "id": "V9iK9Ipu6WuB",
        "colab_type": "code",
        "colab": {
          "base_uri": "https://localhost:8080/",
          "height": 34
        },
        "outputId": "e4ea7cd9-99f5-4609-a999-e279a6cb4cec"
      },
      "source": [
        "euc_arr0.argsort()"
      ],
      "execution_count": 146,
      "outputs": [
        {
          "output_type": "execute_result",
          "data": {
            "text/plain": [
              "array([1726, 3400,  823, ...,  806, 3444, 2780])"
            ]
          },
          "metadata": {
            "tags": []
          },
          "execution_count": 146
        }
      ]
    },
    {
      "cell_type": "code",
      "metadata": {
        "id": "jXN6M4MV_vDd",
        "colab_type": "code",
        "colab": {
          "base_uri": "https://localhost:8080/",
          "height": 34
        },
        "outputId": "b001ed5f-17c9-48d7-f6a3-27a33fe0ecc8"
      },
      "source": [
        "euc_arr1.argsort()"
      ],
      "execution_count": 147,
      "outputs": [
        {
          "output_type": "execute_result",
          "data": {
            "text/plain": [
              "array([3681, 3135, 3079, ...,  589,  688, 2120])"
            ]
          },
          "metadata": {
            "tags": []
          },
          "execution_count": 147
        }
      ]
    },
    {
      "cell_type": "code",
      "metadata": {
        "id": "rGR3fcxf_5q1",
        "colab_type": "code",
        "colab": {
          "base_uri": "https://localhost:8080/",
          "height": 34
        },
        "outputId": "6c66e3d7-6660-4528-c8dc-57feb87ef71f"
      },
      "source": [
        "np.sum(X_feats[2262])"
      ],
      "execution_count": 148,
      "outputs": [
        {
          "output_type": "execute_result",
          "data": {
            "text/plain": [
              "2.449489742783178"
            ]
          },
          "metadata": {
            "tags": []
          },
          "execution_count": 148
        }
      ]
    },
    {
      "cell_type": "code",
      "metadata": {
        "id": "X_kE7a96AGWU",
        "colab_type": "code",
        "colab": {
          "base_uri": "https://localhost:8080/",
          "height": 34
        },
        "outputId": "63b19909-a03d-4c50-8d99-d57fcc68a76a"
      },
      "source": [
        "rm_stop_and_tokenize(\"I despise a floggin' rooster.\t\")"
      ],
      "execution_count": 149,
      "outputs": [
        {
          "output_type": "execute_result",
          "data": {
            "text/plain": [
              "'i despise a floggin rooster'"
            ]
          },
          "metadata": {
            "tags": []
          },
          "execution_count": 149
        }
      ]
    },
    {
      "cell_type": "code",
      "metadata": {
        "id": "zlDo2236zxbo",
        "colab_type": "code",
        "colab": {
          "base_uri": "https://localhost:8080/",
          "height": 852
        },
        "outputId": "4f2dc102-6f71-4625-aa2d-e7fd5ff28ca2"
      },
      "source": [
        "df.iloc[euc_arr0.argsort()[:10]]"
      ],
      "execution_count": 150,
      "outputs": [
        {
          "output_type": "execute_result",
          "data": {
            "text/html": [
              "<div>\n",
              "<style scoped>\n",
              "    .dataframe tbody tr th:only-of-type {\n",
              "        vertical-align: middle;\n",
              "    }\n",
              "\n",
              "    .dataframe tbody tr th {\n",
              "        vertical-align: top;\n",
              "    }\n",
              "\n",
              "    .dataframe thead th {\n",
              "        text-align: right;\n",
              "    }\n",
              "</style>\n",
              "<table border=\"1\" class=\"dataframe\">\n",
              "  <thead>\n",
              "    <tr style=\"text-align: right;\">\n",
              "      <th></th>\n",
              "      <th>movie_title</th>\n",
              "      <th>line</th>\n",
              "      <th>levenshtein_distance_from_script</th>\n",
              "      <th>memorable?</th>\n",
              "      <th>tokenized</th>\n",
              "      <th>parts_of_speech</th>\n",
              "    </tr>\n",
              "    <tr>\n",
              "      <th>line_id</th>\n",
              "      <th></th>\n",
              "      <th></th>\n",
              "      <th></th>\n",
              "      <th></th>\n",
              "      <th></th>\n",
              "      <th></th>\n",
              "    </tr>\n",
              "  </thead>\n",
              "  <tbody>\n",
              "    <tr>\n",
              "      <th>133341</th>\n",
              "      <td>the boondock saints</td>\n",
              "      <td>So you're telling me it was one guy with six g...</td>\n",
              "      <td>7</td>\n",
              "      <td>1</td>\n",
              "      <td>so you re telling me it wa one guy with six gu...</td>\n",
              "      <td>[RB, JJ, VBG, PRP, PRP, VBD, CD, NN, IN, CD, N...</td>\n",
              "    </tr>\n",
              "    <tr>\n",
              "      <th>816815</th>\n",
              "      <td>tombstone</td>\n",
              "      <td>Forgive me if I don't shake hands.</td>\n",
              "      <td>0</td>\n",
              "      <td>1</td>\n",
              "      <td>forgive me if i don t shake hand</td>\n",
              "      <td>[CD, PRP, IN, PRP, VBP, VB, NN]</td>\n",
              "    </tr>\n",
              "    <tr>\n",
              "      <th>10197</th>\n",
              "      <td>a nightmare on elm street 3: dream warriors</td>\n",
              "      <td>NOBODY'S GONNA PUT ME TO SLEEP!</td>\n",
              "      <td>0</td>\n",
              "      <td>0</td>\n",
              "      <td>nobody s gon na put me to sleep</td>\n",
              "      <td>[NNP, NNP, NNP, NNP, NNP, NNP]</td>\n",
              "    </tr>\n",
              "    <tr>\n",
              "      <th>773856</th>\n",
              "      <td>terminator</td>\n",
              "      <td>Come with me if you want to live.</td>\n",
              "      <td>0</td>\n",
              "      <td>1</td>\n",
              "      <td>come with me if you want to live</td>\n",
              "      <td>[VBN, IN, PRP, IN, PRP, VBP, TO, VB]</td>\n",
              "    </tr>\n",
              "    <tr>\n",
              "      <th>774531</th>\n",
              "      <td>terminator 2: judgment day</td>\n",
              "      <td>Come with me if you want to live!</td>\n",
              "      <td>1</td>\n",
              "      <td>1</td>\n",
              "      <td>come with me if you want to live</td>\n",
              "      <td>[VBN, IN, PRP, IN, PRP, VBP, TO, VB]</td>\n",
              "    </tr>\n",
              "    <tr>\n",
              "      <th>401900</th>\n",
              "      <td>the incredibles</td>\n",
              "      <td>You're not affiliated with me!</td>\n",
              "      <td>56</td>\n",
              "      <td>1</td>\n",
              "      <td>you re not affiliated with me</td>\n",
              "      <td>[NNP, RB, VBD, IN, NN]</td>\n",
              "    </tr>\n",
              "    <tr>\n",
              "      <th>731932</th>\n",
              "      <td>star trek nemesis</td>\n",
              "      <td>Data, Worf, you're with me.</td>\n",
              "      <td>0</td>\n",
              "      <td>0</td>\n",
              "      <td>data worf you re with me</td>\n",
              "      <td>[NNP, NNP, NN, IN, NN]</td>\n",
              "    </tr>\n",
              "    <tr>\n",
              "      <th>616513</th>\n",
              "      <td>the princess bride</td>\n",
              "      <td>-- pardon me, it's important --</td>\n",
              "      <td>0</td>\n",
              "      <td>0</td>\n",
              "      <td>pardon me it s important</td>\n",
              "      <td>[:, NN, NN, NN, JJ, :]</td>\n",
              "    </tr>\n",
              "    <tr>\n",
              "      <th>792365</th>\n",
              "      <td>the producers</td>\n",
              "      <td>It's only two thousand dollars, Bloom, do me a...</td>\n",
              "      <td>0</td>\n",
              "      <td>0</td>\n",
              "      <td>it s only two thousand dollar bloom do me a fa...</td>\n",
              "      <td>[NNP, RB, CD, VBP, NNS, NNP, VBP, PRP, DT, JJ,...</td>\n",
              "    </tr>\n",
              "    <tr>\n",
              "      <th>702344</th>\n",
              "      <td>slither</td>\n",
              "      <td>Something's wrong with me.</td>\n",
              "      <td>0</td>\n",
              "      <td>1</td>\n",
              "      <td>something s wrong with me</td>\n",
              "      <td>[NNP, JJ, IN, NN]</td>\n",
              "    </tr>\n",
              "  </tbody>\n",
              "</table>\n",
              "</div>"
            ],
            "text/plain": [
              "                                         movie_title  ...                                    parts_of_speech\n",
              "line_id                                               ...                                                   \n",
              "133341                           the boondock saints  ...  [RB, JJ, VBG, PRP, PRP, VBD, CD, NN, IN, CD, N...\n",
              "816815                                     tombstone  ...                    [CD, PRP, IN, PRP, VBP, VB, NN]\n",
              "10197    a nightmare on elm street 3: dream warriors  ...                     [NNP, NNP, NNP, NNP, NNP, NNP]\n",
              "773856                                    terminator  ...               [VBN, IN, PRP, IN, PRP, VBP, TO, VB]\n",
              "774531                    terminator 2: judgment day  ...               [VBN, IN, PRP, IN, PRP, VBP, TO, VB]\n",
              "401900                               the incredibles  ...                             [NNP, RB, VBD, IN, NN]\n",
              "731932                             star trek nemesis  ...                             [NNP, NNP, NN, IN, NN]\n",
              "616513                            the princess bride  ...                             [:, NN, NN, NN, JJ, :]\n",
              "792365                                 the producers  ...  [NNP, RB, CD, VBP, NNS, NNP, VBP, PRP, DT, JJ,...\n",
              "702344                                       slither  ...                                  [NNP, JJ, IN, NN]\n",
              "\n",
              "[10 rows x 6 columns]"
            ]
          },
          "metadata": {
            "tags": []
          },
          "execution_count": 150
        }
      ]
    },
    {
      "cell_type": "code",
      "metadata": {
        "id": "rTuw5tpJ6Wz6",
        "colab_type": "code",
        "colab": {
          "base_uri": "https://localhost:8080/",
          "height": 1000
        },
        "outputId": "490a3556-ff89-4924-a51f-3eb497bdd761"
      },
      "source": [
        "df.iloc[euc_arr1.argsort()[:10]]"
      ],
      "execution_count": 151,
      "outputs": [
        {
          "output_type": "execute_result",
          "data": {
            "text/html": [
              "<div>\n",
              "<style scoped>\n",
              "    .dataframe tbody tr th:only-of-type {\n",
              "        vertical-align: middle;\n",
              "    }\n",
              "\n",
              "    .dataframe tbody tr th {\n",
              "        vertical-align: top;\n",
              "    }\n",
              "\n",
              "    .dataframe thead th {\n",
              "        text-align: right;\n",
              "    }\n",
              "</style>\n",
              "<table border=\"1\" class=\"dataframe\">\n",
              "  <thead>\n",
              "    <tr style=\"text-align: right;\">\n",
              "      <th></th>\n",
              "      <th>movie_title</th>\n",
              "      <th>line</th>\n",
              "      <th>levenshtein_distance_from_script</th>\n",
              "      <th>memorable?</th>\n",
              "      <th>tokenized</th>\n",
              "      <th>parts_of_speech</th>\n",
              "    </tr>\n",
              "    <tr>\n",
              "      <th>line_id</th>\n",
              "      <th></th>\n",
              "      <th></th>\n",
              "      <th></th>\n",
              "      <th></th>\n",
              "      <th></th>\n",
              "      <th></th>\n",
              "    </tr>\n",
              "  </thead>\n",
              "  <tbody>\n",
              "    <tr>\n",
              "      <th>645373</th>\n",
              "      <td>revolutionary road</td>\n",
              "      <td>And what do you think you're going to do?</td>\n",
              "      <td>0</td>\n",
              "      <td>0</td>\n",
              "      <td>and what do you think you re going to do</td>\n",
              "      <td>[CC, WP, VBP, PRP, VB, RB, VBG, TO, VB]</td>\n",
              "    </tr>\n",
              "    <tr>\n",
              "      <th>698263</th>\n",
              "      <td>the sixth sense</td>\n",
              "      <td>You don't have to tell me your secret if you d...</td>\n",
              "      <td>0</td>\n",
              "      <td>0</td>\n",
              "      <td>you don t have to tell me your secret if you d...</td>\n",
              "      <td>[PRP, VBP, VB, TO, VB, PRP, PRP$, JJ, IN, PRP,...</td>\n",
              "    </tr>\n",
              "    <tr>\n",
              "      <th>683835</th>\n",
              "      <td>shallow grave</td>\n",
              "      <td>You're not going to take it to a bank Or what,...</td>\n",
              "      <td>0</td>\n",
              "      <td>0</td>\n",
              "      <td>you re not going to take it to a bank or what ...</td>\n",
              "      <td>[MD, RB, VBG, TO, VB, PRP, TO, DT, NN, CC, VB,...</td>\n",
              "    </tr>\n",
              "    <tr>\n",
              "      <th>233874</th>\n",
              "      <td>dogma</td>\n",
              "      <td>...and now you're telling me that I'm supposed...</td>\n",
              "      <td>0</td>\n",
              "      <td>0</td>\n",
              "      <td>and now you re telling me that i m supposed to...</td>\n",
              "      <td>[NN, RB, VBZ, VBG, PRP, IN, NNP, VBD, TO, VB, ...</td>\n",
              "    </tr>\n",
              "    <tr>\n",
              "      <th>545759</th>\n",
              "      <td>mumford</td>\n",
              "      <td>I agree with you that you don't know what you'...</td>\n",
              "      <td>0</td>\n",
              "      <td>0</td>\n",
              "      <td>i agree with you that you don t know what you ...</td>\n",
              "      <td>[PRP, VBP, IN, PRP, IN, PRP, VBP, VB, WP, VB, ...</td>\n",
              "    </tr>\n",
              "    <tr>\n",
              "      <th>694505</th>\n",
              "      <td>silence of the lambs</td>\n",
              "      <td>You're so close to the way you're going to cat...</td>\n",
              "      <td>0</td>\n",
              "      <td>0</td>\n",
              "      <td>you re so close to the way you re going to cat...</td>\n",
              "      <td>[NNP, RB, RB, TO, DT, NN, VBZ, VBG, TO, VB, PR...</td>\n",
              "    </tr>\n",
              "    <tr>\n",
              "      <th>411547</th>\n",
              "      <td>interview with the vampire: the vampire chroni...</td>\n",
              "      <td>So you want me to tell you the story of my life?</td>\n",
              "      <td>3</td>\n",
              "      <td>1</td>\n",
              "      <td>so you want me to tell you the story of my life</td>\n",
              "      <td>[RB, PRP, VBP, PRP, TO, VB, PRP, DT, NN, IN, P...</td>\n",
              "    </tr>\n",
              "    <tr>\n",
              "      <th>83548</th>\n",
              "      <td>backdraft</td>\n",
              "      <td>Do you have to do that?</td>\n",
              "      <td>0</td>\n",
              "      <td>0</td>\n",
              "      <td>do you have to do that</td>\n",
              "      <td>[VBP, PRP, VB, TO, VB, VB]</td>\n",
              "    </tr>\n",
              "    <tr>\n",
              "      <th>644959</th>\n",
              "      <td>revolutionary road</td>\n",
              "      <td>Just because you've got me safe in this little...</td>\n",
              "      <td>13</td>\n",
              "      <td>1</td>\n",
              "      <td>just because you ve got me safe in this little...</td>\n",
              "      <td>[RB, IN, NN, VBD, PRP, JJ, IN, DT, JJ, NN, PRP...</td>\n",
              "    </tr>\n",
              "    <tr>\n",
              "      <th>711742</th>\n",
              "      <td>someone to watch over me</td>\n",
              "      <td>What do you want to do?</td>\n",
              "      <td>0</td>\n",
              "      <td>0</td>\n",
              "      <td>what do you want to do</td>\n",
              "      <td>[WP, VBP, PRP, VB, TO, VB]</td>\n",
              "    </tr>\n",
              "  </tbody>\n",
              "</table>\n",
              "</div>"
            ],
            "text/plain": [
              "                                               movie_title  ...                                    parts_of_speech\n",
              "line_id                                                     ...                                                   \n",
              "645373                                  revolutionary road  ...            [CC, WP, VBP, PRP, VB, RB, VBG, TO, VB]\n",
              "698263                                     the sixth sense  ...  [PRP, VBP, VB, TO, VB, PRP, PRP$, JJ, IN, PRP,...\n",
              "683835                                       shallow grave  ...  [MD, RB, VBG, TO, VB, PRP, TO, DT, NN, CC, VB,...\n",
              "233874                                               dogma  ...  [NN, RB, VBZ, VBG, PRP, IN, NNP, VBD, TO, VB, ...\n",
              "545759                                             mumford  ...  [PRP, VBP, IN, PRP, IN, PRP, VBP, VB, WP, VB, ...\n",
              "694505                                silence of the lambs  ...  [NNP, RB, RB, TO, DT, NN, VBZ, VBG, TO, VB, PR...\n",
              "411547   interview with the vampire: the vampire chroni...  ...  [RB, PRP, VBP, PRP, TO, VB, PRP, DT, NN, IN, P...\n",
              "83548                                            backdraft  ...                         [VBP, PRP, VB, TO, VB, VB]\n",
              "644959                                  revolutionary road  ...  [RB, IN, NN, VBD, PRP, JJ, IN, DT, JJ, NN, PRP...\n",
              "711742                            someone to watch over me  ...                         [WP, VBP, PRP, VB, TO, VB]\n",
              "\n",
              "[10 rows x 6 columns]"
            ]
          },
          "metadata": {
            "tags": []
          },
          "execution_count": 151
        }
      ]
    },
    {
      "cell_type": "code",
      "metadata": {
        "id": "POjaIvFF1OBY",
        "colab_type": "code",
        "colab": {}
      },
      "source": [
        "# cluster_labels = text_clstr[\"clstr\"].fit_predict(text_clstr[\"tfidf\"].idf_.reshape(-1, 1))\n",
        "\n",
        "# silhouette_score(text_clstr[\"tfidf\"].idf_.reshape(-1, 1), cluster_labels)"
      ],
      "execution_count": 0,
      "outputs": []
    },
    {
      "cell_type": "code",
      "metadata": {
        "id": "1yG97GYcmSnG",
        "colab_type": "code",
        "colab": {}
      },
      "source": [
        "# text = Pipeline([\n",
        "#                  (\"vect\", CountVectorizer(ngram_range=(1,3))),\n",
        "#                  (\"tfidf\", TfidfTransformer()),\n",
        "#                  ])\n",
        "# text_clstr = text_clstr.fit((df[df[\"memorable?\"] == 1][\"tokenized\"]))\n",
        "\n",
        "# text = text.fit_transform(df[\"tokenized\"])\n",
        "# df[\"tfidf\"] = list(text)\n",
        "# df[\"tfidf\"] = df[\"tfidf\"].apply(lambda x: x.toarray())"
      ],
      "execution_count": 0,
      "outputs": []
    },
    {
      "cell_type": "code",
      "metadata": {
        "id": "0xGVUFWe4rhD",
        "colab_type": "code",
        "colab": {}
      },
      "source": [
        "# df.iloc[0][\"tfidf\"].toarray().shape"
      ],
      "execution_count": 0,
      "outputs": []
    },
    {
      "cell_type": "code",
      "metadata": {
        "id": "0BSCQAbl5abt",
        "colab_type": "code",
        "colab": {}
      },
      "source": [
        "#"
      ],
      "execution_count": 0,
      "outputs": []
    },
    {
      "cell_type": "code",
      "metadata": {
        "id": "E-TJ1d6Vzq_w",
        "colab_type": "code",
        "colab": {
          "base_uri": "https://localhost:8080/",
          "height": 34
        },
        "outputId": "85eb67f2-d7e6-40b0-85cb-e9ae5ea29ef9"
      },
      "source": [
        "vocab = set((\" \".join(df[\"tokenized\"]).split()))\n",
        "len(vocab)"
      ],
      "execution_count": 156,
      "outputs": [
        {
          "output_type": "execute_result",
          "data": {
            "text/plain": [
              "5636"
            ]
          },
          "metadata": {
            "tags": []
          },
          "execution_count": 156
        }
      ]
    },
    {
      "cell_type": "code",
      "metadata": {
        "id": "1VYG2oQz036S",
        "colab_type": "code",
        "colab": {
          "base_uri": "https://localhost:8080/",
          "height": 34
        },
        "outputId": "620b306e-968f-4c1e-f971-92532d578711"
      },
      "source": [
        "class_counts = Counter(y)\n",
        "class_counts"
      ],
      "execution_count": 157,
      "outputs": [
        {
          "output_type": "execute_result",
          "data": {
            "text/plain": [
              "Counter({0: 2197, 1: 2197})"
            ]
          },
          "metadata": {
            "tags": []
          },
          "execution_count": 157
        }
      ]
    },
    {
      "cell_type": "code",
      "metadata": {
        "id": "hImpcUo61qUB",
        "colab_type": "code",
        "colab": {
          "base_uri": "https://localhost:8080/",
          "height": 34
        },
        "outputId": "02a4f302-0c9b-458b-f4eb-ba97d9952230"
      },
      "source": [
        "total_docs = sum(class_counts.values())\n",
        "total_docs"
      ],
      "execution_count": 158,
      "outputs": [
        {
          "output_type": "execute_result",
          "data": {
            "text/plain": [
              "4394"
            ]
          },
          "metadata": {
            "tags": []
          },
          "execution_count": 158
        }
      ]
    },
    {
      "cell_type": "code",
      "metadata": {
        "id": "VpznDele2RGw",
        "colab_type": "code",
        "colab": {
          "base_uri": "https://localhost:8080/",
          "height": 34
        },
        "outputId": "724163fe-0643-4900-e795-234226ec1938"
      },
      "source": [
        "words_per_class = defaultdict(int)\n",
        "word_count_per_class = defaultdict(Counter)\n",
        "\n",
        "for doc, label in zip(X[\"tokenized\"],y):\n",
        "    words_per_class[label] += len(doc.split())\n",
        "    word_count_per_class[label].update(Counter(doc.split()))\n",
        "\n",
        "words_per_class"
      ],
      "execution_count": 159,
      "outputs": [
        {
          "output_type": "execute_result",
          "data": {
            "text/plain": [
              "defaultdict(int, {0: 22569, 1: 22565})"
            ]
          },
          "metadata": {
            "tags": []
          },
          "execution_count": 159
        }
      ]
    },
    {
      "cell_type": "code",
      "metadata": {
        "id": "JPKXianf4N0H",
        "colab_type": "code",
        "colab": {}
      },
      "source": [
        ""
      ],
      "execution_count": 0,
      "outputs": []
    }
  ]
}