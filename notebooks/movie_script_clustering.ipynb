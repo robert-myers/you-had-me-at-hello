{
  "nbformat": 4,
  "nbformat_minor": 0,
  "metadata": {
    "colab": {
      "name": "movie_script_clustering.ipynb",
      "provenance": [],
      "authorship_tag": "ABX9TyNTdmZVHxnM4eitwQ3W5CLH",
      "include_colab_link": true
    },
    "kernelspec": {
      "name": "python3",
      "display_name": "Python 3"
    },
    "accelerator": "GPU"
  },
  "cells": [
    {
      "cell_type": "markdown",
      "metadata": {
        "id": "view-in-github",
        "colab_type": "text"
      },
      "source": [
        "<a href=\"https://colab.research.google.com/github/robert-myers/you-had-me-at-hello/blob/master/notebooks/movie_script_clustering.ipynb\" target=\"_parent\"><img src=\"https://colab.research.google.com/assets/colab-badge.svg\" alt=\"Open In Colab\"/></a>"
      ]
    },
    {
      "cell_type": "code",
      "metadata": {
        "id": "uF1ZM4Vxtlxq",
        "colab_type": "code",
        "colab": {}
      },
      "source": [
        "import pandas as pd\n",
        "import codecs\n",
        "import random\n",
        "import nltk\n",
        "import re\n",
        "import numpy as np\n",
        "import matplotlib as mpl\n",
        "import matplotlib.pyplot as plt\n",
        "\n",
        "from matplotlib.colors import LogNorm\n",
        "from matplotlib.ticker import FixedLocator, FixedFormatter\n",
        "from nltk.corpus import stopwords\n",
        "from nltk.stem import WordNetLemmatizer, PorterStemmer\n",
        "from nltk.tokenize import word_tokenize, sent_tokenize\n",
        "from sklearn.pipeline import Pipeline\n",
        "from sklearn.preprocessing import FunctionTransformer\n",
        "from sklearn.feature_extraction.text import CountVectorizer, TfidfTransformer\n",
        "from sklearn.cluster import MiniBatchKMeans, KMeans, DBSCAN\n",
        "from sklearn.metrics import silhouette_score, silhouette_samples\n",
        "from sklearn.decomposition import PCA\n",
        "from scipy.spatial import distance\n",
        "from sklearn.mixture import GaussianMixture"
      ],
      "execution_count": 0,
      "outputs": []
    },
    {
      "cell_type": "code",
      "metadata": {
        "id": "SdHCkSCIPFOD",
        "colab_type": "code",
        "outputId": "d70d4911-f829-49db-d00c-8b9dbb5c7fc8",
        "colab": {
          "base_uri": "https://localhost:8080/",
          "height": 136
        }
      },
      "source": [
        "nltk.download(['stopwords', 'wordnet', 'punkt'])"
      ],
      "execution_count": 2,
      "outputs": [
        {
          "output_type": "stream",
          "text": [
            "[nltk_data] Downloading package stopwords to /root/nltk_data...\n",
            "[nltk_data]   Unzipping corpora/stopwords.zip.\n",
            "[nltk_data] Downloading package wordnet to /root/nltk_data...\n",
            "[nltk_data]   Unzipping corpora/wordnet.zip.\n",
            "[nltk_data] Downloading package punkt to /root/nltk_data...\n",
            "[nltk_data]   Unzipping tokenizers/punkt.zip.\n"
          ],
          "name": "stdout"
        },
        {
          "output_type": "execute_result",
          "data": {
            "text/plain": [
              "True"
            ]
          },
          "metadata": {
            "tags": []
          },
          "execution_count": 2
        }
      ]
    },
    {
      "cell_type": "code",
      "metadata": {
        "id": "i70VLlUvtzf6",
        "colab_type": "code",
        "colab": {}
      },
      "source": [
        "df = pd.read_csv(\"https://media.githubusercontent.com/media/robert-myers/you-had-me-at-hello/master/data/moviequotes.scripts.txt\",\n",
        "                 encoding=\"ISO-8859-1\",\n",
        "                 sep=\" \\+\\+\\+\\$\\+\\+\\+ \",\n",
        "                 engine=\"python\",\n",
        "                 names=[\"LINE_ID\", \"MOVIE_TITLE\", \"MOVIE_LINE_NR\", \"CHARACTER\", \"REPLY_TO_LINE_ID\", \"TEXT\"],\n",
        "                 index_col=0,\n",
        "                #  warn_bad_lines=False,\n",
        "                #  error_bad_lines=False,\n",
        "                 )"
      ],
      "execution_count": 0,
      "outputs": []
    },
    {
      "cell_type": "code",
      "metadata": {
        "id": "LCDpdbR4OFJe",
        "colab_type": "code",
        "colab": {}
      },
      "source": [
        "df[\"TEXT\"] = df[\"TEXT\"].apply(lambda x: x if x else \"\")"
      ],
      "execution_count": 0,
      "outputs": []
    },
    {
      "cell_type": "code",
      "metadata": {
        "id": "HQb1cyvuNBQe",
        "colab_type": "code",
        "outputId": "6cf48029-9342-494d-9e4d-3d5c2706c030",
        "colab": {
          "base_uri": "https://localhost:8080/",
          "height": 235
        }
      },
      "source": [
        "random_idx = random.randint(0, len(df)-5)\n",
        "df.loc[random_idx:random_idx+4]"
      ],
      "execution_count": 5,
      "outputs": [
        {
          "output_type": "execute_result",
          "data": {
            "text/html": [
              "<div>\n",
              "<style scoped>\n",
              "    .dataframe tbody tr th:only-of-type {\n",
              "        vertical-align: middle;\n",
              "    }\n",
              "\n",
              "    .dataframe tbody tr th {\n",
              "        vertical-align: top;\n",
              "    }\n",
              "\n",
              "    .dataframe thead th {\n",
              "        text-align: right;\n",
              "    }\n",
              "</style>\n",
              "<table border=\"1\" class=\"dataframe\">\n",
              "  <thead>\n",
              "    <tr style=\"text-align: right;\">\n",
              "      <th></th>\n",
              "      <th>MOVIE_TITLE</th>\n",
              "      <th>MOVIE_LINE_NR</th>\n",
              "      <th>CHARACTER</th>\n",
              "      <th>REPLY_TO_LINE_ID</th>\n",
              "      <th>TEXT</th>\n",
              "    </tr>\n",
              "    <tr>\n",
              "      <th>LINE_ID</th>\n",
              "      <th></th>\n",
              "      <th></th>\n",
              "      <th></th>\n",
              "      <th></th>\n",
              "      <th></th>\n",
              "    </tr>\n",
              "  </thead>\n",
              "  <tbody>\n",
              "    <tr>\n",
              "      <th>6855</th>\n",
              "      <td>a few good men</td>\n",
              "      <td>337</td>\n",
              "      <td>kaffee</td>\n",
              "      <td>6854</td>\n",
              "      <td>If you can't beat 'em, join 'em.</td>\n",
              "    </tr>\n",
              "    <tr>\n",
              "      <th>6856</th>\n",
              "      <td>a few good men</td>\n",
              "      <td>338</td>\n",
              "      <td>luther</td>\n",
              "      <td>6855</td>\n",
              "      <td>Hey, if you've got your health, you got everyt...</td>\n",
              "    </tr>\n",
              "    <tr>\n",
              "      <th>6857</th>\n",
              "      <td>a few good men</td>\n",
              "      <td>339</td>\n",
              "      <td>kaffee</td>\n",
              "      <td>6856</td>\n",
              "      <td>Love makes the world go round. I'll see you to...</td>\n",
              "    </tr>\n",
              "    <tr>\n",
              "      <th>6858</th>\n",
              "      <td>a few good men</td>\n",
              "      <td>340</td>\n",
              "      <td>sam</td>\n",
              "      <td>NaN</td>\n",
              "      <td>When Nancy gets back, you're my witness. The b...</td>\n",
              "    </tr>\n",
              "    <tr>\n",
              "      <th>6859</th>\n",
              "      <td>a few good men</td>\n",
              "      <td>341</td>\n",
              "      <td>kaffee</td>\n",
              "      <td>6858</td>\n",
              "      <td>Your daughter made a sound, Sam, I'm not sure ...</td>\n",
              "    </tr>\n",
              "  </tbody>\n",
              "</table>\n",
              "</div>"
            ],
            "text/plain": [
              "            MOVIE_TITLE  ...                                               TEXT\n",
              "LINE_ID                  ...                                                   \n",
              "6855     a few good men  ...                   If you can't beat 'em, join 'em.\n",
              "6856     a few good men  ...  Hey, if you've got your health, you got everyt...\n",
              "6857     a few good men  ...  Love makes the world go round. I'll see you to...\n",
              "6858     a few good men  ...  When Nancy gets back, you're my witness. The b...\n",
              "6859     a few good men  ...  Your daughter made a sound, Sam, I'm not sure ...\n",
              "\n",
              "[5 rows x 5 columns]"
            ]
          },
          "metadata": {
            "tags": []
          },
          "execution_count": 5
        }
      ]
    },
    {
      "cell_type": "code",
      "metadata": {
        "id": "ZY_w24Nezlx8",
        "colab_type": "code",
        "colab": {}
      },
      "source": [
        "gb = df.groupby(\"MOVIE_TITLE\")\n",
        "corpora_dct = {}\n",
        "for group in gb.groups:\n",
        "  key = gb.get_group(group)[\"MOVIE_TITLE\"].unique()[0]\n",
        "  corpora_dct[key] = gb.get_group(group)\n",
        "corpora_dct = {movie_title: \" \".join(script_df[\"TEXT\"]) for movie_title, script_df in corpora_dct.items()}\n",
        "corpora = pd.Series(corpora_dct).reset_index()\n",
        "corpora = corpora.rename(columns={\"index\": \"movie_title\", 0:\"script\"}).set_index(\"movie_title\")"
      ],
      "execution_count": 0,
      "outputs": []
    },
    {
      "cell_type": "code",
      "metadata": {
        "id": "NsFToTSRPu7f",
        "colab_type": "code",
        "outputId": "312dfc69-9e77-454d-9aed-e3f75b15a673",
        "colab": {
          "base_uri": "https://localhost:8080/",
          "height": 450
        }
      },
      "source": [
        "corpora"
      ],
      "execution_count": 7,
      "outputs": [
        {
          "output_type": "execute_result",
          "data": {
            "text/html": [
              "<div>\n",
              "<style scoped>\n",
              "    .dataframe tbody tr th:only-of-type {\n",
              "        vertical-align: middle;\n",
              "    }\n",
              "\n",
              "    .dataframe tbody tr th {\n",
              "        vertical-align: top;\n",
              "    }\n",
              "\n",
              "    .dataframe thead th {\n",
              "        text-align: right;\n",
              "    }\n",
              "</style>\n",
              "<table border=\"1\" class=\"dataframe\">\n",
              "  <thead>\n",
              "    <tr style=\"text-align: right;\">\n",
              "      <th></th>\n",
              "      <th>script</th>\n",
              "    </tr>\n",
              "    <tr>\n",
              "      <th>movie_title</th>\n",
              "      <th></th>\n",
              "    </tr>\n",
              "  </thead>\n",
              "  <tbody>\n",
              "    <tr>\n",
              "      <th>\"murderland\"</th>\n",
              "      <td>Ladies and gentlemen, the official mascot of M...</td>\n",
              "    </tr>\n",
              "    <tr>\n",
              "      <th>10 things i hate about you</th>\n",
              "      <td>Hey -- sorry. Leave it Did you change your hai...</td>\n",
              "    </tr>\n",
              "    <tr>\n",
              "      <th>1492: conquest of paradise</th>\n",
              "      <td>Your Majesty would wish to know the true facts...</td>\n",
              "    </tr>\n",
              "    <tr>\n",
              "      <th>15 minutes</th>\n",
              "      <td>Just do what I do.  Say the same thing I say. ...</td>\n",
              "    </tr>\n",
              "    <tr>\n",
              "      <th>2001: a space odyssey</th>\n",
              "      <td>AFRICA 3,000,000 YEARS AGO -------------------...</td>\n",
              "    </tr>\n",
              "    <tr>\n",
              "      <th>...</th>\n",
              "      <td>...</td>\n",
              "    </tr>\n",
              "    <tr>\n",
              "      <th>you've got mail</th>\n",
              "      <td>Good morning. Listen to this -- the entire wor...</td>\n",
              "    </tr>\n",
              "    <tr>\n",
              "      <th>young frankenstein</th>\n",
              "      <td>Fumbling fool!  For two kronen I'd rip that bo...</td>\n",
              "    </tr>\n",
              "    <tr>\n",
              "      <th>youth in revolt</th>\n",
              "      <td>My name... is Nick. My last name, which I loat...</td>\n",
              "    </tr>\n",
              "    <tr>\n",
              "      <th>zerophilia</th>\n",
              "      <td>Are you all right? How did you even get here? ...</td>\n",
              "    </tr>\n",
              "    <tr>\n",
              "      <th>zulu dawn</th>\n",
              "      <td>NATAL. NIGHT. Reading aloud the letter he has ...</td>\n",
              "    </tr>\n",
              "  </tbody>\n",
              "</table>\n",
              "<p>1068 rows × 1 columns</p>\n",
              "</div>"
            ],
            "text/plain": [
              "                                                                       script\n",
              "movie_title                                                                  \n",
              "\"murderland\"                Ladies and gentlemen, the official mascot of M...\n",
              "10 things i hate about you  Hey -- sorry. Leave it Did you change your hai...\n",
              "1492: conquest of paradise  Your Majesty would wish to know the true facts...\n",
              "15 minutes                  Just do what I do.  Say the same thing I say. ...\n",
              "2001: a space odyssey       AFRICA 3,000,000 YEARS AGO -------------------...\n",
              "...                                                                       ...\n",
              "you've got mail             Good morning. Listen to this -- the entire wor...\n",
              "young frankenstein          Fumbling fool!  For two kronen I'd rip that bo...\n",
              "youth in revolt             My name... is Nick. My last name, which I loat...\n",
              "zerophilia                  Are you all right? How did you even get here? ...\n",
              "zulu dawn                   NATAL. NIGHT. Reading aloud the letter he has ...\n",
              "\n",
              "[1068 rows x 1 columns]"
            ]
          },
          "metadata": {
            "tags": []
          },
          "execution_count": 7
        }
      ]
    },
    {
      "cell_type": "code",
      "metadata": {
        "id": "5VIP-pseO1gN",
        "colab_type": "code",
        "colab": {}
      },
      "source": [
        "stop_words = set(stopwords.words(\"english\"))\n",
        "\n",
        "def rm_stop_and_tokenize(x, join=True, remove_stop=True):\n",
        "  x = re.sub('\\W+', ' ', x)\n",
        "  wnl = WordNetLemmatizer()\n",
        "  ps = PorterStemmer()\n",
        "  if remove_stop:\n",
        "    string = \" \".join([wnl.lemmatize(ps.stem(word)).lower() for word in x.split() if word.lower() not in stop_words])\n",
        "  else:\n",
        "    string = \" \".join([wnl.lemmatize(ps.stem(word)).lower() for word in x.split()])\n",
        "  tokens = word_tokenize(string)\n",
        "  if join:\n",
        "    return \" \".join(tokens)\n",
        "  return tokens"
      ],
      "execution_count": 0,
      "outputs": []
    },
    {
      "cell_type": "code",
      "metadata": {
        "id": "_K6EU003Ra6m",
        "colab_type": "code",
        "colab": {}
      },
      "source": [
        "corpora[\"tokenized\"] = corpora[\"script\"].apply(lambda x: rm_stop_and_tokenize(x))"
      ],
      "execution_count": 0,
      "outputs": []
    },
    {
      "cell_type": "code",
      "metadata": {
        "id": "LpwBa8ZzSNCm",
        "colab_type": "code",
        "outputId": "805deab8-0686-464b-9184-d2697ec20d32",
        "colab": {
          "base_uri": "https://localhost:8080/",
          "height": 450
        }
      },
      "source": [
        "corpora"
      ],
      "execution_count": 10,
      "outputs": [
        {
          "output_type": "execute_result",
          "data": {
            "text/html": [
              "<div>\n",
              "<style scoped>\n",
              "    .dataframe tbody tr th:only-of-type {\n",
              "        vertical-align: middle;\n",
              "    }\n",
              "\n",
              "    .dataframe tbody tr th {\n",
              "        vertical-align: top;\n",
              "    }\n",
              "\n",
              "    .dataframe thead th {\n",
              "        text-align: right;\n",
              "    }\n",
              "</style>\n",
              "<table border=\"1\" class=\"dataframe\">\n",
              "  <thead>\n",
              "    <tr style=\"text-align: right;\">\n",
              "      <th></th>\n",
              "      <th>script</th>\n",
              "      <th>tokenized</th>\n",
              "    </tr>\n",
              "    <tr>\n",
              "      <th>movie_title</th>\n",
              "      <th></th>\n",
              "      <th></th>\n",
              "    </tr>\n",
              "  </thead>\n",
              "  <tbody>\n",
              "    <tr>\n",
              "      <th>\"murderland\"</th>\n",
              "      <td>Ladies and gentlemen, the official mascot of M...</td>\n",
              "      <td>ladi gentleman offici mascot murderland scrap ...</td>\n",
              "    </tr>\n",
              "    <tr>\n",
              "      <th>10 things i hate about you</th>\n",
              "      <td>Hey -- sorry. Leave it Did you change your hai...</td>\n",
              "      <td>hey sorri leav chang hair might wan na think h...</td>\n",
              "    </tr>\n",
              "    <tr>\n",
              "      <th>1492: conquest of paradise</th>\n",
              "      <td>Your Majesty would wish to know the true facts...</td>\n",
              "      <td>majesti would wish know true fact concern isla...</td>\n",
              "    </tr>\n",
              "    <tr>\n",
              "      <th>15 minutes</th>\n",
              "      <td>Just do what I do.  Say the same thing I say. ...</td>\n",
              "      <td>say thing say open mouth okay fool around okay...</td>\n",
              "    </tr>\n",
              "    <tr>\n",
              "      <th>2001: a space odyssey</th>\n",
              "      <td>AFRICA 3,000,000 YEARS AGO -------------------...</td>\n",
              "      <td>africa 3 000 000 year ago a1 view african dryl...</td>\n",
              "    </tr>\n",
              "    <tr>\n",
              "      <th>...</th>\n",
              "      <td>...</td>\n",
              "      <td>...</td>\n",
              "    </tr>\n",
              "    <tr>\n",
              "      <th>you've got mail</th>\n",
              "      <td>Good morning. Listen to this -- the entire wor...</td>\n",
              "      <td>good morn listen entir work forc state virgini...</td>\n",
              "    </tr>\n",
              "    <tr>\n",
              "      <th>young frankenstein</th>\n",
              "      <td>Fumbling fool!  For two kronen I'd rip that bo...</td>\n",
              "      <td>fumbl fool two krone rip box fight hand shhh h...</td>\n",
              "    </tr>\n",
              "    <tr>\n",
              "      <th>youth in revolt</th>\n",
              "      <td>My name... is Nick. My last name, which I loat...</td>\n",
              "      <td>name nick last name loath twisp next thing kno...</td>\n",
              "    </tr>\n",
              "    <tr>\n",
              "      <th>zerophilia</th>\n",
              "      <td>Are you all right? How did you even get here? ...</td>\n",
              "      <td>right even get road sorri utah okay alon husba...</td>\n",
              "    </tr>\n",
              "    <tr>\n",
              "      <th>zulu dawn</th>\n",
              "      <td>NATAL. NIGHT. Reading aloud the letter he has ...</td>\n",
              "      <td>natal night read aloud letter written continu ...</td>\n",
              "    </tr>\n",
              "  </tbody>\n",
              "</table>\n",
              "<p>1068 rows × 2 columns</p>\n",
              "</div>"
            ],
            "text/plain": [
              "                                                                       script                                          tokenized\n",
              "movie_title                                                                                                                     \n",
              "\"murderland\"                Ladies and gentlemen, the official mascot of M...  ladi gentleman offici mascot murderland scrap ...\n",
              "10 things i hate about you  Hey -- sorry. Leave it Did you change your hai...  hey sorri leav chang hair might wan na think h...\n",
              "1492: conquest of paradise  Your Majesty would wish to know the true facts...  majesti would wish know true fact concern isla...\n",
              "15 minutes                  Just do what I do.  Say the same thing I say. ...  say thing say open mouth okay fool around okay...\n",
              "2001: a space odyssey       AFRICA 3,000,000 YEARS AGO -------------------...  africa 3 000 000 year ago a1 view african dryl...\n",
              "...                                                                       ...                                                ...\n",
              "you've got mail             Good morning. Listen to this -- the entire wor...  good morn listen entir work forc state virgini...\n",
              "young frankenstein          Fumbling fool!  For two kronen I'd rip that bo...  fumbl fool two krone rip box fight hand shhh h...\n",
              "youth in revolt             My name... is Nick. My last name, which I loat...  name nick last name loath twisp next thing kno...\n",
              "zerophilia                  Are you all right? How did you even get here? ...  right even get road sorri utah okay alon husba...\n",
              "zulu dawn                   NATAL. NIGHT. Reading aloud the letter he has ...  natal night read aloud letter written continu ...\n",
              "\n",
              "[1068 rows x 2 columns]"
            ]
          },
          "metadata": {
            "tags": []
          },
          "execution_count": 10
        }
      ]
    },
    {
      "cell_type": "code",
      "metadata": {
        "id": "-iXpWdVp8qZU",
        "colab_type": "code",
        "colab": {}
      },
      "source": [
        "X = Pipeline([\n",
        "              (\"vect\", CountVectorizer(max_features=962, ngram_range=(1,3))),\n",
        "              (\"tfidf\", TfidfTransformer(use_idf=False)),\n",
        "              (\"to_dense\", FunctionTransformer(lambda x: x.toarray(), accept_sparse=True)),\n",
        "              ])\n",
        "X = X.fit_transform(corpora[\"tokenized\"])"
      ],
      "execution_count": 0,
      "outputs": []
    },
    {
      "cell_type": "code",
      "metadata": {
        "id": "y3armA4T_j6h",
        "colab_type": "code",
        "outputId": "ef38416c-7d90-44d6-c8f4-ca0e8013dcdc",
        "colab": {
          "base_uri": "https://localhost:8080/",
          "height": 136
        }
      },
      "source": [
        "range_n_clusters = range(2,9)\n",
        "\n",
        "for n_clusters in range_n_clusters:\n",
        "  kmeans = KMeans(n_clusters=n_clusters)\n",
        "  cluster_labels = kmeans.fit_predict(X)\n",
        "\n",
        "  silhouette_avg = silhouette_score(X, cluster_labels)\n",
        "  print(\"For n_clusters =\", n_clusters,\n",
        "        \"The average silhouette_score is :\", silhouette_avg)"
      ],
      "execution_count": 12,
      "outputs": [
        {
          "output_type": "stream",
          "text": [
            "For n_clusters = 2 The average silhouette_score is : 0.09125611906937699\n",
            "For n_clusters = 3 The average silhouette_score is : 0.048069064070580425\n",
            "For n_clusters = 4 The average silhouette_score is : 0.04037415544191504\n",
            "For n_clusters = 5 The average silhouette_score is : 0.025838270267905524\n",
            "For n_clusters = 6 The average silhouette_score is : 0.022422719368333732\n",
            "For n_clusters = 7 The average silhouette_score is : 0.020696652463980475\n",
            "For n_clusters = 8 The average silhouette_score is : 0.021416186101949772\n"
          ],
          "name": "stdout"
        }
      ]
    },
    {
      "cell_type": "code",
      "metadata": {
        "id": "8Dviai0oquQJ",
        "colab_type": "code",
        "outputId": "a2e94c4d-4b29-4aec-a2fe-58b85c56b5d8",
        "colab": {
          "base_uri": "https://localhost:8080/",
          "height": 34
        }
      },
      "source": [
        "X.shape"
      ],
      "execution_count": 13,
      "outputs": [
        {
          "output_type": "execute_result",
          "data": {
            "text/plain": [
              "(1068, 962)"
            ]
          },
          "metadata": {
            "tags": []
          },
          "execution_count": 13
        }
      ]
    },
    {
      "cell_type": "code",
      "metadata": {
        "id": "FgbVPMIrYJiR",
        "colab_type": "code",
        "colab": {}
      },
      "source": [
        "kmeans = KMeans(n_clusters=2)\n",
        "cluster_labels = kmeans.fit_predict(X)"
      ],
      "execution_count": 0,
      "outputs": []
    },
    {
      "cell_type": "code",
      "metadata": {
        "id": "IMgKtT46p8MZ",
        "colab_type": "code",
        "colab": {}
      },
      "source": [
        "euc_arr0 = []\n",
        "euc_arr1 = []\n",
        "# euc_arr2 = []\n",
        "for movie in X:\n",
        "  euc_arr0.append(distance.euclidean(movie, kmeans.cluster_centers_[0]))\n",
        "  euc_arr1.append(distance.euclidean(movie, kmeans.cluster_centers_[1]))\n",
        "  # euc_arr2.append(distance.euclidean(movie, kmeans.cluster_centers_[2]))\n",
        "euc_arr0 = np.array(euc_arr0)\n",
        "euc_arr1 = np.array(euc_arr1)\n",
        "# euc_arr2 = np.array(euc_arr2)"
      ],
      "execution_count": 0,
      "outputs": []
    },
    {
      "cell_type": "code",
      "metadata": {
        "id": "6BF6xRtwrHwh",
        "colab_type": "code",
        "outputId": "cbd41984-44c6-466a-9677-5357e955f7dd",
        "colab": {
          "base_uri": "https://localhost:8080/",
          "height": 85
        }
      },
      "source": [
        "kmeans.cluster_centers_"
      ],
      "execution_count": 16,
      "outputs": [
        {
          "output_type": "execute_result",
          "data": {
            "text/plain": [
              "array([[0.00791303, 0.00461243, 0.00534109, ..., 0.01799171, 0.00390327,\n",
              "        0.01746936],\n",
              "       [0.00662497, 0.00478238, 0.00303519, ..., 0.01328463, 0.00609378,\n",
              "        0.00952315]])"
            ]
          },
          "metadata": {
            "tags": []
          },
          "execution_count": 16
        }
      ]
    },
    {
      "cell_type": "code",
      "metadata": {
        "id": "_gr9yveNrzeY",
        "colab_type": "code",
        "outputId": "979760ed-9baa-42e2-94d5-cf53750645a9",
        "colab": {
          "base_uri": "https://localhost:8080/",
          "height": 34
        }
      },
      "source": [
        "np.mean(euc_arr0), np.mean(euc_arr1),# np.mean(euc_arr2)"
      ],
      "execution_count": 17,
      "outputs": [
        {
          "output_type": "execute_result",
          "data": {
            "text/plain": [
              "(0.6190806636373231, 0.5796758852378003)"
            ]
          },
          "metadata": {
            "tags": []
          },
          "execution_count": 17
        }
      ]
    },
    {
      "cell_type": "code",
      "metadata": {
        "id": "92bxUNZdqSD3",
        "colab_type": "code",
        "outputId": "ec979234-2701-4939-f206-72eca16fb9a5",
        "colab": {
          "base_uri": "https://localhost:8080/",
          "height": 424
        }
      },
      "source": [
        "print(euc_arr0[euc_arr0.argsort()[:10]])\n",
        "\n",
        "corpora.iloc[euc_arr0.argsort()[:10]]"
      ],
      "execution_count": 18,
      "outputs": [
        {
          "output_type": "stream",
          "text": [
            "[0.43768726 0.46100186 0.48198496 0.4855646  0.4860908  0.48697738\n",
            " 0.48707267 0.48709124 0.48751572 0.48807173]\n"
          ],
          "name": "stdout"
        },
        {
          "output_type": "execute_result",
          "data": {
            "text/html": [
              "<div>\n",
              "<style scoped>\n",
              "    .dataframe tbody tr th:only-of-type {\n",
              "        vertical-align: middle;\n",
              "    }\n",
              "\n",
              "    .dataframe tbody tr th {\n",
              "        vertical-align: top;\n",
              "    }\n",
              "\n",
              "    .dataframe thead th {\n",
              "        text-align: right;\n",
              "    }\n",
              "</style>\n",
              "<table border=\"1\" class=\"dataframe\">\n",
              "  <thead>\n",
              "    <tr style=\"text-align: right;\">\n",
              "      <th></th>\n",
              "      <th>script</th>\n",
              "      <th>tokenized</th>\n",
              "    </tr>\n",
              "    <tr>\n",
              "      <th>movie_title</th>\n",
              "      <th></th>\n",
              "      <th></th>\n",
              "    </tr>\n",
              "  </thead>\n",
              "  <tbody>\n",
              "    <tr>\n",
              "      <th>being human</th>\n",
              "      <td>4000 Warner Boulevard WARNER BROS. INC. Burban...</td>\n",
              "      <td>4000 warner boulevard warner bro inc burbank c...</td>\n",
              "    </tr>\n",
              "    <tr>\n",
              "      <th>g</th>\n",
              "      <td>... last few years have brought many advances ...</td>\n",
              "      <td>last year brought mani advanc interest woman n...</td>\n",
              "    </tr>\n",
              "    <tr>\n",
              "      <th>real genius</th>\n",
              "      <td>A Black B-1 Bomber banks steeply exposing its ...</td>\n",
              "      <td>black b 1 bomber bank steepli expo undersid u ...</td>\n",
              "    </tr>\n",
              "    <tr>\n",
              "      <th>cinema paradiso</th>\n",
              "      <td>...Salvatore, that's right, Salvatore. Di Vita...</td>\n",
              "      <td>salvator right salvator di vita salvator miss ...</td>\n",
              "    </tr>\n",
              "    <tr>\n",
              "      <th>sherlock holmes</th>\n",
              "      <td>The year was 1891. London was the capital of t...</td>\n",
              "      <td>year 1891 london capit world height modern his...</td>\n",
              "    </tr>\n",
              "    <tr>\n",
              "      <th>l'avventura</th>\n",
              "      <td>So, there you are... I've been upstairs lookin...</td>\n",
              "      <td>upstair look oh thought alreadi high sea yet d...</td>\n",
              "    </tr>\n",
              "    <tr>\n",
              "      <th>avventura, l' (the adventure)</th>\n",
              "      <td>So, there you are... I've been upstairs lookin...</td>\n",
              "      <td>upstair look oh thought alreadi high sea yet d...</td>\n",
              "    </tr>\n",
              "    <tr>\n",
              "      <th>bonfire of the vanities</th>\n",
              "      <td>Rev. 04/18/90 Rev. 04/25/90 Rev. 04/26/90 Rev....</td>\n",
              "      <td>rev 04 18 90 rev 04 25 90 rev 04 26 90 rev 05 ...</td>\n",
              "    </tr>\n",
              "    <tr>\n",
              "      <th>transatlantic merry-go-round</th>\n",
              "      <td>Large ocean liner, plowing through darkened wa...</td>\n",
              "      <td>larg ocean liner plow darken water deck portho...</td>\n",
              "    </tr>\n",
              "    <tr>\n",
              "      <th>twins</th>\n",
              "      <td>Re v. 07 /0 5/ 88 Re v. 07 /0 5/ 88 PM Re v. 0...</td>\n",
              "      <td>v 07 0 5 88 v 07 0 5 88 pm v 07 2 5 88 april 2...</td>\n",
              "    </tr>\n",
              "  </tbody>\n",
              "</table>\n",
              "</div>"
            ],
            "text/plain": [
              "                                                                          script                                          tokenized\n",
              "movie_title                                                                                                                        \n",
              "being human                    4000 Warner Boulevard WARNER BROS. INC. Burban...  4000 warner boulevard warner bro inc burbank c...\n",
              "g                              ... last few years have brought many advances ...  last year brought mani advanc interest woman n...\n",
              "real genius                    A Black B-1 Bomber banks steeply exposing its ...  black b 1 bomber bank steepli expo undersid u ...\n",
              "cinema paradiso                ...Salvatore, that's right, Salvatore. Di Vita...  salvator right salvator di vita salvator miss ...\n",
              "sherlock holmes                The year was 1891. London was the capital of t...  year 1891 london capit world height modern his...\n",
              "l'avventura                    So, there you are... I've been upstairs lookin...  upstair look oh thought alreadi high sea yet d...\n",
              "avventura, l' (the adventure)  So, there you are... I've been upstairs lookin...  upstair look oh thought alreadi high sea yet d...\n",
              "bonfire of the vanities        Rev. 04/18/90 Rev. 04/25/90 Rev. 04/26/90 Rev....  rev 04 18 90 rev 04 25 90 rev 04 26 90 rev 05 ...\n",
              "transatlantic merry-go-round   Large ocean liner, plowing through darkened wa...  larg ocean liner plow darken water deck portho...\n",
              "twins                          Re v. 07 /0 5/ 88 Re v. 07 /0 5/ 88 PM Re v. 0...  v 07 0 5 88 v 07 0 5 88 pm v 07 2 5 88 april 2..."
            ]
          },
          "metadata": {
            "tags": []
          },
          "execution_count": 18
        }
      ]
    },
    {
      "cell_type": "code",
      "metadata": {
        "id": "66qZH7siq7OP",
        "colab_type": "code",
        "outputId": "a5d88264-85c7-4850-b9e0-ecc4082c4494",
        "colab": {
          "base_uri": "https://localhost:8080/",
          "height": 424
        }
      },
      "source": [
        "print(euc_arr1[euc_arr1.argsort()[:10]])\n",
        "\n",
        "corpora.iloc[euc_arr1.argsort()[:10]]"
      ],
      "execution_count": 19,
      "outputs": [
        {
          "output_type": "stream",
          "text": [
            "[0.34979928 0.38104332 0.38640806 0.39324744 0.40043939 0.40234026\n",
            " 0.40323733 0.4063535  0.40764389 0.40791921]\n"
          ],
          "name": "stdout"
        },
        {
          "output_type": "execute_result",
          "data": {
            "text/html": [
              "<div>\n",
              "<style scoped>\n",
              "    .dataframe tbody tr th:only-of-type {\n",
              "        vertical-align: middle;\n",
              "    }\n",
              "\n",
              "    .dataframe tbody tr th {\n",
              "        vertical-align: top;\n",
              "    }\n",
              "\n",
              "    .dataframe thead th {\n",
              "        text-align: right;\n",
              "    }\n",
              "</style>\n",
              "<table border=\"1\" class=\"dataframe\">\n",
              "  <thead>\n",
              "    <tr style=\"text-align: right;\">\n",
              "      <th></th>\n",
              "      <th>script</th>\n",
              "      <th>tokenized</th>\n",
              "    </tr>\n",
              "    <tr>\n",
              "      <th>movie_title</th>\n",
              "      <th></th>\n",
              "      <th></th>\n",
              "    </tr>\n",
              "  </thead>\n",
              "  <tbody>\n",
              "    <tr>\n",
              "      <th>nurse betty</th>\n",
              "      <td>Close her up, will you? There's been a train c...</td>\n",
              "      <td>close train crash near santa barbara fli aorta...</td>\n",
              "    </tr>\n",
              "    <tr>\n",
              "      <th>good will hunting</th>\n",
              "      <td>Oh my God, I got the most fucked up thing I be...</td>\n",
              "      <td>oh god got fuck thing meanin tell oh jesu go g...</td>\n",
              "    </tr>\n",
              "    <tr>\n",
              "      <th>taxi driver</th>\n",
              "      <td>No trouble with the Hack Bureau? No Sir. Got y...</td>\n",
              "      <td>troubl hack bureau sir got licens ye want taxi...</td>\n",
              "    </tr>\n",
              "    <tr>\n",
              "      <th>observe and report</th>\n",
              "      <td>Ladies, please, we're doing everything we can ...</td>\n",
              "      <td>ladi plea everyth handl situat noth import u s...</td>\n",
              "    </tr>\n",
              "    <tr>\n",
              "      <th>body heat</th>\n",
              "      <td>October 6, 1980 My God, it's hot. I stepped ou...</td>\n",
              "      <td>octob 6 1980 god hot step shower stare sweat s...</td>\n",
              "    </tr>\n",
              "    <tr>\n",
              "      <th>wild things</th>\n",
              "      <td>When we graduate the only thing I'm going to m...</td>\n",
              "      <td>graduat thing go miss know mean kelli oh yeah ...</td>\n",
              "    </tr>\n",
              "    <tr>\n",
              "      <th>superman iii</th>\n",
              "      <td>Name? Gus Gorman. Ah yes, August Gorman. Have ...</td>\n",
              "      <td>name gu gorman ah ye august gorman look work w...</td>\n",
              "    </tr>\n",
              "    <tr>\n",
              "      <th>metro</th>\n",
              "      <td>...at the top of the stretch it's Cozy Girl in...</td>\n",
              "      <td>top stretch cozi girl front backtrack come coz...</td>\n",
              "    </tr>\n",
              "    <tr>\n",
              "      <th>strange days</th>\n",
              "      <td>Ready? Yeah. Boot it. Okay. It's goin'. I'm re...</td>\n",
              "      <td>readi yeah boot okay goin record good one dick...</td>\n",
              "    </tr>\n",
              "    <tr>\n",
              "      <th>as good as it gets</th>\n",
              "      <td>I'm just going to get some flowers, dear. I'll...</td>\n",
              "      <td>go get flower dear back twenti minut tulip sea...</td>\n",
              "    </tr>\n",
              "  </tbody>\n",
              "</table>\n",
              "</div>"
            ],
            "text/plain": [
              "                                                               script                                          tokenized\n",
              "movie_title                                                                                                             \n",
              "nurse betty         Close her up, will you? There's been a train c...  close train crash near santa barbara fli aorta...\n",
              "good will hunting   Oh my God, I got the most fucked up thing I be...  oh god got fuck thing meanin tell oh jesu go g...\n",
              "taxi driver         No trouble with the Hack Bureau? No Sir. Got y...  troubl hack bureau sir got licens ye want taxi...\n",
              "observe and report  Ladies, please, we're doing everything we can ...  ladi plea everyth handl situat noth import u s...\n",
              "body heat           October 6, 1980 My God, it's hot. I stepped ou...  octob 6 1980 god hot step shower stare sweat s...\n",
              "wild things         When we graduate the only thing I'm going to m...  graduat thing go miss know mean kelli oh yeah ...\n",
              "superman iii        Name? Gus Gorman. Ah yes, August Gorman. Have ...  name gu gorman ah ye august gorman look work w...\n",
              "metro               ...at the top of the stretch it's Cozy Girl in...  top stretch cozi girl front backtrack come coz...\n",
              "strange days        Ready? Yeah. Boot it. Okay. It's goin'. I'm re...  readi yeah boot okay goin record good one dick...\n",
              "as good as it gets  I'm just going to get some flowers, dear. I'll...  go get flower dear back twenti minut tulip sea..."
            ]
          },
          "metadata": {
            "tags": []
          },
          "execution_count": 19
        }
      ]
    },
    {
      "cell_type": "code",
      "metadata": {
        "id": "NgvMLBD4vlkp",
        "colab_type": "code",
        "colab": {}
      },
      "source": [
        "# print(euc_arr2[euc_arr2.argsort()[:5]])\n",
        "\n",
        "# corpora.iloc[euc_arr2.argsort()[:5]]"
      ],
      "execution_count": 0,
      "outputs": []
    },
    {
      "cell_type": "code",
      "metadata": {
        "id": "D-PU6j1Y1ZMu",
        "colab_type": "code",
        "colab": {}
      },
      "source": [
        "# pca = PCA(0.99)\n",
        "# X_train_pca = pca.fit_transform(X)"
      ],
      "execution_count": 0,
      "outputs": []
    },
    {
      "cell_type": "code",
      "metadata": {
        "id": "b8kNtdUZ1MXo",
        "colab_type": "code",
        "outputId": "008724c6-bb0f-4966-882c-d4bdae97450b",
        "colab": {
          "base_uri": "https://localhost:8080/",
          "height": 510
        }
      },
      "source": [
        "k_range = range(5, 150, 5)\n",
        "kmeans_per_k = []\n",
        "for k in k_range:\n",
        "    print(\"k={}\".format(k))\n",
        "    kmeans = KMeans(n_clusters=k).fit(X)\n",
        "    kmeans_per_k.append(kmeans)"
      ],
      "execution_count": 22,
      "outputs": [
        {
          "output_type": "stream",
          "text": [
            "k=5\n",
            "k=10\n",
            "k=15\n",
            "k=20\n",
            "k=25\n",
            "k=30\n",
            "k=35\n",
            "k=40\n",
            "k=45\n",
            "k=50\n",
            "k=55\n",
            "k=60\n",
            "k=65\n",
            "k=70\n",
            "k=75\n",
            "k=80\n",
            "k=85\n",
            "k=90\n",
            "k=95\n",
            "k=100\n",
            "k=105\n",
            "k=110\n",
            "k=115\n",
            "k=120\n",
            "k=125\n",
            "k=130\n",
            "k=135\n",
            "k=140\n",
            "k=145\n"
          ],
          "name": "stdout"
        }
      ]
    },
    {
      "cell_type": "code",
      "metadata": {
        "id": "v2S_i-EI18Cy",
        "colab_type": "code",
        "colab": {}
      },
      "source": [
        "silhouette_scores = [silhouette_score(X, model.labels_)\n",
        "                     for model in kmeans_per_k[1:]]"
      ],
      "execution_count": 0,
      "outputs": []
    },
    {
      "cell_type": "code",
      "metadata": {
        "id": "WijBT-eXq-V8",
        "colab_type": "code",
        "outputId": "aadb6174-9226-4d6c-afde-e024d9bb049b",
        "colab": {
          "base_uri": "https://localhost:8080/",
          "height": 570
        }
      },
      "source": [
        "plt.figure(figsize=(11, 9))\n",
        "\n",
        "for k in (3, 4, 5, 6):\n",
        "    plt.subplot(2, 2, k - 2)\n",
        "    \n",
        "    y_pred = kmeans_per_k[k - 1].labels_\n",
        "    silhouette_coefficients = silhouette_samples(X, y_pred)\n",
        "\n",
        "    padding = len(X) // 30\n",
        "    pos = padding\n",
        "    ticks = []\n",
        "    for i in range(k):\n",
        "        coeffs = silhouette_coefficients[y_pred == i]\n",
        "        coeffs.sort()\n",
        "\n",
        "        color = mpl.cm.Spectral(i / k)\n",
        "        plt.fill_betweenx(np.arange(pos, pos + len(coeffs)), 0, coeffs,\n",
        "                          facecolor=color, edgecolor=color, alpha=0.7)\n",
        "        ticks.append(pos + len(coeffs) // 2)\n",
        "        pos += len(coeffs) + padding\n",
        "\n",
        "    plt.gca().yaxis.set_major_locator(FixedLocator(ticks))\n",
        "    plt.gca().yaxis.set_major_formatter(FixedFormatter(range(k)))\n",
        "    if k in (3, 5):\n",
        "        plt.ylabel(\"Cluster\")\n",
        "    \n",
        "    if k in (5, 6):\n",
        "        plt.gca().set_xticks([-0.1, 0, 0.2, 0.4, 0.6, 0.8, 1])\n",
        "        plt.xlabel(\"Silhouette Coefficient\")\n",
        "    else:\n",
        "        plt.tick_params(labelbottom=False)\n",
        "\n",
        "    plt.axvline(x=silhouette_scores[k - 2], color=\"red\", linestyle=\"--\")\n",
        "    plt.title(\"$k={}$\".format(k), fontsize=16)\n",
        "\n",
        "# save_fig(\"silhouette_analysis_plot\")\n",
        "plt.show()"
      ],
      "execution_count": 24,
      "outputs": [
        {
          "output_type": "display_data",
          "data": {
            "image/png": "[encoded data removed]",
            "text/plain": [
              "<Figure size 792x648 with 4 Axes>"
            ]
          },
          "metadata": {
            "tags": []
          }
        }
      ]
    },
    {
      "cell_type": "code",
      "metadata": {
        "id": "wMYMgwteAt9X",
        "colab_type": "code",
        "colab": {}
      },
      "source": [
        "X2 = Pipeline([\n",
        "              (\"vect\", CountVectorizer(max_features=2, ngram_range=(1,3))),\n",
        "              (\"tfidf\", TfidfTransformer(use_idf=True)),\n",
        "              (\"to_dense\", FunctionTransformer(lambda x: x.toarray(), accept_sparse=True)),\n",
        "              ])\n",
        "X2 = X2.fit_transform(corpora[\"tokenized\"])"
      ],
      "execution_count": 0,
      "outputs": []
    },
    {
      "cell_type": "code",
      "metadata": {
        "id": "TZbT_PXY0r-E",
        "colab_type": "code",
        "outputId": "c9beceb7-aa0f-4dd3-848a-b8e949ca473f",
        "colab": {
          "base_uri": "https://localhost:8080/",
          "height": 102
        }
      },
      "source": [
        "gm = GaussianMixture(n_components=3, n_init=10)\n",
        "gm.fit(X2)"
      ],
      "execution_count": 26,
      "outputs": [
        {
          "output_type": "execute_result",
          "data": {
            "text/plain": [
              "GaussianMixture(covariance_type='full', init_params='kmeans', max_iter=100,\n",
              "                means_init=None, n_components=3, n_init=10,\n",
              "                precisions_init=None, random_state=None, reg_covar=1e-06,\n",
              "                tol=0.001, verbose=0, verbose_interval=10, warm_start=False,\n",
              "                weights_init=None)"
            ]
          },
          "metadata": {
            "tags": []
          },
          "execution_count": 26
        }
      ]
    },
    {
      "cell_type": "code",
      "metadata": {
        "id": "rrQpUHzv6D-L",
        "colab_type": "code",
        "colab": {}
      },
      "source": [
        "def plot_gaussian_mixture(clusterer, X, resolution=1000, show_ylabels=True):\n",
        "    mins = X.min(axis=0) - 0.1\n",
        "    maxs = X.max(axis=0) + 0.1\n",
        "    xx, yy = np.meshgrid(np.linspace(mins[0], maxs[0], resolution),\n",
        "                         np.linspace(mins[1], maxs[1], resolution))\n",
        "    Z = -clusterer.score_samples(np.c_[xx.ravel(), yy.ravel()])\n",
        "    Z = Z.reshape(xx.shape)\n",
        "\n",
        "    plt.contourf(xx, yy, Z,\n",
        "                 norm=LogNorm(vmin=1.0, vmax=30.0),\n",
        "                 levels=np.logspace(0, 2, 12))\n",
        "    plt.contour(xx, yy, Z,\n",
        "                norm=LogNorm(vmin=1.0, vmax=30.0),\n",
        "                levels=np.logspace(0, 2, 12),\n",
        "                linewidths=1, colors='k')\n",
        "\n",
        "    Z = clusterer.predict(np.c_[xx.ravel(), yy.ravel()])\n",
        "    Z = Z.reshape(xx.shape)\n",
        "    plt.contour(xx, yy, Z,\n",
        "                linewidths=2, colors='r', linestyles='dashed')\n",
        "    \n",
        "    plt.plot(X[:, 0], X[:, 1], 'k.', markersize=2)\n",
        "    plot_centroids(clusterer.means_, clusterer.weights_)\n",
        "\n",
        "    plt.xlabel(\"$x_1$\", fontsize=14)\n",
        "    if show_ylabels:\n",
        "        plt.ylabel(\"$x_2$\", fontsize=14, rotation=0)\n",
        "    else:\n",
        "        plt.tick_params(labelleft=False)\n"
      ],
      "execution_count": 0,
      "outputs": []
    },
    {
      "cell_type": "code",
      "metadata": {
        "id": "18JOXRZACV2r",
        "colab_type": "code",
        "colab": {}
      },
      "source": [
        "def plot_data(X):\n",
        "    plt.plot(X[:, 0], X[:, 1], 'k.', markersize=2)\n",
        "\n",
        "def plot_centroids(centroids, weights=None, circle_color='w', cross_color='k'):\n",
        "    if weights is not None:\n",
        "        centroids = centroids[weights > weights.max() / 10]\n",
        "    plt.scatter(centroids[:, 0], centroids[:, 1],\n",
        "                marker='o', s=30, linewidths=8,\n",
        "                color=circle_color, zorder=10, alpha=0.9)\n",
        "    plt.scatter(centroids[:, 0], centroids[:, 1],\n",
        "                marker='x', s=50, linewidths=50,\n",
        "                color=cross_color, zorder=11, alpha=1)\n",
        "\n",
        "def plot_decision_boundaries(clusterer, X, resolution=1000, show_centroids=True,\n",
        "                             show_xlabels=True, show_ylabels=True):\n",
        "    mins = X.min(axis=0) - 0.1\n",
        "    maxs = X.max(axis=0) + 0.1\n",
        "    xx, yy = np.meshgrid(np.linspace(mins[0], maxs[0], resolution),\n",
        "                         np.linspace(mins[1], maxs[1], resolution))\n",
        "    Z = clusterer.predict(np.c_[xx.ravel(), yy.ravel()])\n",
        "    Z = Z.reshape(xx.shape)\n",
        "\n",
        "    plt.contourf(Z, extent=(mins[0], maxs[0], mins[1], maxs[1]),\n",
        "                cmap=\"Pastel2\")\n",
        "    plt.contour(Z, extent=(mins[0], maxs[0], mins[1], maxs[1]),\n",
        "                linewidths=1, colors='k')\n",
        "    plot_data(X)\n",
        "    if show_centroids:\n",
        "        plot_centroids(clusterer.cluster_centers_)\n",
        "\n",
        "    if show_xlabels:\n",
        "        plt.xlabel(\"$x_1$\", fontsize=14)\n",
        "    else:\n",
        "        plt.tick_params(labelbottom=False)\n",
        "    if show_ylabels:\n",
        "        plt.ylabel(\"$x_2$\", fontsize=14, rotation=0)\n",
        "    else:\n",
        "        plt.tick_params(labelleft=False)\n"
      ],
      "execution_count": 0,
      "outputs": []
    },
    {
      "cell_type": "code",
      "metadata": {
        "id": "f4Xb4IRk6Zsq",
        "colab_type": "code",
        "outputId": "acef0dbf-13a7-4b88-f947-ecf860dbd2bb",
        "colab": {
          "base_uri": "https://localhost:8080/",
          "height": 352
        }
      },
      "source": [
        "plt.figure(figsize=(8, 4))\n",
        "\n",
        "plot_gaussian_mixture(gm, X2)\n",
        "\n",
        "# save_fig(\"gaussian_mixtures_plot\")\n",
        "plt.show()"
      ],
      "execution_count": 29,
      "outputs": [
        {
          "output_type": "stream",
          "text": [
            "/usr/local/lib/python3.6/dist-packages/ipykernel_launcher.py:11: UserWarning: Log scale: values of z <= 0 have been masked\n",
            "  # This is added back by InteractiveShellApp.init_path()\n",
            "/usr/local/lib/python3.6/dist-packages/ipykernel_launcher.py:15: UserWarning: Log scale: values of z <= 0 have been masked\n",
            "  from ipykernel import kernelapp as app\n"
          ],
          "name": "stderr"
        },
        {
          "output_type": "display_data",
          "data": {
            "image/png": "[encoded data removed]",
            "text/plain": [
              "<Figure size 576x288 with 1 Axes>"
            ]
          },
          "metadata": {
            "tags": []
          }
        }
      ]
    },
    {
      "cell_type": "code",
      "metadata": {
        "id": "6FEU2hdG6b21",
        "colab_type": "code",
        "outputId": "bdfd2fb0-8342-44d9-b104-254c066853b7",
        "colab": {
          "base_uri": "https://localhost:8080/",
          "height": 34
        }
      },
      "source": [
        "X.shape"
      ],
      "execution_count": 30,
      "outputs": [
        {
          "output_type": "execute_result",
          "data": {
            "text/plain": [
              "(1068, 962)"
            ]
          },
          "metadata": {
            "tags": []
          },
          "execution_count": 30
        }
      ]
    },
    {
      "cell_type": "code",
      "metadata": {
        "id": "a97IuNw0Dz8g",
        "colab_type": "code",
        "colab": {}
      },
      "source": [
        ""
      ],
      "execution_count": 0,
      "outputs": []
    }
  ]
}